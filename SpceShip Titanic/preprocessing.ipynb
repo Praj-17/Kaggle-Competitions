{
 "cells": [
  {
   "cell_type": "markdown",
   "metadata": {},
   "source": [
    "# SpaceShip Titanic"
   ]
  },
  {
   "cell_type": "code",
   "execution_count": 822,
   "metadata": {},
   "outputs": [],
   "source": [
    "import seaborn as sns\n",
    "import pandas as pd\n",
    "from sklearn.impute import KNNImputer, SimpleImputer"
   ]
  },
  {
   "cell_type": "code",
   "execution_count": 823,
   "metadata": {},
   "outputs": [],
   "source": [
    "\n",
    "\n",
    "train = pd.read_csv(r'data\\train.csv')\n",
    "test = pd.read_csv(r'data\\test.csv')"
   ]
  },
  {
   "cell_type": "code",
   "execution_count": 824,
   "metadata": {},
   "outputs": [
    {
     "data": {
      "text/plain": [
       "<AxesSubplot:>"
      ]
     },
     "execution_count": 824,
     "metadata": {},
     "output_type": "execute_result"
    },
    {
     "data": {
      "image/png": "[encoded data removed]",
      "text/plain": [
       "<Figure size 432x288 with 1 Axes>"
      ]
     },
     "metadata": {
      "needs_background": "light"
     },
     "output_type": "display_data"
    }
   ],
   "source": [
    "\n",
    "sns.heatmap(train.isnull(), yticklabels=False, cbar=False, cmap='viridis')"
   ]
  },
  {
   "cell_type": "code",
   "execution_count": 825,
   "metadata": {},
   "outputs": [],
   "source": [
    "\n",
    "def impute_by_KNN(df,column_name):\n",
    "    fact_col, lable = pd.factorize(df[column_name])\n",
    "    imputer = KNNImputer(n_neighbors=5, weights=\"uniform\", add_indicator = True)\n",
    "    imputedHomePlanet = imputer.fit_transform([fact_col])\n",
    "    imputedHomePlanet =  pd.DataFrame([lable[i] for i in imputedHomePlanet[0] ])\n",
    "    df.drop(columns=column_name, inplace=True)\n",
    "    df[column_name ] = imputedHomePlanet[0]\n",
    "    return df\n",
    "    "
   ]
  },
  {
   "cell_type": "code",
   "execution_count": 826,
   "metadata": {},
   "outputs": [],
   "source": [
    "def impute_by_Simple_mean(df, column_name:list):\n",
    "    imp = SimpleImputer( strategy='mean')\n",
    "    imp.fit(df[column_name])\n",
    "    transformed = imp.transform(df[column_name])\n",
    "    # print(transformed)\n",
    "    df = df.drop(df[column_name], axis = 1)\n",
    "    df[column_name ] = transformed\n",
    "    return df\n",
    "    \n",
    "    \n"
   ]
  },
  {
   "cell_type": "code",
   "execution_count": 827,
   "metadata": {},
   "outputs": [],
   "source": [
    "# to_impute_num = ['Age', 'RoomService', 'FoodCourt', 'ShoppingMall', 'Spa', 'VRDeck']\n",
    "# for i in to_impute_num:\n",
    "#     train = impute_by_Simple_mean(train, [i] )"
   ]
  },
  {
   "cell_type": "code",
   "execution_count": 828,
   "metadata": {},
   "outputs": [],
   "source": [
    "# to_impute_knn = ['HomePlanet', 'Destination', 'CryoSleep', 'VIP']\n",
    "# for i in to_impute_knn:\n",
    "#     train = impute_by_KNN(train,i)"
   ]
  },
  {
   "cell_type": "code",
   "execution_count": 829,
   "metadata": {},
   "outputs": [],
   "source": [
    "# factHome, lable = pd.factorize(train['HomePlanet'])\n",
    "# factHome"
   ]
  },
  {
   "cell_type": "code",
   "execution_count": 830,
   "metadata": {},
   "outputs": [],
   "source": [
    "# from sklearn.impute import KNNImputer\n",
    "# imputer = KNNImputer(n_neighbors=5, weights=\"uniform\", add_indicator = True)\n",
    "# imputedHomePlanet = imputer.fit_transform([factHome])"
   ]
  },
  {
   "cell_type": "code",
   "execution_count": 831,
   "metadata": {},
   "outputs": [
    {
     "data": {
      "text/plain": [
       "<AxesSubplot:>"
      ]
     },
     "execution_count": 831,
     "metadata": {},
     "output_type": "execute_result"
    },
    {
     "data": {
      "image/png": "[encoded data removed]",
      "text/plain": [
       "<Figure size 432x288 with 1 Axes>"
      ]
     },
     "metadata": {
      "needs_background": "light"
     },
     "output_type": "display_data"
    }
   ],
   "source": [
    "sns.heatmap(train.isnull(), yticklabels=False, cbar=False, cmap='viridis')"
   ]
  },
  {
   "cell_type": "code",
   "execution_count": null,
   "metadata": {},
   "outputs": [],
   "source": []
  },
  {
   "cell_type": "markdown",
   "metadata": {},
   "source": [
    "### Preserving Distict characters for Later Purpose"
   ]
  },
  {
   "cell_type": "code",
   "execution_count": 832,
   "metadata": {},
   "outputs": [],
   "source": [
    "\n",
    "def remove_missing_values(df, to_impute_num, to_impute_knn):\n",
    "    for i in to_impute_num:\n",
    "        df = impute_by_Simple_mean(df, [i] )\n",
    "    for i in to_impute_knn:\n",
    "        df = impute_by_KNN(df,i)\n",
    "    \n",
    "    return df\n",
    "    "
   ]
  },
  {
   "cell_type": "markdown",
   "metadata": {},
   "source": [
    "Now the dataset Does not have any Null Values"
   ]
  },
  {
   "cell_type": "code",
   "execution_count": 833,
   "metadata": {},
   "outputs": [],
   "source": [
    "to_impute_num = ['Age', 'RoomService', 'FoodCourt', 'ShoppingMall', 'Spa', 'VRDeck']\n",
    "to_impute_knn = ['HomePlanet', 'Destination', 'CryoSleep', 'VIP']"
   ]
  },
  {
   "cell_type": "code",
   "execution_count": 834,
   "metadata": {},
   "outputs": [
    {
     "name": "stderr",
     "output_type": "stream",
     "text": [
      "C:\\Users\\pwayk\\AppData\\Local\\Temp/ipykernel_2164/2146097444.py:5: FutureWarning: Indexing with a float is deprecated, and will raise an IndexError in pandas 2.0. You can manually convert to an integer key instead.\n",
      "  imputedHomePlanet =  pd.DataFrame([lable[i] for i in imputedHomePlanet[0] ])\n",
      "C:\\Users\\pwayk\\AppData\\Local\\Temp/ipykernel_2164/2146097444.py:5: FutureWarning: Indexing with a float is deprecated, and will raise an IndexError in pandas 2.0. You can manually convert to an integer key instead.\n",
      "  imputedHomePlanet =  pd.DataFrame([lable[i] for i in imputedHomePlanet[0] ])\n",
      "C:\\Users\\pwayk\\AppData\\Local\\Temp/ipykernel_2164/2146097444.py:5: FutureWarning: Indexing with a float is deprecated, and will raise an IndexError in pandas 2.0. You can manually convert to an integer key instead.\n",
      "  imputedHomePlanet =  pd.DataFrame([lable[i] for i in imputedHomePlanet[0] ])\n",
      "C:\\Users\\pwayk\\AppData\\Local\\Temp/ipykernel_2164/2146097444.py:5: FutureWarning: Indexing with a float is deprecated, and will raise an IndexError in pandas 2.0. You can manually convert to an integer key instead.\n",
      "  imputedHomePlanet =  pd.DataFrame([lable[i] for i in imputedHomePlanet[0] ])\n",
      "C:\\Users\\pwayk\\AppData\\Local\\Temp/ipykernel_2164/2146097444.py:5: FutureWarning: Indexing with a float is deprecated, and will raise an IndexError in pandas 2.0. You can manually convert to an integer key instead.\n",
      "  imputedHomePlanet =  pd.DataFrame([lable[i] for i in imputedHomePlanet[0] ])\n",
      "C:\\Users\\pwayk\\AppData\\Local\\Temp/ipykernel_2164/2146097444.py:5: FutureWarning: Indexing with a float is deprecated, and will raise an IndexError in pandas 2.0. You can manually convert to an integer key instead.\n",
      "  imputedHomePlanet =  pd.DataFrame([lable[i] for i in imputedHomePlanet[0] ])\n",
      "C:\\Users\\pwayk\\AppData\\Local\\Temp/ipykernel_2164/2146097444.py:5: FutureWarning: Indexing with a float is deprecated, and will raise an IndexError in pandas 2.0. You can manually convert to an integer key instead.\n",
      "  imputedHomePlanet =  pd.DataFrame([lable[i] for i in imputedHomePlanet[0] ])\n",
      "C:\\Users\\pwayk\\AppData\\Local\\Temp/ipykernel_2164/2146097444.py:5: FutureWarning: Indexing with a float is deprecated, and will raise an IndexError in pandas 2.0. You can manually convert to an integer key instead.\n",
      "  imputedHomePlanet =  pd.DataFrame([lable[i] for i in imputedHomePlanet[0] ])\n"
     ]
    }
   ],
   "source": [
    "train = remove_missing_values(train, to_impute_num, to_impute_knn)\n",
    "test =  remove_missing_values(test, to_impute_num, to_impute_knn)"
   ]
  },
  {
   "cell_type": "code",
   "execution_count": 835,
   "metadata": {},
   "outputs": [],
   "source": [
    "Name = train['Name']\n",
    "PassengerId =  train['PassengerId']\n",
    "Cabin = train['Cabin']\n",
    "train.drop(columns=['Name', 'PassengerId', 'Cabin'], inplace=True)"
   ]
  },
  {
   "cell_type": "markdown",
   "metadata": {},
   "source": [
    "Saving these columns for later use"
   ]
  },
  {
   "cell_type": "code",
   "execution_count": 836,
   "metadata": {},
   "outputs": [],
   "source": [
    "df = pd.DataFrame(columns=  ['Name', 'PassengerId', 'Cabin'] )\n",
    "df['Name'] = Name\n",
    "df['PassengerId'] = PassengerId\n",
    "df['Cabin'] = Cabin\n",
    "df.to_csv('preprocessed_data/train_saved_columns.csv')"
   ]
  },
  {
   "cell_type": "code",
   "execution_count": 837,
   "metadata": {},
   "outputs": [],
   "source": [
    "Name = test['Name']\n",
    "PassengerId =  test['PassengerId']\n",
    "Cabin = test['Cabin']\n",
    "test.drop(columns=['Name', 'PassengerId', 'Cabin'], inplace=True)"
   ]
  },
  {
   "cell_type": "code",
   "execution_count": 838,
   "metadata": {},
   "outputs": [],
   "source": [
    "df = pd.DataFrame(columns=  ['Name', 'PassengerId', 'Cabin'] )\n",
    "df['Name'] = Name\n",
    "df['PassengerId'] = PassengerId\n",
    "df['Cabin'] = Cabin\n",
    "df.to_csv('preprocessed_data/test_saved_columns.csv')"
   ]
  },
  {
   "cell_type": "code",
   "execution_count": null,
   "metadata": {},
   "outputs": [],
   "source": []
  },
  {
   "cell_type": "code",
   "execution_count": 839,
   "metadata": {},
   "outputs": [],
   "source": [
    "train.to_csv(r'preprocessed_data\\train_wo_missing.csv')\n",
    "test.to_csv(r'preprocessed_data\\test_wo_missing.csv')"
   ]
  },
  {
   "cell_type": "code",
   "execution_count": 840,
   "metadata": {},
   "outputs": [
    {
     "data": {
      "text/plain": [
       "<AxesSubplot:>"
      ]
     },
     "execution_count": 840,
     "metadata": {},
     "output_type": "execute_result"
    },
    {
     "data": {
      "image/png": "[encoded data removed]",
      "text/plain": [
       "<Figure size 432x288 with 1 Axes>"
      ]
     },
     "metadata": {
      "needs_background": "light"
     },
     "output_type": "display_data"
    }
   ],
   "source": [
    "\n",
    "sns.heatmap(train.isnull(), yticklabels=False, cbar=False, cmap='viridis')"
   ]
  },
  {
   "cell_type": "markdown",
   "metadata": {},
   "source": [
    "### Getting Dummies"
   ]
  },
  {
   "cell_type": "code",
   "execution_count": 841,
   "metadata": {},
   "outputs": [],
   "source": [
    "# dummies  = pd.get_dummies(train['HomePlanet'], drop_first = True)\n",
    "# dummies  = pd.get_dummies(train['HomePlanet'])"
   ]
  },
  {
   "cell_type": "code",
   "execution_count": 842,
   "metadata": {},
   "outputs": [
    {
     "data": {
      "text/plain": [
       "['HomePlanet', 'Destination', 'CryoSleep', 'VIP']"
      ]
     },
     "execution_count": 842,
     "metadata": {},
     "output_type": "execute_result"
    }
   ],
   "source": [
    "to_impute_knn"
   ]
  },
  {
   "cell_type": "code",
   "execution_count": 843,
   "metadata": {},
   "outputs": [],
   "source": [
    "def encode(df, to_impute_knn):\n",
    "    for i in to_impute_knn:\n",
    "        dummies  = pd.get_dummies(df[i], drop_first = True, prefix=i)\n",
    "        df = pd.concat([df,dummies], axis=1)\n",
    "        df= df.drop(i, axis = 1)\n",
    "    return df\n",
    "        \n",
    "    "
   ]
  },
  {
   "cell_type": "code",
   "execution_count": 844,
   "metadata": {},
   "outputs": [],
   "source": [
    "train = encode(train, to_impute_knn)\n",
    "test  = encode(test,to_impute_knn )"
   ]
  },
  {
   "cell_type": "code",
   "execution_count": 845,
   "metadata": {},
   "outputs": [],
   "source": [
    "train['Transported'], lable= pd.factorize(train['Transported'])"
   ]
  },
  {
   "cell_type": "code",
   "execution_count": 846,
   "metadata": {},
   "outputs": [],
   "source": [
    "train.to_csv(r'preprocessed_data\\train_encoded.csv')\n",
    "test.to_csv(r'preprocessed_data\\test_encoded.csv')"
   ]
  },
  {
   "cell_type": "code",
   "execution_count": 847,
   "metadata": {},
   "outputs": [
    {
     "data": {
      "text/html": [
       "<div>\n",
       "<style scoped>\n",
       "    .dataframe tbody tr th:only-of-type {\n",
       "        vertical-align: middle;\n",
       "    }\n",
       "\n",
       "    .dataframe tbody tr th {\n",
       "        vertical-align: top;\n",
       "    }\n",
       "\n",
       "    .dataframe thead th {\n",
       "        text-align: right;\n",
       "    }\n",
       "</style>\n",
       "<table border=\"1\" class=\"dataframe\">\n",
       "  <thead>\n",
       "    <tr style=\"text-align: right;\">\n",
       "      <th></th>\n",
       "      <th>Transported</th>\n",
       "      <th>Age</th>\n",
       "      <th>RoomService</th>\n",
       "      <th>FoodCourt</th>\n",
       "      <th>ShoppingMall</th>\n",
       "      <th>Spa</th>\n",
       "      <th>VRDeck</th>\n",
       "      <th>HomePlanet_Europa</th>\n",
       "      <th>HomePlanet_Mars</th>\n",
       "      <th>Destination_PSO J318.5-22</th>\n",
       "      <th>Destination_TRAPPIST-1e</th>\n",
       "      <th>CryoSleep_True</th>\n",
       "      <th>VIP_True</th>\n",
       "    </tr>\n",
       "  </thead>\n",
       "  <tbody>\n",
       "    <tr>\n",
       "      <th>0</th>\n",
       "      <td>0</td>\n",
       "      <td>39.0</td>\n",
       "      <td>0.0</td>\n",
       "      <td>0.0</td>\n",
       "      <td>0.0</td>\n",
       "      <td>0.0</td>\n",
       "      <td>0.0</td>\n",
       "      <td>1</td>\n",
       "      <td>0</td>\n",
       "      <td>0</td>\n",
       "      <td>1</td>\n",
       "      <td>0</td>\n",
       "      <td>0</td>\n",
       "    </tr>\n",
       "    <tr>\n",
       "      <th>1</th>\n",
       "      <td>1</td>\n",
       "      <td>24.0</td>\n",
       "      <td>109.0</td>\n",
       "      <td>9.0</td>\n",
       "      <td>25.0</td>\n",
       "      <td>549.0</td>\n",
       "      <td>44.0</td>\n",
       "      <td>0</td>\n",
       "      <td>0</td>\n",
       "      <td>0</td>\n",
       "      <td>1</td>\n",
       "      <td>0</td>\n",
       "      <td>0</td>\n",
       "    </tr>\n",
       "    <tr>\n",
       "      <th>2</th>\n",
       "      <td>0</td>\n",
       "      <td>58.0</td>\n",
       "      <td>43.0</td>\n",
       "      <td>3576.0</td>\n",
       "      <td>0.0</td>\n",
       "      <td>6715.0</td>\n",
       "      <td>49.0</td>\n",
       "      <td>1</td>\n",
       "      <td>0</td>\n",
       "      <td>0</td>\n",
       "      <td>1</td>\n",
       "      <td>0</td>\n",
       "      <td>1</td>\n",
       "    </tr>\n",
       "    <tr>\n",
       "      <th>3</th>\n",
       "      <td>0</td>\n",
       "      <td>33.0</td>\n",
       "      <td>0.0</td>\n",
       "      <td>1283.0</td>\n",
       "      <td>371.0</td>\n",
       "      <td>3329.0</td>\n",
       "      <td>193.0</td>\n",
       "      <td>1</td>\n",
       "      <td>0</td>\n",
       "      <td>0</td>\n",
       "      <td>1</td>\n",
       "      <td>0</td>\n",
       "      <td>0</td>\n",
       "    </tr>\n",
       "    <tr>\n",
       "      <th>4</th>\n",
       "      <td>1</td>\n",
       "      <td>16.0</td>\n",
       "      <td>303.0</td>\n",
       "      <td>70.0</td>\n",
       "      <td>151.0</td>\n",
       "      <td>565.0</td>\n",
       "      <td>2.0</td>\n",
       "      <td>0</td>\n",
       "      <td>0</td>\n",
       "      <td>0</td>\n",
       "      <td>1</td>\n",
       "      <td>0</td>\n",
       "      <td>0</td>\n",
       "    </tr>\n",
       "    <tr>\n",
       "      <th>...</th>\n",
       "      <td>...</td>\n",
       "      <td>...</td>\n",
       "      <td>...</td>\n",
       "      <td>...</td>\n",
       "      <td>...</td>\n",
       "      <td>...</td>\n",
       "      <td>...</td>\n",
       "      <td>...</td>\n",
       "      <td>...</td>\n",
       "      <td>...</td>\n",
       "      <td>...</td>\n",
       "      <td>...</td>\n",
       "      <td>...</td>\n",
       "    </tr>\n",
       "    <tr>\n",
       "      <th>8688</th>\n",
       "      <td>0</td>\n",
       "      <td>41.0</td>\n",
       "      <td>0.0</td>\n",
       "      <td>6819.0</td>\n",
       "      <td>0.0</td>\n",
       "      <td>1643.0</td>\n",
       "      <td>74.0</td>\n",
       "      <td>1</td>\n",
       "      <td>0</td>\n",
       "      <td>0</td>\n",
       "      <td>0</td>\n",
       "      <td>0</td>\n",
       "      <td>1</td>\n",
       "    </tr>\n",
       "    <tr>\n",
       "      <th>8689</th>\n",
       "      <td>0</td>\n",
       "      <td>18.0</td>\n",
       "      <td>0.0</td>\n",
       "      <td>0.0</td>\n",
       "      <td>0.0</td>\n",
       "      <td>0.0</td>\n",
       "      <td>0.0</td>\n",
       "      <td>0</td>\n",
       "      <td>0</td>\n",
       "      <td>1</td>\n",
       "      <td>0</td>\n",
       "      <td>1</td>\n",
       "      <td>0</td>\n",
       "    </tr>\n",
       "    <tr>\n",
       "      <th>8690</th>\n",
       "      <td>1</td>\n",
       "      <td>26.0</td>\n",
       "      <td>0.0</td>\n",
       "      <td>0.0</td>\n",
       "      <td>1872.0</td>\n",
       "      <td>1.0</td>\n",
       "      <td>0.0</td>\n",
       "      <td>0</td>\n",
       "      <td>0</td>\n",
       "      <td>0</td>\n",
       "      <td>1</td>\n",
       "      <td>0</td>\n",
       "      <td>0</td>\n",
       "    </tr>\n",
       "    <tr>\n",
       "      <th>8691</th>\n",
       "      <td>0</td>\n",
       "      <td>32.0</td>\n",
       "      <td>0.0</td>\n",
       "      <td>1049.0</td>\n",
       "      <td>0.0</td>\n",
       "      <td>353.0</td>\n",
       "      <td>3235.0</td>\n",
       "      <td>1</td>\n",
       "      <td>0</td>\n",
       "      <td>0</td>\n",
       "      <td>0</td>\n",
       "      <td>0</td>\n",
       "      <td>0</td>\n",
       "    </tr>\n",
       "    <tr>\n",
       "      <th>8692</th>\n",
       "      <td>1</td>\n",
       "      <td>44.0</td>\n",
       "      <td>126.0</td>\n",
       "      <td>4688.0</td>\n",
       "      <td>0.0</td>\n",
       "      <td>0.0</td>\n",
       "      <td>12.0</td>\n",
       "      <td>1</td>\n",
       "      <td>0</td>\n",
       "      <td>0</td>\n",
       "      <td>1</td>\n",
       "      <td>0</td>\n",
       "      <td>0</td>\n",
       "    </tr>\n",
       "  </tbody>\n",
       "</table>\n",
       "<p>8693 rows × 13 columns</p>\n",
       "</div>"
      ],
      "text/plain": [
       "      Transported   Age  RoomService  FoodCourt  ShoppingMall     Spa  VRDeck  \\\n",
       "0               0  39.0          0.0        0.0           0.0     0.0     0.0   \n",
       "1               1  24.0        109.0        9.0          25.0   549.0    44.0   \n",
       "2               0  58.0         43.0     3576.0           0.0  6715.0    49.0   \n",
       "3               0  33.0          0.0     1283.0         371.0  3329.0   193.0   \n",
       "4               1  16.0        303.0       70.0         151.0   565.0     2.0   \n",
       "...           ...   ...          ...        ...           ...     ...     ...   \n",
       "8688            0  41.0          0.0     6819.0           0.0  1643.0    74.0   \n",
       "8689            0  18.0          0.0        0.0           0.0     0.0     0.0   \n",
       "8690            1  26.0          0.0        0.0        1872.0     1.0     0.0   \n",
       "8691            0  32.0          0.0     1049.0           0.0   353.0  3235.0   \n",
       "8692            1  44.0        126.0     4688.0           0.0     0.0    12.0   \n",
       "\n",
       "      HomePlanet_Europa  HomePlanet_Mars  Destination_PSO J318.5-22  \\\n",
       "0                     1                0                          0   \n",
       "1                     0                0                          0   \n",
       "2                     1                0                          0   \n",
       "3                     1                0                          0   \n",
       "4                     0                0                          0   \n",
       "...                 ...              ...                        ...   \n",
       "8688                  1                0                          0   \n",
       "8689                  0                0                          1   \n",
       "8690                  0                0                          0   \n",
       "8691                  1                0                          0   \n",
       "8692                  1                0                          0   \n",
       "\n",
       "      Destination_TRAPPIST-1e  CryoSleep_True  VIP_True  \n",
       "0                           1               0         0  \n",
       "1                           1               0         0  \n",
       "2                           1               0         1  \n",
       "3                           1               0         0  \n",
       "4                           1               0         0  \n",
       "...                       ...             ...       ...  \n",
       "8688                        0               0         1  \n",
       "8689                        0               1         0  \n",
       "8690                        1               0         0  \n",
       "8691                        0               0         0  \n",
       "8692                        1               0         0  \n",
       "\n",
       "[8693 rows x 13 columns]"
      ]
     },
     "execution_count": 847,
     "metadata": {},
     "output_type": "execute_result"
    }
   ],
   "source": [
    "train"
   ]
  },
  {
   "cell_type": "code",
   "execution_count": 848,
   "metadata": {},
   "outputs": [
    {
     "data": {
      "text/html": [
       "<div>\n",
       "<style scoped>\n",
       "    .dataframe tbody tr th:only-of-type {\n",
       "        vertical-align: middle;\n",
       "    }\n",
       "\n",
       "    .dataframe tbody tr th {\n",
       "        vertical-align: top;\n",
       "    }\n",
       "\n",
       "    .dataframe thead th {\n",
       "        text-align: right;\n",
       "    }\n",
       "</style>\n",
       "<table border=\"1\" class=\"dataframe\">\n",
       "  <thead>\n",
       "    <tr style=\"text-align: right;\">\n",
       "      <th></th>\n",
       "      <th>Age</th>\n",
       "      <th>RoomService</th>\n",
       "      <th>FoodCourt</th>\n",
       "      <th>ShoppingMall</th>\n",
       "      <th>Spa</th>\n",
       "      <th>VRDeck</th>\n",
       "      <th>HomePlanet_Europa</th>\n",
       "      <th>HomePlanet_Mars</th>\n",
       "      <th>Destination_PSO J318.5-22</th>\n",
       "      <th>Destination_TRAPPIST-1e</th>\n",
       "      <th>CryoSleep_True</th>\n",
       "      <th>VIP_True</th>\n",
       "    </tr>\n",
       "  </thead>\n",
       "  <tbody>\n",
       "    <tr>\n",
       "      <th>0</th>\n",
       "      <td>27.000000</td>\n",
       "      <td>0.0</td>\n",
       "      <td>0.0</td>\n",
       "      <td>0.0</td>\n",
       "      <td>0.0</td>\n",
       "      <td>0.0</td>\n",
       "      <td>0</td>\n",
       "      <td>0</td>\n",
       "      <td>0</td>\n",
       "      <td>1</td>\n",
       "      <td>1</td>\n",
       "      <td>0</td>\n",
       "    </tr>\n",
       "    <tr>\n",
       "      <th>1</th>\n",
       "      <td>19.000000</td>\n",
       "      <td>0.0</td>\n",
       "      <td>9.0</td>\n",
       "      <td>0.0</td>\n",
       "      <td>2823.0</td>\n",
       "      <td>0.0</td>\n",
       "      <td>0</td>\n",
       "      <td>0</td>\n",
       "      <td>0</td>\n",
       "      <td>1</td>\n",
       "      <td>0</td>\n",
       "      <td>0</td>\n",
       "    </tr>\n",
       "    <tr>\n",
       "      <th>2</th>\n",
       "      <td>31.000000</td>\n",
       "      <td>0.0</td>\n",
       "      <td>0.0</td>\n",
       "      <td>0.0</td>\n",
       "      <td>0.0</td>\n",
       "      <td>0.0</td>\n",
       "      <td>1</td>\n",
       "      <td>0</td>\n",
       "      <td>0</td>\n",
       "      <td>0</td>\n",
       "      <td>1</td>\n",
       "      <td>0</td>\n",
       "    </tr>\n",
       "    <tr>\n",
       "      <th>3</th>\n",
       "      <td>38.000000</td>\n",
       "      <td>0.0</td>\n",
       "      <td>6652.0</td>\n",
       "      <td>0.0</td>\n",
       "      <td>181.0</td>\n",
       "      <td>585.0</td>\n",
       "      <td>1</td>\n",
       "      <td>0</td>\n",
       "      <td>0</td>\n",
       "      <td>1</td>\n",
       "      <td>0</td>\n",
       "      <td>0</td>\n",
       "    </tr>\n",
       "    <tr>\n",
       "      <th>4</th>\n",
       "      <td>20.000000</td>\n",
       "      <td>10.0</td>\n",
       "      <td>0.0</td>\n",
       "      <td>635.0</td>\n",
       "      <td>0.0</td>\n",
       "      <td>0.0</td>\n",
       "      <td>0</td>\n",
       "      <td>0</td>\n",
       "      <td>0</td>\n",
       "      <td>1</td>\n",
       "      <td>0</td>\n",
       "      <td>0</td>\n",
       "    </tr>\n",
       "    <tr>\n",
       "      <th>...</th>\n",
       "      <td>...</td>\n",
       "      <td>...</td>\n",
       "      <td>...</td>\n",
       "      <td>...</td>\n",
       "      <td>...</td>\n",
       "      <td>...</td>\n",
       "      <td>...</td>\n",
       "      <td>...</td>\n",
       "      <td>...</td>\n",
       "      <td>...</td>\n",
       "      <td>...</td>\n",
       "      <td>...</td>\n",
       "    </tr>\n",
       "    <tr>\n",
       "      <th>4272</th>\n",
       "      <td>34.000000</td>\n",
       "      <td>0.0</td>\n",
       "      <td>0.0</td>\n",
       "      <td>0.0</td>\n",
       "      <td>0.0</td>\n",
       "      <td>0.0</td>\n",
       "      <td>0</td>\n",
       "      <td>0</td>\n",
       "      <td>0</td>\n",
       "      <td>1</td>\n",
       "      <td>1</td>\n",
       "      <td>0</td>\n",
       "    </tr>\n",
       "    <tr>\n",
       "      <th>4273</th>\n",
       "      <td>42.000000</td>\n",
       "      <td>0.0</td>\n",
       "      <td>847.0</td>\n",
       "      <td>17.0</td>\n",
       "      <td>10.0</td>\n",
       "      <td>144.0</td>\n",
       "      <td>0</td>\n",
       "      <td>0</td>\n",
       "      <td>0</td>\n",
       "      <td>1</td>\n",
       "      <td>0</td>\n",
       "      <td>0</td>\n",
       "    </tr>\n",
       "    <tr>\n",
       "      <th>4274</th>\n",
       "      <td>28.658146</td>\n",
       "      <td>0.0</td>\n",
       "      <td>0.0</td>\n",
       "      <td>0.0</td>\n",
       "      <td>0.0</td>\n",
       "      <td>0.0</td>\n",
       "      <td>0</td>\n",
       "      <td>1</td>\n",
       "      <td>0</td>\n",
       "      <td>0</td>\n",
       "      <td>1</td>\n",
       "      <td>0</td>\n",
       "    </tr>\n",
       "    <tr>\n",
       "      <th>4275</th>\n",
       "      <td>28.658146</td>\n",
       "      <td>0.0</td>\n",
       "      <td>2680.0</td>\n",
       "      <td>0.0</td>\n",
       "      <td>0.0</td>\n",
       "      <td>523.0</td>\n",
       "      <td>1</td>\n",
       "      <td>0</td>\n",
       "      <td>1</td>\n",
       "      <td>0</td>\n",
       "      <td>0</td>\n",
       "      <td>0</td>\n",
       "    </tr>\n",
       "    <tr>\n",
       "      <th>4276</th>\n",
       "      <td>43.000000</td>\n",
       "      <td>0.0</td>\n",
       "      <td>0.0</td>\n",
       "      <td>0.0</td>\n",
       "      <td>0.0</td>\n",
       "      <td>0.0</td>\n",
       "      <td>0</td>\n",
       "      <td>0</td>\n",
       "      <td>1</td>\n",
       "      <td>0</td>\n",
       "      <td>1</td>\n",
       "      <td>0</td>\n",
       "    </tr>\n",
       "  </tbody>\n",
       "</table>\n",
       "<p>4277 rows × 12 columns</p>\n",
       "</div>"
      ],
      "text/plain": [
       "            Age  RoomService  FoodCourt  ShoppingMall     Spa  VRDeck  \\\n",
       "0     27.000000          0.0        0.0           0.0     0.0     0.0   \n",
       "1     19.000000          0.0        9.0           0.0  2823.0     0.0   \n",
       "2     31.000000          0.0        0.0           0.0     0.0     0.0   \n",
       "3     38.000000          0.0     6652.0           0.0   181.0   585.0   \n",
       "4     20.000000         10.0        0.0         635.0     0.0     0.0   \n",
       "...         ...          ...        ...           ...     ...     ...   \n",
       "4272  34.000000          0.0        0.0           0.0     0.0     0.0   \n",
       "4273  42.000000          0.0      847.0          17.0    10.0   144.0   \n",
       "4274  28.658146          0.0        0.0           0.0     0.0     0.0   \n",
       "4275  28.658146          0.0     2680.0           0.0     0.0   523.0   \n",
       "4276  43.000000          0.0        0.0           0.0     0.0     0.0   \n",
       "\n",
       "      HomePlanet_Europa  HomePlanet_Mars  Destination_PSO J318.5-22  \\\n",
       "0                     0                0                          0   \n",
       "1                     0                0                          0   \n",
       "2                     1                0                          0   \n",
       "3                     1                0                          0   \n",
       "4                     0                0                          0   \n",
       "...                 ...              ...                        ...   \n",
       "4272                  0                0                          0   \n",
       "4273                  0                0                          0   \n",
       "4274                  0                1                          0   \n",
       "4275                  1                0                          1   \n",
       "4276                  0                0                          1   \n",
       "\n",
       "      Destination_TRAPPIST-1e  CryoSleep_True  VIP_True  \n",
       "0                           1               1         0  \n",
       "1                           1               0         0  \n",
       "2                           0               1         0  \n",
       "3                           1               0         0  \n",
       "4                           1               0         0  \n",
       "...                       ...             ...       ...  \n",
       "4272                        1               1         0  \n",
       "4273                        1               0         0  \n",
       "4274                        0               1         0  \n",
       "4275                        0               0         0  \n",
       "4276                        0               1         0  \n",
       "\n",
       "[4277 rows x 12 columns]"
      ]
     },
     "execution_count": 848,
     "metadata": {},
     "output_type": "execute_result"
    }
   ],
   "source": [
    "test"
   ]
  },
  {
   "cell_type": "markdown",
   "metadata": {},
   "source": [
    "# Outlier Detection"
   ]
  },
  {
   "cell_type": "code",
   "execution_count": 849,
   "metadata": {},
   "outputs": [],
   "source": [
    "import matplotlib.pyplot as plt"
   ]
  },
  {
   "cell_type": "code",
   "execution_count": null,
   "metadata": {},
   "outputs": [],
   "source": []
  },
  {
   "cell_type": "code",
   "execution_count": 850,
   "metadata": {},
   "outputs": [],
   "source": [
    "df = pd.read_csv(r'preprocessed_data\\train_saved_columns.csv')\n",
    "column = 'Age'\n",
    "    # print( train[column].shape, PassengerId.shape)\n",
    "\n",
    "df1 = pd.read_csv(r'preprocessed_data\\train_saved_columns.csv')\n",
    "df2 = pd.read_csv(r'preprocessed_data\\train_encoded.csv')\n",
    "\n",
    "# sns.scatterplot(x = df2['Age'], y = df1['PassengerId'])\n",
    "    "
   ]
  },
  {
   "cell_type": "code",
   "execution_count": 851,
   "metadata": {},
   "outputs": [],
   "source": [
    "df2['PassengerId'] = df1['PassengerId']"
   ]
  },
  {
   "cell_type": "code",
   "execution_count": 852,
   "metadata": {},
   "outputs": [
    {
     "data": {
      "text/plain": [
       "<AxesSubplot:xlabel='RoomService', ylabel='Count'>"
      ]
     },
     "execution_count": 852,
     "metadata": {},
     "output_type": "execute_result"
    },
    {
     "data": {
      "image/png": "[encoded data removed]",
      "text/plain": [
       "<Figure size 432x288 with 1 Axes>"
      ]
     },
     "metadata": {
      "needs_background": "light"
     },
     "output_type": "display_data"
    }
   ],
   "source": [
    "sns.histplot(data = df2 ,  x = 'RoomService'  )"
   ]
  },
  {
   "cell_type": "code",
   "execution_count": 853,
   "metadata": {},
   "outputs": [
    {
     "data": {
      "text/plain": [
       "{'whiskers': [<matplotlib.lines.Line2D at 0x20f2975f940>,\n",
       "  <matplotlib.lines.Line2D at 0x20f2975fc10>],\n",
       " 'caps': [<matplotlib.lines.Line2D at 0x20f2975fee0>,\n",
       "  <matplotlib.lines.Line2D at 0x20f2983a1f0>],\n",
       " 'boxes': [<matplotlib.lines.Line2D at 0x20f2975f610>],\n",
       " 'medians': [<matplotlib.lines.Line2D at 0x20f2983a4c0>],\n",
       " 'fliers': [<matplotlib.lines.Line2D at 0x20f2983a790>],\n",
       " 'means': []}"
      ]
     },
     "execution_count": 853,
     "metadata": {},
     "output_type": "execute_result"
    },
    {
     "data": {
      "image/png": "[encoded data removed]",
      "text/plain": [
       "<Figure size 432x288 with 1 Axes>"
      ]
     },
     "metadata": {
      "needs_background": "light"
     },
     "output_type": "display_data"
    }
   ],
   "source": [
    "plt.boxplot(data = df2, x = 'RoomService')"
   ]
  },
  {
   "cell_type": "code",
   "execution_count": 854,
   "metadata": {},
   "outputs": [],
   "source": [
    "\n",
    "import numpy as np\n",
    "def detect_outliers(data):\n",
    "    outliers=[]\n",
    "    threshold=3\n",
    "    mean = np.mean(data)\n",
    "    std =np.std(data)\n",
    "    \n",
    "    \n",
    "    for i in data:\n",
    "        z_score= (i - mean)/std \n",
    "        if np.abs(z_score) > threshold:\n",
    "            outliers.append(i)\n",
    "    return outliers"
   ]
  },
  {
   "cell_type": "code",
   "execution_count": 855,
   "metadata": {},
   "outputs": [
    {
     "data": {
      "text/plain": [
       "30"
      ]
     },
     "execution_count": 855,
     "metadata": {},
     "output_type": "execute_result"
    }
   ],
   "source": [
    "outliers_z = detect_outliers(df2['Age'])\n",
    "len(outliers_z)"
   ]
  },
  {
   "cell_type": "code",
   "execution_count": 856,
   "metadata": {},
   "outputs": [],
   "source": [
    "def outlier_detection_using_Iqr(data):\n",
    "    outliers = []\n",
    "    data = sorted(data)\n",
    "    quantile1, quantile3= np.percentile(data,[25,75])\n",
    "    iqr_value=quantile3-quantile1\n",
    "    print(iqr_value)\n",
    "    lower_bound_val = quantile1 -(1.5 * iqr_value) \n",
    "    upper_bound_val = quantile3 +(1.5 * iqr_value)\n",
    "    for i in data :\n",
    "        if i<lower_bound_val or  i> upper_bound_val:\n",
    "            outliers.append(i)\n",
    "    return outliers\n",
    "    "
   ]
  },
  {
   "cell_type": "code",
   "execution_count": 857,
   "metadata": {},
   "outputs": [
    {
     "name": "stdout",
     "output_type": "stream",
     "text": [
      "17.0\n"
     ]
    }
   ],
   "source": [
    "outliers_iqr = outlier_detection_using_Iqr(df2['Age'])"
   ]
  },
  {
   "cell_type": "code",
   "execution_count": 858,
   "metadata": {},
   "outputs": [
    {
     "data": {
      "text/plain": [
       "[63.0,\n",
       " 63.0,\n",
       " 63.0,\n",
       " 63.0,\n",
       " 63.0,\n",
       " 63.0,\n",
       " 63.0,\n",
       " 63.0,\n",
       " 63.0,\n",
       " 63.0,\n",
       " 63.0,\n",
       " 63.0,\n",
       " 63.0,\n",
       " 63.0,\n",
       " 63.0,\n",
       " 63.0,\n",
       " 63.0,\n",
       " 63.0,\n",
       " 63.0,\n",
       " 63.0,\n",
       " 63.0,\n",
       " 63.0,\n",
       " 63.0,\n",
       " 63.0,\n",
       " 63.0,\n",
       " 63.0,\n",
       " 64.0,\n",
       " 64.0,\n",
       " 64.0,\n",
       " 64.0,\n",
       " 64.0,\n",
       " 64.0,\n",
       " 64.0,\n",
       " 64.0,\n",
       " 64.0,\n",
       " 64.0,\n",
       " 64.0,\n",
       " 64.0,\n",
       " 64.0,\n",
       " 64.0,\n",
       " 64.0,\n",
       " 64.0,\n",
       " 64.0,\n",
       " 64.0,\n",
       " 64.0,\n",
       " 64.0,\n",
       " 64.0,\n",
       " 64.0,\n",
       " 64.0,\n",
       " 64.0,\n",
       " 64.0,\n",
       " 64.0,\n",
       " 64.0,\n",
       " 64.0,\n",
       " 64.0,\n",
       " 65.0,\n",
       " 65.0,\n",
       " 65.0,\n",
       " 65.0,\n",
       " 65.0,\n",
       " 65.0,\n",
       " 65.0,\n",
       " 65.0,\n",
       " 65.0,\n",
       " 65.0,\n",
       " 65.0,\n",
       " 65.0,\n",
       " 65.0,\n",
       " 65.0,\n",
       " 65.0,\n",
       " 65.0,\n",
       " 65.0,\n",
       " 65.0,\n",
       " 65.0,\n",
       " 65.0,\n",
       " 65.0,\n",
       " 65.0,\n",
       " 65.0,\n",
       " 66.0,\n",
       " 66.0,\n",
       " 66.0,\n",
       " 66.0,\n",
       " 66.0,\n",
       " 66.0,\n",
       " 66.0,\n",
       " 67.0,\n",
       " 67.0,\n",
       " 67.0,\n",
       " 67.0,\n",
       " 67.0,\n",
       " 67.0,\n",
       " 67.0,\n",
       " 67.0,\n",
       " 67.0,\n",
       " 67.0,\n",
       " 67.0,\n",
       " 67.0,\n",
       " 67.0,\n",
       " 68.0,\n",
       " 68.0,\n",
       " 68.0,\n",
       " 68.0,\n",
       " 68.0,\n",
       " 68.0,\n",
       " 68.0,\n",
       " 68.0,\n",
       " 68.0,\n",
       " 68.0,\n",
       " 68.0,\n",
       " 68.0,\n",
       " 69.0,\n",
       " 69.0,\n",
       " 69.0,\n",
       " 69.0,\n",
       " 69.0,\n",
       " 69.0,\n",
       " 70.0,\n",
       " 70.0,\n",
       " 70.0,\n",
       " 70.0,\n",
       " 70.0,\n",
       " 70.0,\n",
       " 70.0,\n",
       " 70.0,\n",
       " 70.0,\n",
       " 71.0,\n",
       " 71.0,\n",
       " 71.0,\n",
       " 71.0,\n",
       " 71.0,\n",
       " 71.0,\n",
       " 71.0,\n",
       " 72.0,\n",
       " 72.0,\n",
       " 72.0,\n",
       " 72.0,\n",
       " 73.0,\n",
       " 73.0,\n",
       " 73.0,\n",
       " 73.0,\n",
       " 73.0,\n",
       " 73.0,\n",
       " 73.0,\n",
       " 74.0,\n",
       " 74.0,\n",
       " 74.0,\n",
       " 74.0,\n",
       " 74.0,\n",
       " 75.0,\n",
       " 75.0,\n",
       " 75.0,\n",
       " 75.0,\n",
       " 76.0,\n",
       " 76.0,\n",
       " 77.0,\n",
       " 77.0,\n",
       " 78.0,\n",
       " 78.0,\n",
       " 78.0,\n",
       " 79.0,\n",
       " 79.0,\n",
       " 79.0]"
      ]
     },
     "execution_count": 858,
     "metadata": {},
     "output_type": "execute_result"
    }
   ],
   "source": [
    "len(outliers_z), len(outliers_iqr)\n",
    "outliers_iqr"
   ]
  },
  {
   "cell_type": "code",
   "execution_count": 859,
   "metadata": {},
   "outputs": [],
   "source": [
    "train['Expense'] = train['RoomService'] + train['VRDeck'] + train['FoodCourt'] + train['ShoppingMall'] + train['Spa']\n",
    "test['Expense'] = test['RoomService'] + test['VRDeck'] + test['FoodCourt'] + test['ShoppingMall'] + train['Spa']"
   ]
  },
  {
   "cell_type": "code",
   "execution_count": 860,
   "metadata": {},
   "outputs": [
    {
     "data": {
      "text/plain": [
       "<AxesSubplot:xlabel='Expense', ylabel='Count'>"
      ]
     },
     "execution_count": 860,
     "metadata": {},
     "output_type": "execute_result"
    },
    {
     "data": {
      "image/png": "[encoded data removed]",
      "text/plain": [
       "<Figure size 432x288 with 1 Axes>"
      ]
     },
     "metadata": {
      "needs_background": "light"
     },
     "output_type": "display_data"
    }
   ],
   "source": [
    "sns.histplot(data = train , x = 'Expense')"
   ]
  },
  {
   "cell_type": "code",
   "execution_count": 861,
   "metadata": {},
   "outputs": [],
   "source": [
    "# train = train.drop(['RoomService', 'VRDeck', 'FoodCourt', 'ShoppingMall', 'Spa'], axis = 1)\n",
    "# test = test.drop(['RoomService', 'VRDeck', 'FoodCourt', 'ShoppingMall', 'Spa'], axis = 1)\n",
    "\n"
   ]
  },
  {
   "cell_type": "code",
   "execution_count": 862,
   "metadata": {},
   "outputs": [
    {
     "data": {
      "text/plain": [
       "<AxesSubplot:xlabel='Expense', ylabel='Count'>"
      ]
     },
     "execution_count": 862,
     "metadata": {},
     "output_type": "execute_result"
    },
    {
     "data": {
      "image/png": "[encoded data removed]",
      "text/plain": [
       "<Figure size 432x288 with 1 Axes>"
      ]
     },
     "metadata": {
      "needs_background": "light"
     },
     "output_type": "display_data"
    }
   ],
   "source": [
    "sns.histplot(data = train , x = 'Expense')"
   ]
  },
  {
   "cell_type": "code",
   "execution_count": 863,
   "metadata": {},
   "outputs": [],
   "source": [
    "train = train[train.Age < min(outliers_z)]\n",
    "\n"
   ]
  },
  {
   "cell_type": "code",
   "execution_count": 864,
   "metadata": {},
   "outputs": [
    {
     "name": "stderr",
     "output_type": "stream",
     "text": [
      "c:\\Users\\pwayk\\AppData\\Local\\Programs\\Python\\Python39\\lib\\site-packages\\pandas\\core\\indexing.py:1817: SettingWithCopyWarning: \n",
      "A value is trying to be set on a copy of a slice from a DataFrame.\n",
      "Try using .loc[row_indexer,col_indexer] = value instead\n",
      "\n",
      "See the caveats in the documentation: https://pandas.pydata.org/pandas-docs/stable/user_guide/indexing.html#returning-a-view-versus-a-copy\n",
      "  self._setitem_single_column(loc, value, pi)\n"
     ]
    }
   ],
   "source": [
    "train.loc[train['Expense'] > 0, 'Expense'] = 1\n",
    "test.loc[test['Expense'] > 0, 'Expense'] = 1\n"
   ]
  },
  {
   "cell_type": "code",
   "execution_count": 865,
   "metadata": {},
   "outputs": [
    {
     "data": {
      "text/plain": [
       "1.0    3238\n",
       "0.0    1039\n",
       "Name: Expense, dtype: int64"
      ]
     },
     "execution_count": 865,
     "metadata": {},
     "output_type": "execute_result"
    }
   ],
   "source": [
    "test['Expense'].value_counts()"
   ]
  },
  {
   "cell_type": "code",
   "execution_count": 866,
   "metadata": {},
   "outputs": [
    {
     "data": {
      "text/html": [
       "<div>\n",
       "<style scoped>\n",
       "    .dataframe tbody tr th:only-of-type {\n",
       "        vertical-align: middle;\n",
       "    }\n",
       "\n",
       "    .dataframe tbody tr th {\n",
       "        vertical-align: top;\n",
       "    }\n",
       "\n",
       "    .dataframe thead th {\n",
       "        text-align: right;\n",
       "    }\n",
       "</style>\n",
       "<table border=\"1\" class=\"dataframe\">\n",
       "  <thead>\n",
       "    <tr style=\"text-align: right;\">\n",
       "      <th></th>\n",
       "      <th>Age</th>\n",
       "      <th>RoomService</th>\n",
       "      <th>FoodCourt</th>\n",
       "      <th>ShoppingMall</th>\n",
       "      <th>Spa</th>\n",
       "      <th>VRDeck</th>\n",
       "      <th>HomePlanet_Europa</th>\n",
       "      <th>HomePlanet_Mars</th>\n",
       "      <th>Destination_PSO J318.5-22</th>\n",
       "      <th>Destination_TRAPPIST-1e</th>\n",
       "      <th>CryoSleep_True</th>\n",
       "      <th>VIP_True</th>\n",
       "      <th>Expense</th>\n",
       "    </tr>\n",
       "  </thead>\n",
       "  <tbody>\n",
       "    <tr>\n",
       "      <th>0</th>\n",
       "      <td>27.000000</td>\n",
       "      <td>0.0</td>\n",
       "      <td>0.0</td>\n",
       "      <td>0.0</td>\n",
       "      <td>0.0</td>\n",
       "      <td>0.0</td>\n",
       "      <td>0</td>\n",
       "      <td>0</td>\n",
       "      <td>0</td>\n",
       "      <td>1</td>\n",
       "      <td>1</td>\n",
       "      <td>0</td>\n",
       "      <td>0.0</td>\n",
       "    </tr>\n",
       "    <tr>\n",
       "      <th>1</th>\n",
       "      <td>19.000000</td>\n",
       "      <td>0.0</td>\n",
       "      <td>9.0</td>\n",
       "      <td>0.0</td>\n",
       "      <td>2823.0</td>\n",
       "      <td>0.0</td>\n",
       "      <td>0</td>\n",
       "      <td>0</td>\n",
       "      <td>0</td>\n",
       "      <td>1</td>\n",
       "      <td>0</td>\n",
       "      <td>0</td>\n",
       "      <td>1.0</td>\n",
       "    </tr>\n",
       "    <tr>\n",
       "      <th>2</th>\n",
       "      <td>31.000000</td>\n",
       "      <td>0.0</td>\n",
       "      <td>0.0</td>\n",
       "      <td>0.0</td>\n",
       "      <td>0.0</td>\n",
       "      <td>0.0</td>\n",
       "      <td>1</td>\n",
       "      <td>0</td>\n",
       "      <td>0</td>\n",
       "      <td>0</td>\n",
       "      <td>1</td>\n",
       "      <td>0</td>\n",
       "      <td>1.0</td>\n",
       "    </tr>\n",
       "    <tr>\n",
       "      <th>3</th>\n",
       "      <td>38.000000</td>\n",
       "      <td>0.0</td>\n",
       "      <td>6652.0</td>\n",
       "      <td>0.0</td>\n",
       "      <td>181.0</td>\n",
       "      <td>585.0</td>\n",
       "      <td>1</td>\n",
       "      <td>0</td>\n",
       "      <td>0</td>\n",
       "      <td>1</td>\n",
       "      <td>0</td>\n",
       "      <td>0</td>\n",
       "      <td>1.0</td>\n",
       "    </tr>\n",
       "    <tr>\n",
       "      <th>4</th>\n",
       "      <td>20.000000</td>\n",
       "      <td>10.0</td>\n",
       "      <td>0.0</td>\n",
       "      <td>635.0</td>\n",
       "      <td>0.0</td>\n",
       "      <td>0.0</td>\n",
       "      <td>0</td>\n",
       "      <td>0</td>\n",
       "      <td>0</td>\n",
       "      <td>1</td>\n",
       "      <td>0</td>\n",
       "      <td>0</td>\n",
       "      <td>1.0</td>\n",
       "    </tr>\n",
       "    <tr>\n",
       "      <th>...</th>\n",
       "      <td>...</td>\n",
       "      <td>...</td>\n",
       "      <td>...</td>\n",
       "      <td>...</td>\n",
       "      <td>...</td>\n",
       "      <td>...</td>\n",
       "      <td>...</td>\n",
       "      <td>...</td>\n",
       "      <td>...</td>\n",
       "      <td>...</td>\n",
       "      <td>...</td>\n",
       "      <td>...</td>\n",
       "      <td>...</td>\n",
       "    </tr>\n",
       "    <tr>\n",
       "      <th>4272</th>\n",
       "      <td>34.000000</td>\n",
       "      <td>0.0</td>\n",
       "      <td>0.0</td>\n",
       "      <td>0.0</td>\n",
       "      <td>0.0</td>\n",
       "      <td>0.0</td>\n",
       "      <td>0</td>\n",
       "      <td>0</td>\n",
       "      <td>0</td>\n",
       "      <td>1</td>\n",
       "      <td>1</td>\n",
       "      <td>0</td>\n",
       "      <td>1.0</td>\n",
       "    </tr>\n",
       "    <tr>\n",
       "      <th>4273</th>\n",
       "      <td>42.000000</td>\n",
       "      <td>0.0</td>\n",
       "      <td>847.0</td>\n",
       "      <td>17.0</td>\n",
       "      <td>10.0</td>\n",
       "      <td>144.0</td>\n",
       "      <td>0</td>\n",
       "      <td>0</td>\n",
       "      <td>0</td>\n",
       "      <td>1</td>\n",
       "      <td>0</td>\n",
       "      <td>0</td>\n",
       "      <td>1.0</td>\n",
       "    </tr>\n",
       "    <tr>\n",
       "      <th>4274</th>\n",
       "      <td>28.658146</td>\n",
       "      <td>0.0</td>\n",
       "      <td>0.0</td>\n",
       "      <td>0.0</td>\n",
       "      <td>0.0</td>\n",
       "      <td>0.0</td>\n",
       "      <td>0</td>\n",
       "      <td>1</td>\n",
       "      <td>0</td>\n",
       "      <td>0</td>\n",
       "      <td>1</td>\n",
       "      <td>0</td>\n",
       "      <td>1.0</td>\n",
       "    </tr>\n",
       "    <tr>\n",
       "      <th>4275</th>\n",
       "      <td>28.658146</td>\n",
       "      <td>0.0</td>\n",
       "      <td>2680.0</td>\n",
       "      <td>0.0</td>\n",
       "      <td>0.0</td>\n",
       "      <td>523.0</td>\n",
       "      <td>1</td>\n",
       "      <td>0</td>\n",
       "      <td>1</td>\n",
       "      <td>0</td>\n",
       "      <td>0</td>\n",
       "      <td>0</td>\n",
       "      <td>1.0</td>\n",
       "    </tr>\n",
       "    <tr>\n",
       "      <th>4276</th>\n",
       "      <td>43.000000</td>\n",
       "      <td>0.0</td>\n",
       "      <td>0.0</td>\n",
       "      <td>0.0</td>\n",
       "      <td>0.0</td>\n",
       "      <td>0.0</td>\n",
       "      <td>0</td>\n",
       "      <td>0</td>\n",
       "      <td>1</td>\n",
       "      <td>0</td>\n",
       "      <td>1</td>\n",
       "      <td>0</td>\n",
       "      <td>1.0</td>\n",
       "    </tr>\n",
       "  </tbody>\n",
       "</table>\n",
       "<p>4277 rows × 13 columns</p>\n",
       "</div>"
      ],
      "text/plain": [
       "            Age  RoomService  FoodCourt  ShoppingMall     Spa  VRDeck  \\\n",
       "0     27.000000          0.0        0.0           0.0     0.0     0.0   \n",
       "1     19.000000          0.0        9.0           0.0  2823.0     0.0   \n",
       "2     31.000000          0.0        0.0           0.0     0.0     0.0   \n",
       "3     38.000000          0.0     6652.0           0.0   181.0   585.0   \n",
       "4     20.000000         10.0        0.0         635.0     0.0     0.0   \n",
       "...         ...          ...        ...           ...     ...     ...   \n",
       "4272  34.000000          0.0        0.0           0.0     0.0     0.0   \n",
       "4273  42.000000          0.0      847.0          17.0    10.0   144.0   \n",
       "4274  28.658146          0.0        0.0           0.0     0.0     0.0   \n",
       "4275  28.658146          0.0     2680.0           0.0     0.0   523.0   \n",
       "4276  43.000000          0.0        0.0           0.0     0.0     0.0   \n",
       "\n",
       "      HomePlanet_Europa  HomePlanet_Mars  Destination_PSO J318.5-22  \\\n",
       "0                     0                0                          0   \n",
       "1                     0                0                          0   \n",
       "2                     1                0                          0   \n",
       "3                     1                0                          0   \n",
       "4                     0                0                          0   \n",
       "...                 ...              ...                        ...   \n",
       "4272                  0                0                          0   \n",
       "4273                  0                0                          0   \n",
       "4274                  0                1                          0   \n",
       "4275                  1                0                          1   \n",
       "4276                  0                0                          1   \n",
       "\n",
       "      Destination_TRAPPIST-1e  CryoSleep_True  VIP_True  Expense  \n",
       "0                           1               1         0      0.0  \n",
       "1                           1               0         0      1.0  \n",
       "2                           0               1         0      1.0  \n",
       "3                           1               0         0      1.0  \n",
       "4                           1               0         0      1.0  \n",
       "...                       ...             ...       ...      ...  \n",
       "4272                        1               1         0      1.0  \n",
       "4273                        1               0         0      1.0  \n",
       "4274                        0               1         0      1.0  \n",
       "4275                        0               0         0      1.0  \n",
       "4276                        0               1         0      1.0  \n",
       "\n",
       "[4277 rows x 13 columns]"
      ]
     },
     "execution_count": 866,
     "metadata": {},
     "output_type": "execute_result"
    }
   ],
   "source": [
    "test"
   ]
  },
  {
   "cell_type": "code",
   "execution_count": 867,
   "metadata": {},
   "outputs": [
    {
     "data": {
      "text/html": [
       "<div>\n",
       "<style scoped>\n",
       "    .dataframe tbody tr th:only-of-type {\n",
       "        vertical-align: middle;\n",
       "    }\n",
       "\n",
       "    .dataframe tbody tr th {\n",
       "        vertical-align: top;\n",
       "    }\n",
       "\n",
       "    .dataframe thead th {\n",
       "        text-align: right;\n",
       "    }\n",
       "</style>\n",
       "<table border=\"1\" class=\"dataframe\">\n",
       "  <thead>\n",
       "    <tr style=\"text-align: right;\">\n",
       "      <th></th>\n",
       "      <th>Transported</th>\n",
       "      <th>Age</th>\n",
       "      <th>RoomService</th>\n",
       "      <th>FoodCourt</th>\n",
       "      <th>ShoppingMall</th>\n",
       "      <th>Spa</th>\n",
       "      <th>VRDeck</th>\n",
       "      <th>HomePlanet_Europa</th>\n",
       "      <th>HomePlanet_Mars</th>\n",
       "      <th>Destination_PSO J318.5-22</th>\n",
       "      <th>Destination_TRAPPIST-1e</th>\n",
       "      <th>CryoSleep_True</th>\n",
       "      <th>VIP_True</th>\n",
       "      <th>Expense</th>\n",
       "    </tr>\n",
       "  </thead>\n",
       "  <tbody>\n",
       "    <tr>\n",
       "      <th>0</th>\n",
       "      <td>0</td>\n",
       "      <td>39.0</td>\n",
       "      <td>0.0</td>\n",
       "      <td>0.0</td>\n",
       "      <td>0.0</td>\n",
       "      <td>0.0</td>\n",
       "      <td>0.0</td>\n",
       "      <td>1</td>\n",
       "      <td>0</td>\n",
       "      <td>0</td>\n",
       "      <td>1</td>\n",
       "      <td>0</td>\n",
       "      <td>0</td>\n",
       "      <td>0.0</td>\n",
       "    </tr>\n",
       "    <tr>\n",
       "      <th>1</th>\n",
       "      <td>1</td>\n",
       "      <td>24.0</td>\n",
       "      <td>109.0</td>\n",
       "      <td>9.0</td>\n",
       "      <td>25.0</td>\n",
       "      <td>549.0</td>\n",
       "      <td>44.0</td>\n",
       "      <td>0</td>\n",
       "      <td>0</td>\n",
       "      <td>0</td>\n",
       "      <td>1</td>\n",
       "      <td>0</td>\n",
       "      <td>0</td>\n",
       "      <td>1.0</td>\n",
       "    </tr>\n",
       "    <tr>\n",
       "      <th>2</th>\n",
       "      <td>0</td>\n",
       "      <td>58.0</td>\n",
       "      <td>43.0</td>\n",
       "      <td>3576.0</td>\n",
       "      <td>0.0</td>\n",
       "      <td>6715.0</td>\n",
       "      <td>49.0</td>\n",
       "      <td>1</td>\n",
       "      <td>0</td>\n",
       "      <td>0</td>\n",
       "      <td>1</td>\n",
       "      <td>0</td>\n",
       "      <td>1</td>\n",
       "      <td>1.0</td>\n",
       "    </tr>\n",
       "    <tr>\n",
       "      <th>3</th>\n",
       "      <td>0</td>\n",
       "      <td>33.0</td>\n",
       "      <td>0.0</td>\n",
       "      <td>1283.0</td>\n",
       "      <td>371.0</td>\n",
       "      <td>3329.0</td>\n",
       "      <td>193.0</td>\n",
       "      <td>1</td>\n",
       "      <td>0</td>\n",
       "      <td>0</td>\n",
       "      <td>1</td>\n",
       "      <td>0</td>\n",
       "      <td>0</td>\n",
       "      <td>1.0</td>\n",
       "    </tr>\n",
       "    <tr>\n",
       "      <th>4</th>\n",
       "      <td>1</td>\n",
       "      <td>16.0</td>\n",
       "      <td>303.0</td>\n",
       "      <td>70.0</td>\n",
       "      <td>151.0</td>\n",
       "      <td>565.0</td>\n",
       "      <td>2.0</td>\n",
       "      <td>0</td>\n",
       "      <td>0</td>\n",
       "      <td>0</td>\n",
       "      <td>1</td>\n",
       "      <td>0</td>\n",
       "      <td>0</td>\n",
       "      <td>1.0</td>\n",
       "    </tr>\n",
       "    <tr>\n",
       "      <th>...</th>\n",
       "      <td>...</td>\n",
       "      <td>...</td>\n",
       "      <td>...</td>\n",
       "      <td>...</td>\n",
       "      <td>...</td>\n",
       "      <td>...</td>\n",
       "      <td>...</td>\n",
       "      <td>...</td>\n",
       "      <td>...</td>\n",
       "      <td>...</td>\n",
       "      <td>...</td>\n",
       "      <td>...</td>\n",
       "      <td>...</td>\n",
       "      <td>...</td>\n",
       "    </tr>\n",
       "    <tr>\n",
       "      <th>8688</th>\n",
       "      <td>0</td>\n",
       "      <td>41.0</td>\n",
       "      <td>0.0</td>\n",
       "      <td>6819.0</td>\n",
       "      <td>0.0</td>\n",
       "      <td>1643.0</td>\n",
       "      <td>74.0</td>\n",
       "      <td>1</td>\n",
       "      <td>0</td>\n",
       "      <td>0</td>\n",
       "      <td>0</td>\n",
       "      <td>0</td>\n",
       "      <td>1</td>\n",
       "      <td>1.0</td>\n",
       "    </tr>\n",
       "    <tr>\n",
       "      <th>8689</th>\n",
       "      <td>0</td>\n",
       "      <td>18.0</td>\n",
       "      <td>0.0</td>\n",
       "      <td>0.0</td>\n",
       "      <td>0.0</td>\n",
       "      <td>0.0</td>\n",
       "      <td>0.0</td>\n",
       "      <td>0</td>\n",
       "      <td>0</td>\n",
       "      <td>1</td>\n",
       "      <td>0</td>\n",
       "      <td>1</td>\n",
       "      <td>0</td>\n",
       "      <td>0.0</td>\n",
       "    </tr>\n",
       "    <tr>\n",
       "      <th>8690</th>\n",
       "      <td>1</td>\n",
       "      <td>26.0</td>\n",
       "      <td>0.0</td>\n",
       "      <td>0.0</td>\n",
       "      <td>1872.0</td>\n",
       "      <td>1.0</td>\n",
       "      <td>0.0</td>\n",
       "      <td>0</td>\n",
       "      <td>0</td>\n",
       "      <td>0</td>\n",
       "      <td>1</td>\n",
       "      <td>0</td>\n",
       "      <td>0</td>\n",
       "      <td>1.0</td>\n",
       "    </tr>\n",
       "    <tr>\n",
       "      <th>8691</th>\n",
       "      <td>0</td>\n",
       "      <td>32.0</td>\n",
       "      <td>0.0</td>\n",
       "      <td>1049.0</td>\n",
       "      <td>0.0</td>\n",
       "      <td>353.0</td>\n",
       "      <td>3235.0</td>\n",
       "      <td>1</td>\n",
       "      <td>0</td>\n",
       "      <td>0</td>\n",
       "      <td>0</td>\n",
       "      <td>0</td>\n",
       "      <td>0</td>\n",
       "      <td>1.0</td>\n",
       "    </tr>\n",
       "    <tr>\n",
       "      <th>8692</th>\n",
       "      <td>1</td>\n",
       "      <td>44.0</td>\n",
       "      <td>126.0</td>\n",
       "      <td>4688.0</td>\n",
       "      <td>0.0</td>\n",
       "      <td>0.0</td>\n",
       "      <td>12.0</td>\n",
       "      <td>1</td>\n",
       "      <td>0</td>\n",
       "      <td>0</td>\n",
       "      <td>1</td>\n",
       "      <td>0</td>\n",
       "      <td>0</td>\n",
       "      <td>1.0</td>\n",
       "    </tr>\n",
       "  </tbody>\n",
       "</table>\n",
       "<p>8663 rows × 14 columns</p>\n",
       "</div>"
      ],
      "text/plain": [
       "      Transported   Age  RoomService  FoodCourt  ShoppingMall     Spa  VRDeck  \\\n",
       "0               0  39.0          0.0        0.0           0.0     0.0     0.0   \n",
       "1               1  24.0        109.0        9.0          25.0   549.0    44.0   \n",
       "2               0  58.0         43.0     3576.0           0.0  6715.0    49.0   \n",
       "3               0  33.0          0.0     1283.0         371.0  3329.0   193.0   \n",
       "4               1  16.0        303.0       70.0         151.0   565.0     2.0   \n",
       "...           ...   ...          ...        ...           ...     ...     ...   \n",
       "8688            0  41.0          0.0     6819.0           0.0  1643.0    74.0   \n",
       "8689            0  18.0          0.0        0.0           0.0     0.0     0.0   \n",
       "8690            1  26.0          0.0        0.0        1872.0     1.0     0.0   \n",
       "8691            0  32.0          0.0     1049.0           0.0   353.0  3235.0   \n",
       "8692            1  44.0        126.0     4688.0           0.0     0.0    12.0   \n",
       "\n",
       "      HomePlanet_Europa  HomePlanet_Mars  Destination_PSO J318.5-22  \\\n",
       "0                     1                0                          0   \n",
       "1                     0                0                          0   \n",
       "2                     1                0                          0   \n",
       "3                     1                0                          0   \n",
       "4                     0                0                          0   \n",
       "...                 ...              ...                        ...   \n",
       "8688                  1                0                          0   \n",
       "8689                  0                0                          1   \n",
       "8690                  0                0                          0   \n",
       "8691                  1                0                          0   \n",
       "8692                  1                0                          0   \n",
       "\n",
       "      Destination_TRAPPIST-1e  CryoSleep_True  VIP_True  Expense  \n",
       "0                           1               0         0      0.0  \n",
       "1                           1               0         0      1.0  \n",
       "2                           1               0         1      1.0  \n",
       "3                           1               0         0      1.0  \n",
       "4                           1               0         0      1.0  \n",
       "...                       ...             ...       ...      ...  \n",
       "8688                        0               0         1      1.0  \n",
       "8689                        0               1         0      0.0  \n",
       "8690                        1               0         0      1.0  \n",
       "8691                        0               0         0      1.0  \n",
       "8692                        1               0         0      1.0  \n",
       "\n",
       "[8663 rows x 14 columns]"
      ]
     },
     "execution_count": 867,
     "metadata": {},
     "output_type": "execute_result"
    }
   ],
   "source": [
    "train"
   ]
  },
  {
   "cell_type": "code",
   "execution_count": 868,
   "metadata": {},
   "outputs": [],
   "source": [
    "def remove_outliers(data):\n",
    "    def detect_outliers(data):\n",
    "        outliers=[]\n",
    "        threshold=3\n",
    "        mean = np.mean(data)\n",
    "        std =np.std(data)\n",
    "        \n",
    "        \n",
    "        for i in data:\n",
    "            z_score= (i - mean)/std \n",
    "            if np.abs(z_score) > threshold:\n",
    "                outliers.append(i)\n",
    "        return outliers\n",
    "    def outlier_detection_using_Iqr(data):\n",
    "        outliers = []\n",
    "        data = sorted(data)\n",
    "        quantile1, quantile3= np.percentile(data,[25,75])\n",
    "        iqr_value=quantile3-quantile1\n",
    "        lower_bound_val = quantile1 -(1.5 * iqr_value) \n",
    "        upper_bound_val = quantile3 +(1.5 * iqr_value)\n",
    "        for i in data :\n",
    "            if i<lower_bound_val or  i> upper_bound_val:\n",
    "                outliers.append(i)\n",
    "        return outliers\n",
    "    \n",
    "    \n",
    "    outliers_z = detect_outliers(data['Age'])\n",
    "    outliers_iqr = outlier_detection_using_Iqr(data['Age'])\n",
    "    \n",
    "    data['Expense'] = data['RoomService'] + data['VRDeck'] + data['FoodCourt'] + data['ShoppingMall'] + data['Spa']\n",
    "    \n",
    "    # data = data.drop(['RoomService', 'VRDeck', 'FoodCourt', 'ShoppingMall', 'Spa'], axis = 1)\n",
    "    data.loc[data['Expense'] > 0, 'Expense'] = 1\n",
    "    return data"
   ]
  },
  {
   "cell_type": "code",
   "execution_count": 869,
   "metadata": {},
   "outputs": [
    {
     "name": "stderr",
     "output_type": "stream",
     "text": [
      "C:\\Users\\pwayk\\AppData\\Local\\Temp/ipykernel_2164/2302693331.py:30: SettingWithCopyWarning: \n",
      "A value is trying to be set on a copy of a slice from a DataFrame.\n",
      "Try using .loc[row_indexer,col_indexer] = value instead\n",
      "\n",
      "See the caveats in the documentation: https://pandas.pydata.org/pandas-docs/stable/user_guide/indexing.html#returning-a-view-versus-a-copy\n",
      "  data['Expense'] = data['RoomService'] + data['VRDeck'] + data['FoodCourt'] + data['ShoppingMall'] + data['Spa']\n",
      "c:\\Users\\pwayk\\AppData\\Local\\Programs\\Python\\Python39\\lib\\site-packages\\pandas\\core\\indexing.py:1817: SettingWithCopyWarning: \n",
      "A value is trying to be set on a copy of a slice from a DataFrame.\n",
      "Try using .loc[row_indexer,col_indexer] = value instead\n",
      "\n",
      "See the caveats in the documentation: https://pandas.pydata.org/pandas-docs/stable/user_guide/indexing.html#returning-a-view-versus-a-copy\n",
      "  self._setitem_single_column(loc, value, pi)\n"
     ]
    }
   ],
   "source": [
    "train = remove_outliers(train)\n",
    "test =  remove_outliers(test)"
   ]
  },
  {
   "cell_type": "code",
   "execution_count": 870,
   "metadata": {},
   "outputs": [],
   "source": [
    "train.to_csv(r'preprocessed_data/train_wo_outliers_all.csv')\n",
    "test.to_csv(r'preprocessed_data/test_wo_outliers_all.csv')"
   ]
  },
  {
   "cell_type": "code",
   "execution_count": 871,
   "metadata": {},
   "outputs": [],
   "source": [
    "def remove_outliers(data):\n",
    "    def detect_outliers(data):\n",
    "        outliers=[]\n",
    "        threshold=3\n",
    "        mean = np.mean(data)\n",
    "        std =np.std(data)\n",
    "        \n",
    "        \n",
    "        for i in data:\n",
    "            z_score= (i - mean)/std \n",
    "            if np.abs(z_score) > threshold:\n",
    "                outliers.append(i)\n",
    "        return outliers\n",
    "    def outlier_detection_using_Iqr(data):\n",
    "        outliers = []\n",
    "        data = sorted(data)\n",
    "        quantile1, quantile3= np.percentile(data,[25,75])\n",
    "        iqr_value=quantile3-quantile1\n",
    "        lower_bound_val = quantile1 -(1.5 * iqr_value) \n",
    "        upper_bound_val = quantile3 +(1.5 * iqr_value)\n",
    "        for i in data :\n",
    "            if i<lower_bound_val or  i> upper_bound_val:\n",
    "                outliers.append(i)\n",
    "        return outliers\n",
    "    \n",
    "    \n",
    "    outliers_z = detect_outliers(data['Age'])\n",
    "    outliers_iqr = outlier_detection_using_Iqr(data['Age'])\n",
    "    \n",
    "    data['Expense'] = data['RoomService'] + data['VRDeck'] + data['FoodCourt'] + data['ShoppingMall'] + data['Spa']\n",
    "    \n",
    "    data = data.drop(['RoomService', 'VRDeck', 'FoodCourt', 'ShoppingMall', 'Spa'], axis = 1)\n",
    "    data.loc[data['Expense'] > 0, 'Expense'] = 1\n",
    "    return data"
   ]
  },
  {
   "cell_type": "code",
   "execution_count": 872,
   "metadata": {},
   "outputs": [
    {
     "name": "stderr",
     "output_type": "stream",
     "text": [
      "C:\\Users\\pwayk\\AppData\\Local\\Temp/ipykernel_2164/3273865858.py:30: SettingWithCopyWarning: \n",
      "A value is trying to be set on a copy of a slice from a DataFrame.\n",
      "Try using .loc[row_indexer,col_indexer] = value instead\n",
      "\n",
      "See the caveats in the documentation: https://pandas.pydata.org/pandas-docs/stable/user_guide/indexing.html#returning-a-view-versus-a-copy\n",
      "  data['Expense'] = data['RoomService'] + data['VRDeck'] + data['FoodCourt'] + data['ShoppingMall'] + data['Spa']\n"
     ]
    }
   ],
   "source": [
    "train = remove_outliers(train)\n",
    "test =  remove_outliers(test)"
   ]
  },
  {
   "cell_type": "code",
   "execution_count": 873,
   "metadata": {},
   "outputs": [],
   "source": [
    "train.to_csv(r'preprocessed_data/train_wo_outliers.csv')\n",
    "test.to_csv(r'preprocessed_data/test_wo_outliers.csv')"
   ]
  },
  {
   "cell_type": "code",
   "execution_count": null,
   "metadata": {},
   "outputs": [],
   "source": []
  }
 ],
 "metadata": {
  "kernelspec": {
   "display_name": "Python 3.9.7 64-bit",
   "language": "python",
   "name": "python3"
  },
  "language_info": {
   "codemirror_mode": {
    "name": "ipython",
    "version": 3
   },
   "file_extension": ".py",
   "mimetype": "text/x-python",
   "name": "python",
   "nbconvert_exporter": "python",
   "pygments_lexer": "ipython3",
   "version": "3.9.7"
  },
  "orig_nbformat": 4,
  "vscode": {
   "interpreter": {
    "hash": "941096ab4a304f3509822dba92ee1d36e30c4bf17f0e34fdfd12300d4a2ccfca"
   }
  }
 },
 "nbformat": 4,
 "nbformat_minor": 2
}
