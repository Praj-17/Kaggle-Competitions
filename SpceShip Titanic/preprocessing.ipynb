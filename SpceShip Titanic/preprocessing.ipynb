{
 "cells": [
  {
   "cell_type": "markdown",
   "metadata": {},
   "source": [
    "# SpaceShip Titanic"
   ]
  },
  {
   "cell_type": "code",
   "execution_count": 87,
   "metadata": {},
   "outputs": [],
   "source": [
    "import seaborn as sns\n",
    "import pandas as pd\n",
    "from sklearn.impute import KNNImputer, SimpleImputer"
   ]
  },
  {
   "cell_type": "code",
   "execution_count": 88,
   "metadata": {},
   "outputs": [],
   "source": [
    "\n",
    "\n",
    "train = pd.read_csv(r'data\\train.csv')\n",
    "test = pd.read_csv(r'data\\test.csv')"
   ]
  },
  {
   "cell_type": "code",
   "execution_count": 89,
   "metadata": {},
   "outputs": [
    {
     "data": {
      "text/plain": [
       "<AxesSubplot:>"
      ]
     },
     "execution_count": 89,
     "metadata": {},
     "output_type": "execute_result"
    },
    {
     "data": {
      "image/png": "[encoded data removed]",
      "text/plain": [
       "<Figure size 432x288 with 1 Axes>"
      ]
     },
     "metadata": {
      "needs_background": "light"
     },
     "output_type": "display_data"
    }
   ],
   "source": [
    "\n",
    "sns.heatmap(train.isnull(), yticklabels=False, cbar=False, cmap='viridis')"
   ]
  },
  {
   "cell_type": "code",
   "execution_count": 90,
   "metadata": {},
   "outputs": [],
   "source": [
    "\n",
    "def impute_by_KNN(df,column_name):\n",
    "    fact_col, lable = pd.factorize(df[column_name])\n",
    "    imputer = KNNImputer(n_neighbors=5, weights=\"uniform\", add_indicator = True)\n",
    "    imputedHomePlanet = imputer.fit_transform([fact_col])\n",
    "    imputedHomePlanet =  pd.DataFrame([lable[i] for i in imputedHomePlanet[0] ])\n",
    "    df.drop(columns=column_name, inplace=True)\n",
    "    df[column_name ] = imputedHomePlanet[0]\n",
    "    return df\n",
    "    "
   ]
  },
  {
   "cell_type": "code",
   "execution_count": 91,
   "metadata": {},
   "outputs": [],
   "source": [
    "def impute_by_Simple_mean(df, column_name:list):\n",
    "    imp = SimpleImputer( strategy='mean')\n",
    "    imp.fit(df[column_name])\n",
    "    transformed = imp.transform(df[column_name])\n",
    "    # print(transformed)\n",
    "    df = df.drop(df[column_name], axis = 1)\n",
    "    df[column_name ] = transformed\n",
    "    return df\n",
    "    \n",
    "    \n"
   ]
  },
  {
   "cell_type": "code",
   "execution_count": 92,
   "metadata": {},
   "outputs": [],
   "source": [
    "# to_impute_num = ['Age', 'RoomService', 'FoodCourt', 'ShoppingMall', 'Spa', 'VRDeck']\n",
    "# for i in to_impute_num:\n",
    "#     train = impute_by_Simple_mean(train, [i] )"
   ]
  },
  {
   "cell_type": "code",
   "execution_count": 93,
   "metadata": {},
   "outputs": [],
   "source": [
    "# to_impute_knn = ['HomePlanet', 'Destination', 'CryoSleep', 'VIP']\n",
    "# for i in to_impute_knn:\n",
    "#     train = impute_by_KNN(train,i)"
   ]
  },
  {
   "cell_type": "code",
   "execution_count": 94,
   "metadata": {},
   "outputs": [],
   "source": [
    "# factHome, lable = pd.factorize(train['HomePlanet'])\n",
    "# factHome"
   ]
  },
  {
   "cell_type": "code",
   "execution_count": 95,
   "metadata": {},
   "outputs": [],
   "source": [
    "# from sklearn.impute import KNNImputer\n",
    "# imputer = KNNImputer(n_neighbors=5, weights=\"uniform\", add_indicator = True)\n",
    "# imputedHomePlanet = imputer.fit_transform([factHome])"
   ]
  },
  {
   "cell_type": "code",
   "execution_count": 96,
   "metadata": {},
   "outputs": [
    {
     "data": {
      "text/plain": [
       "<AxesSubplot:>"
      ]
     },
     "execution_count": 96,
     "metadata": {},
     "output_type": "execute_result"
    },
    {
     "data": {
      "image/png": "[encoded data removed]",
      "text/plain": [
       "<Figure size 432x288 with 1 Axes>"
      ]
     },
     "metadata": {
      "needs_background": "light"
     },
     "output_type": "display_data"
    }
   ],
   "source": [
    "sns.heatmap(train.isnull(), yticklabels=False, cbar=False, cmap='viridis')"
   ]
  },
  {
   "cell_type": "code",
   "execution_count": null,
   "metadata": {},
   "outputs": [],
   "source": []
  },
  {
   "cell_type": "markdown",
   "metadata": {},
   "source": [
    "### Preserving Distict characters for Later Purpose"
   ]
  },
  {
   "cell_type": "code",
   "execution_count": 97,
   "metadata": {},
   "outputs": [],
   "source": [
    "\n",
    "def remove_missing_values(df, to_impute_num, to_impute_knn):\n",
    "    for i in to_impute_num:\n",
    "        df = impute_by_Simple_mean(df, [i] )\n",
    "    for i in to_impute_knn:\n",
    "        df = impute_by_KNN(df,i)\n",
    "    \n",
    "    return df\n",
    "    "
   ]
  },
  {
   "cell_type": "markdown",
   "metadata": {},
   "source": [
    "Now the dataset Does not have any Null Values"
   ]
  },
  {
   "cell_type": "code",
   "execution_count": 98,
   "metadata": {},
   "outputs": [],
   "source": [
    "to_impute_num = ['Age', 'RoomService', 'FoodCourt', 'ShoppingMall', 'Spa', 'VRDeck']\n",
    "to_impute_knn = ['HomePlanet', 'Destination', 'CryoSleep', 'VIP']"
   ]
  },
  {
   "cell_type": "code",
   "execution_count": 99,
   "metadata": {},
   "outputs": [
    {
     "name": "stderr",
     "output_type": "stream",
     "text": [
      "C:\\Users\\pwayk\\AppData\\Local\\Temp/ipykernel_11768/2146097444.py:5: FutureWarning: Indexing with a float is deprecated, and will raise an IndexError in pandas 2.0. You can manually convert to an integer key instead.\n",
      "  imputedHomePlanet =  pd.DataFrame([lable[i] for i in imputedHomePlanet[0] ])\n",
      "C:\\Users\\pwayk\\AppData\\Local\\Temp/ipykernel_11768/2146097444.py:5: FutureWarning: Indexing with a float is deprecated, and will raise an IndexError in pandas 2.0. You can manually convert to an integer key instead.\n",
      "  imputedHomePlanet =  pd.DataFrame([lable[i] for i in imputedHomePlanet[0] ])\n",
      "C:\\Users\\pwayk\\AppData\\Local\\Temp/ipykernel_11768/2146097444.py:5: FutureWarning: Indexing with a float is deprecated, and will raise an IndexError in pandas 2.0. You can manually convert to an integer key instead.\n",
      "  imputedHomePlanet =  pd.DataFrame([lable[i] for i in imputedHomePlanet[0] ])\n",
      "C:\\Users\\pwayk\\AppData\\Local\\Temp/ipykernel_11768/2146097444.py:5: FutureWarning: Indexing with a float is deprecated, and will raise an IndexError in pandas 2.0. You can manually convert to an integer key instead.\n",
      "  imputedHomePlanet =  pd.DataFrame([lable[i] for i in imputedHomePlanet[0] ])\n",
      "C:\\Users\\pwayk\\AppData\\Local\\Temp/ipykernel_11768/2146097444.py:5: FutureWarning: Indexing with a float is deprecated, and will raise an IndexError in pandas 2.0. You can manually convert to an integer key instead.\n",
      "  imputedHomePlanet =  pd.DataFrame([lable[i] for i in imputedHomePlanet[0] ])\n",
      "C:\\Users\\pwayk\\AppData\\Local\\Temp/ipykernel_11768/2146097444.py:5: FutureWarning: Indexing with a float is deprecated, and will raise an IndexError in pandas 2.0. You can manually convert to an integer key instead.\n",
      "  imputedHomePlanet =  pd.DataFrame([lable[i] for i in imputedHomePlanet[0] ])\n",
      "C:\\Users\\pwayk\\AppData\\Local\\Temp/ipykernel_11768/2146097444.py:5: FutureWarning: Indexing with a float is deprecated, and will raise an IndexError in pandas 2.0. You can manually convert to an integer key instead.\n",
      "  imputedHomePlanet =  pd.DataFrame([lable[i] for i in imputedHomePlanet[0] ])\n",
      "C:\\Users\\pwayk\\AppData\\Local\\Temp/ipykernel_11768/2146097444.py:5: FutureWarning: Indexing with a float is deprecated, and will raise an IndexError in pandas 2.0. You can manually convert to an integer key instead.\n",
      "  imputedHomePlanet =  pd.DataFrame([lable[i] for i in imputedHomePlanet[0] ])\n"
     ]
    }
   ],
   "source": [
    "train = remove_missing_values(train, to_impute_num, to_impute_knn)\n",
    "test =  remove_missing_values(test, to_impute_num, to_impute_knn)"
   ]
  },
  {
   "cell_type": "code",
   "execution_count": 100,
   "metadata": {},
   "outputs": [],
   "source": [
    "Name = train['Name']\n",
    "PassengerId =  train['PassengerId']\n",
    "Cabin = train['Cabin']\n",
    "train.drop(columns=['Name', 'PassengerId', 'Cabin'], inplace=True)"
   ]
  },
  {
   "cell_type": "code",
   "execution_count": 101,
   "metadata": {},
   "outputs": [],
   "source": [
    "Name = test['Name']\n",
    "PassengerId =  test['PassengerId']\n",
    "Cabin = test['Cabin']\n",
    "test.drop(columns=['Name', 'PassengerId', 'Cabin'], inplace=True)"
   ]
  },
  {
   "cell_type": "code",
   "execution_count": 102,
   "metadata": {},
   "outputs": [],
   "source": [
    "train.to_csv(r'preprocessed_data\\train_wo_missing.csv')\n",
    "test.to_csv(r'preprocessed_data\\test_wo_missing.csv')"
   ]
  },
  {
   "cell_type": "code",
   "execution_count": 103,
   "metadata": {},
   "outputs": [
    {
     "data": {
      "text/plain": [
       "<AxesSubplot:>"
      ]
     },
     "execution_count": 103,
     "metadata": {},
     "output_type": "execute_result"
    },
    {
     "data": {
      "image/png": "[encoded data removed]",
      "text/plain": [
       "<Figure size 432x288 with 1 Axes>"
      ]
     },
     "metadata": {
      "needs_background": "light"
     },
     "output_type": "display_data"
    }
   ],
   "source": [
    "\n",
    "sns.heatmap(train.isnull(), yticklabels=False, cbar=False, cmap='viridis')"
   ]
  },
  {
   "cell_type": "markdown",
   "metadata": {},
   "source": [
    "### Getting Dummies"
   ]
  },
  {
   "cell_type": "code",
   "execution_count": 104,
   "metadata": {},
   "outputs": [],
   "source": [
    "dummies  = pd.get_dummies(train['HomePlanet'], drop_first = True)\n",
    "# dummies  = pd.get_dummies(train['HomePlanet'])"
   ]
  },
  {
   "cell_type": "code",
   "execution_count": 105,
   "metadata": {},
   "outputs": [
    {
     "data": {
      "text/html": [
       "<div>\n",
       "<style scoped>\n",
       "    .dataframe tbody tr th:only-of-type {\n",
       "        vertical-align: middle;\n",
       "    }\n",
       "\n",
       "    .dataframe tbody tr th {\n",
       "        vertical-align: top;\n",
       "    }\n",
       "\n",
       "    .dataframe thead th {\n",
       "        text-align: right;\n",
       "    }\n",
       "</style>\n",
       "<table border=\"1\" class=\"dataframe\">\n",
       "  <thead>\n",
       "    <tr style=\"text-align: right;\">\n",
       "      <th></th>\n",
       "      <th>Europa</th>\n",
       "      <th>Mars</th>\n",
       "    </tr>\n",
       "  </thead>\n",
       "  <tbody>\n",
       "    <tr>\n",
       "      <th>0</th>\n",
       "      <td>1</td>\n",
       "      <td>0</td>\n",
       "    </tr>\n",
       "    <tr>\n",
       "      <th>1</th>\n",
       "      <td>0</td>\n",
       "      <td>0</td>\n",
       "    </tr>\n",
       "    <tr>\n",
       "      <th>2</th>\n",
       "      <td>1</td>\n",
       "      <td>0</td>\n",
       "    </tr>\n",
       "    <tr>\n",
       "      <th>3</th>\n",
       "      <td>1</td>\n",
       "      <td>0</td>\n",
       "    </tr>\n",
       "    <tr>\n",
       "      <th>4</th>\n",
       "      <td>0</td>\n",
       "      <td>0</td>\n",
       "    </tr>\n",
       "    <tr>\n",
       "      <th>...</th>\n",
       "      <td>...</td>\n",
       "      <td>...</td>\n",
       "    </tr>\n",
       "    <tr>\n",
       "      <th>8688</th>\n",
       "      <td>1</td>\n",
       "      <td>0</td>\n",
       "    </tr>\n",
       "    <tr>\n",
       "      <th>8689</th>\n",
       "      <td>0</td>\n",
       "      <td>0</td>\n",
       "    </tr>\n",
       "    <tr>\n",
       "      <th>8690</th>\n",
       "      <td>0</td>\n",
       "      <td>0</td>\n",
       "    </tr>\n",
       "    <tr>\n",
       "      <th>8691</th>\n",
       "      <td>1</td>\n",
       "      <td>0</td>\n",
       "    </tr>\n",
       "    <tr>\n",
       "      <th>8692</th>\n",
       "      <td>1</td>\n",
       "      <td>0</td>\n",
       "    </tr>\n",
       "  </tbody>\n",
       "</table>\n",
       "<p>8693 rows × 2 columns</p>\n",
       "</div>"
      ],
      "text/plain": [
       "      Europa  Mars\n",
       "0          1     0\n",
       "1          0     0\n",
       "2          1     0\n",
       "3          1     0\n",
       "4          0     0\n",
       "...      ...   ...\n",
       "8688       1     0\n",
       "8689       0     0\n",
       "8690       0     0\n",
       "8691       1     0\n",
       "8692       1     0\n",
       "\n",
       "[8693 rows x 2 columns]"
      ]
     },
     "execution_count": 105,
     "metadata": {},
     "output_type": "execute_result"
    }
   ],
   "source": [
    "dummies"
   ]
  },
  {
   "cell_type": "code",
   "execution_count": 106,
   "metadata": {},
   "outputs": [
    {
     "data": {
      "text/plain": [
       "['HomePlanet', 'Destination', 'CryoSleep', 'VIP']"
      ]
     },
     "execution_count": 106,
     "metadata": {},
     "output_type": "execute_result"
    }
   ],
   "source": [
    "to_impute_knn"
   ]
  },
  {
   "cell_type": "code",
   "execution_count": 107,
   "metadata": {},
   "outputs": [],
   "source": [
    "def encode(df, to_impute_knn):\n",
    "    for i in to_impute_knn:\n",
    "        dummies  = pd.get_dummies(df[i], drop_first = True, prefix=i)\n",
    "        df = pd.concat([df,dummies], axis=1)\n",
    "        df= df.drop(i, axis = 1)\n",
    "    return df\n",
    "        \n",
    "    "
   ]
  },
  {
   "cell_type": "code",
   "execution_count": 108,
   "metadata": {},
   "outputs": [],
   "source": [
    "train = encode(train, to_impute_knn)\n",
    "test  = encode(test,to_impute_knn )"
   ]
  },
  {
   "cell_type": "code",
   "execution_count": 109,
   "metadata": {},
   "outputs": [],
   "source": [
    "train['Transported'], lable= pd.factorize(train['Transported'])"
   ]
  },
  {
   "cell_type": "code",
   "execution_count": 110,
   "metadata": {},
   "outputs": [],
   "source": [
    "train.to_csv(r'preprocessed_data\\train_encoded.csv')\n",
    "test.to_csv(r'preprocessed_data\\test_encoded.csv')"
   ]
  }
 ],
 "metadata": {
  "kernelspec": {
   "display_name": "Python 3.9.7 64-bit",
   "language": "python",
   "name": "python3"
  },
  "language_info": {
   "codemirror_mode": {
    "name": "ipython",
    "version": 3
   },
   "file_extension": ".py",
   "mimetype": "text/x-python",
   "name": "python",
   "nbconvert_exporter": "python",
   "pygments_lexer": "ipython3",
   "version": "3.9.7"
  },
  "orig_nbformat": 4,
  "vscode": {
   "interpreter": {
    "hash": "941096ab4a304f3509822dba92ee1d36e30c4bf17f0e34fdfd12300d4a2ccfca"
   }
  }
 },
 "nbformat": 4,
 "nbformat_minor": 2
}
