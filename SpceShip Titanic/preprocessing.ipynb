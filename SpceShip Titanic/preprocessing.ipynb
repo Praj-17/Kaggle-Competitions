{
 "cells": [
  {
   "cell_type": "markdown",
   "metadata": {},
   "source": [
    "# SpaceShip Titanic"
   ]
  },
  {
   "cell_type": "code",
   "execution_count": 1263,
   "metadata": {},
   "outputs": [],
   "source": [
    "import seaborn as sns\n",
    "import pandas as pd\n",
    "from sklearn.impute import KNNImputer, SimpleImputer"
   ]
  },
  {
   "cell_type": "code",
   "execution_count": 1264,
   "metadata": {},
   "outputs": [],
   "source": [
    "\n",
    "\n",
    "train = pd.read_csv(r'data\\train.csv')\n",
    "test = pd.read_csv(r'data\\test.csv')"
   ]
  },
  {
   "cell_type": "code",
   "execution_count": 1265,
   "metadata": {},
   "outputs": [
    {
     "data": {
      "text/plain": [
       "<AxesSubplot:>"
      ]
     },
     "execution_count": 1265,
     "metadata": {},
     "output_type": "execute_result"
    },
    {
     "data": {
      "image/png": "[encoded data removed]",
      "text/plain": [
       "<Figure size 432x288 with 1 Axes>"
      ]
     },
     "metadata": {
      "needs_background": "light"
     },
     "output_type": "display_data"
    }
   ],
   "source": [
    "\n",
    "sns.heatmap(train.isnull(), yticklabels=False, cbar=False, cmap='viridis')"
   ]
  },
  {
   "cell_type": "code",
   "execution_count": 1266,
   "metadata": {},
   "outputs": [],
   "source": [
    "\n",
    "def impute_by_KNN(df,column_name):\n",
    "    fact_col, lable = pd.factorize(df[column_name])\n",
    "    imputer = KNNImputer(n_neighbors=5, weights=\"uniform\", add_indicator = True)\n",
    "    imputedHomePlanet = imputer.fit_transform([fact_col])\n",
    "    imputedHomePlanet =  pd.DataFrame([lable[i] for i in imputedHomePlanet[0] ])\n",
    "    df.drop(columns=column_name, inplace=True)\n",
    "    df[column_name ] = imputedHomePlanet[0]\n",
    "    return df\n",
    "    "
   ]
  },
  {
   "cell_type": "code",
   "execution_count": 1267,
   "metadata": {},
   "outputs": [],
   "source": [
    "def impute_by_Simple_mean(df, column_name:list):\n",
    "    imp = SimpleImputer( strategy='mean')\n",
    "    imp.fit(df[column_name])\n",
    "    transformed = imp.transform(df[column_name])\n",
    "    # print(transformed)\n",
    "    df = df.drop(df[column_name], axis = 1)\n",
    "    df[column_name ] = transformed\n",
    "    return df\n",
    "    \n",
    "    \n"
   ]
  },
  {
   "cell_type": "code",
   "execution_count": 1268,
   "metadata": {},
   "outputs": [],
   "source": [
    "# to_impute_num = ['Age', 'RoomService', 'FoodCourt', 'ShoppingMall', 'Spa', 'VRDeck']\n",
    "# for i in to_impute_num:\n",
    "#     train = impute_by_Simple_mean(train, [i] )"
   ]
  },
  {
   "cell_type": "code",
   "execution_count": 1269,
   "metadata": {},
   "outputs": [],
   "source": [
    "# to_impute_knn = ['HomePlanet', 'Destination', 'CryoSleep', 'VIP']\n",
    "# for i in to_impute_knn:\n",
    "#     train = impute_by_KNN(train,i)"
   ]
  },
  {
   "cell_type": "code",
   "execution_count": 1270,
   "metadata": {},
   "outputs": [],
   "source": [
    "# factHome, lable = pd.factorize(train['HomePlanet'])\n",
    "# factHome"
   ]
  },
  {
   "cell_type": "code",
   "execution_count": 1271,
   "metadata": {},
   "outputs": [],
   "source": [
    "# from sklearn.impute import KNNImputer\n",
    "# imputer = KNNImputer(n_neighbors=5, weights=\"uniform\", add_indicator = True)\n",
    "# imputedHomePlanet = imputer.fit_transform([factHome])"
   ]
  },
  {
   "cell_type": "code",
   "execution_count": 1272,
   "metadata": {},
   "outputs": [
    {
     "data": {
      "text/plain": [
       "<AxesSubplot:>"
      ]
     },
     "execution_count": 1272,
     "metadata": {},
     "output_type": "execute_result"
    },
    {
     "data": {
      "image/png": "[encoded data removed]",
      "text/plain": [
       "<Figure size 432x288 with 1 Axes>"
      ]
     },
     "metadata": {
      "needs_background": "light"
     },
     "output_type": "display_data"
    }
   ],
   "source": [
    "sns.heatmap(train.isnull(), yticklabels=False, cbar=False, cmap='viridis')"
   ]
  },
  {
   "cell_type": "code",
   "execution_count": null,
   "metadata": {},
   "outputs": [],
   "source": []
  },
  {
   "cell_type": "markdown",
   "metadata": {},
   "source": [
    "### Preserving Distict characters for Later Purpose"
   ]
  },
  {
   "cell_type": "code",
   "execution_count": 1273,
   "metadata": {},
   "outputs": [],
   "source": [
    "\n",
    "def remove_missing_values(df, to_impute_num, to_impute_knn):\n",
    "    for i in to_impute_num:\n",
    "        df = impute_by_Simple_mean(df, [i] )\n",
    "    for i in to_impute_knn:\n",
    "        df = impute_by_KNN(df,i)\n",
    "    \n",
    "    return df\n",
    "    "
   ]
  },
  {
   "cell_type": "markdown",
   "metadata": {},
   "source": [
    "Now the dataset Does not have any Null Values"
   ]
  },
  {
   "cell_type": "code",
   "execution_count": 1274,
   "metadata": {},
   "outputs": [],
   "source": [
    "to_impute_num = ['Age', 'RoomService', 'FoodCourt', 'ShoppingMall', 'Spa', 'VRDeck']\n",
    "to_impute_knn = ['HomePlanet', 'Destination', 'CryoSleep', 'VIP']"
   ]
  },
  {
   "cell_type": "code",
   "execution_count": 1275,
   "metadata": {},
   "outputs": [
    {
     "name": "stderr",
     "output_type": "stream",
     "text": [
      "C:\\Users\\pwayk\\AppData\\Local\\Temp/ipykernel_30704/2146097444.py:5: FutureWarning: Indexing with a float is deprecated, and will raise an IndexError in pandas 2.0. You can manually convert to an integer key instead.\n",
      "  imputedHomePlanet =  pd.DataFrame([lable[i] for i in imputedHomePlanet[0] ])\n",
      "C:\\Users\\pwayk\\AppData\\Local\\Temp/ipykernel_30704/2146097444.py:5: FutureWarning: Indexing with a float is deprecated, and will raise an IndexError in pandas 2.0. You can manually convert to an integer key instead.\n",
      "  imputedHomePlanet =  pd.DataFrame([lable[i] for i in imputedHomePlanet[0] ])\n",
      "C:\\Users\\pwayk\\AppData\\Local\\Temp/ipykernel_30704/2146097444.py:5: FutureWarning: Indexing with a float is deprecated, and will raise an IndexError in pandas 2.0. You can manually convert to an integer key instead.\n",
      "  imputedHomePlanet =  pd.DataFrame([lable[i] for i in imputedHomePlanet[0] ])\n",
      "C:\\Users\\pwayk\\AppData\\Local\\Temp/ipykernel_30704/2146097444.py:5: FutureWarning: Indexing with a float is deprecated, and will raise an IndexError in pandas 2.0. You can manually convert to an integer key instead.\n",
      "  imputedHomePlanet =  pd.DataFrame([lable[i] for i in imputedHomePlanet[0] ])\n",
      "C:\\Users\\pwayk\\AppData\\Local\\Temp/ipykernel_30704/2146097444.py:5: FutureWarning: Indexing with a float is deprecated, and will raise an IndexError in pandas 2.0. You can manually convert to an integer key instead.\n",
      "  imputedHomePlanet =  pd.DataFrame([lable[i] for i in imputedHomePlanet[0] ])\n",
      "C:\\Users\\pwayk\\AppData\\Local\\Temp/ipykernel_30704/2146097444.py:5: FutureWarning: Indexing with a float is deprecated, and will raise an IndexError in pandas 2.0. You can manually convert to an integer key instead.\n",
      "  imputedHomePlanet =  pd.DataFrame([lable[i] for i in imputedHomePlanet[0] ])\n",
      "C:\\Users\\pwayk\\AppData\\Local\\Temp/ipykernel_30704/2146097444.py:5: FutureWarning: Indexing with a float is deprecated, and will raise an IndexError in pandas 2.0. You can manually convert to an integer key instead.\n",
      "  imputedHomePlanet =  pd.DataFrame([lable[i] for i in imputedHomePlanet[0] ])\n",
      "C:\\Users\\pwayk\\AppData\\Local\\Temp/ipykernel_30704/2146097444.py:5: FutureWarning: Indexing with a float is deprecated, and will raise an IndexError in pandas 2.0. You can manually convert to an integer key instead.\n",
      "  imputedHomePlanet =  pd.DataFrame([lable[i] for i in imputedHomePlanet[0] ])\n"
     ]
    }
   ],
   "source": [
    "train = remove_missing_values(train, to_impute_num, to_impute_knn)\n",
    "test =  remove_missing_values(test, to_impute_num, to_impute_knn)"
   ]
  },
  {
   "cell_type": "code",
   "execution_count": 1276,
   "metadata": {},
   "outputs": [],
   "source": [
    "Name = train['Name']\n",
    "PassengerId =  train['PassengerId']\n",
    "Cabin = train['Cabin']\n",
    "train.drop(columns=['Name', 'PassengerId', 'Cabin'], inplace=True)"
   ]
  },
  {
   "cell_type": "markdown",
   "metadata": {},
   "source": [
    "Saving these columns for later use"
   ]
  },
  {
   "cell_type": "code",
   "execution_count": 1277,
   "metadata": {},
   "outputs": [],
   "source": [
    "df = pd.DataFrame(columns=  ['Name', 'PassengerId', 'Cabin'] )\n",
    "df['Name'] = Name\n",
    "df['PassengerId'] = PassengerId\n",
    "df['Cabin'] = Cabin\n",
    "df.to_csv('preprocessed_data/train_saved_columns.csv')"
   ]
  },
  {
   "cell_type": "code",
   "execution_count": 1278,
   "metadata": {},
   "outputs": [],
   "source": [
    "Name = test['Name']\n",
    "PassengerId =  test['PassengerId']\n",
    "Cabin = test['Cabin']\n",
    "test.drop(columns=['Name', 'PassengerId', 'Cabin'], inplace=True)"
   ]
  },
  {
   "cell_type": "code",
   "execution_count": 1279,
   "metadata": {},
   "outputs": [],
   "source": [
    "df = pd.DataFrame(columns=  ['Name', 'PassengerId', 'Cabin'] )\n",
    "df['Name'] = Name\n",
    "df['PassengerId'] = PassengerId\n",
    "df['Cabin'] = Cabin\n",
    "df.to_csv('preprocessed_data/test_saved_columns.csv')"
   ]
  },
  {
   "cell_type": "code",
   "execution_count": null,
   "metadata": {},
   "outputs": [],
   "source": []
  },
  {
   "cell_type": "code",
   "execution_count": 1280,
   "metadata": {},
   "outputs": [],
   "source": [
    "train.to_csv(r'preprocessed_data\\train_wo_missing.csv')\n",
    "test.to_csv(r'preprocessed_data\\test_wo_missing.csv')"
   ]
  },
  {
   "cell_type": "code",
   "execution_count": 1281,
   "metadata": {},
   "outputs": [
    {
     "data": {
      "text/plain": [
       "<AxesSubplot:>"
      ]
     },
     "execution_count": 1281,
     "metadata": {},
     "output_type": "execute_result"
    },
    {
     "data": {
      "image/png": "[encoded data removed]",
      "text/plain": [
       "<Figure size 432x288 with 1 Axes>"
      ]
     },
     "metadata": {
      "needs_background": "light"
     },
     "output_type": "display_data"
    }
   ],
   "source": [
    "\n",
    "sns.heatmap(train.isnull(), yticklabels=False, cbar=False, cmap='viridis')"
   ]
  },
  {
   "cell_type": "markdown",
   "metadata": {},
   "source": [
    "### Getting Dummies"
   ]
  },
  {
   "cell_type": "code",
   "execution_count": 1282,
   "metadata": {},
   "outputs": [],
   "source": [
    "# dummies  = pd.get_dummies(train['HomePlanet'], drop_first = True)\n",
    "# dummies  = pd.get_dummies(train['HomePlanet'])"
   ]
  },
  {
   "cell_type": "code",
   "execution_count": 1283,
   "metadata": {},
   "outputs": [
    {
     "data": {
      "text/plain": [
       "['HomePlanet', 'Destination', 'CryoSleep', 'VIP']"
      ]
     },
     "execution_count": 1283,
     "metadata": {},
     "output_type": "execute_result"
    }
   ],
   "source": [
    "to_impute_knn"
   ]
  },
  {
   "cell_type": "code",
   "execution_count": 1284,
   "metadata": {},
   "outputs": [],
   "source": [
    "def encode(df, to_impute_knn):\n",
    "    for i in to_impute_knn:\n",
    "        dummies  = pd.get_dummies(df[i], drop_first = True, prefix=i)\n",
    "        df = pd.concat([df,dummies], axis=1)\n",
    "        df= df.drop(i, axis = 1)\n",
    "    return df\n",
    "        \n",
    "    "
   ]
  },
  {
   "cell_type": "code",
   "execution_count": 1285,
   "metadata": {},
   "outputs": [],
   "source": [
    "train = encode(train, to_impute_knn)\n",
    "test  = encode(test,to_impute_knn )"
   ]
  },
  {
   "cell_type": "code",
   "execution_count": 1286,
   "metadata": {},
   "outputs": [],
   "source": [
    "train['Transported'], lable= pd.factorize(train['Transported'])"
   ]
  },
  {
   "cell_type": "code",
   "execution_count": 1287,
   "metadata": {},
   "outputs": [],
   "source": [
    "train.to_csv(r'preprocessed_data\\train_encoded.csv')\n",
    "test.to_csv(r'preprocessed_data\\test_encoded.csv')"
   ]
  },
  {
   "cell_type": "code",
   "execution_count": 1288,
   "metadata": {},
   "outputs": [
    {
     "data": {
      "text/html": [
       "<div>\n",
       "<style scoped>\n",
       "    .dataframe tbody tr th:only-of-type {\n",
       "        vertical-align: middle;\n",
       "    }\n",
       "\n",
       "    .dataframe tbody tr th {\n",
       "        vertical-align: top;\n",
       "    }\n",
       "\n",
       "    .dataframe thead th {\n",
       "        text-align: right;\n",
       "    }\n",
       "</style>\n",
       "<table border=\"1\" class=\"dataframe\">\n",
       "  <thead>\n",
       "    <tr style=\"text-align: right;\">\n",
       "      <th></th>\n",
       "      <th>Transported</th>\n",
       "      <th>Age</th>\n",
       "      <th>RoomService</th>\n",
       "      <th>FoodCourt</th>\n",
       "      <th>ShoppingMall</th>\n",
       "      <th>Spa</th>\n",
       "      <th>VRDeck</th>\n",
       "      <th>HomePlanet_Europa</th>\n",
       "      <th>HomePlanet_Mars</th>\n",
       "      <th>Destination_PSO J318.5-22</th>\n",
       "      <th>Destination_TRAPPIST-1e</th>\n",
       "      <th>CryoSleep_True</th>\n",
       "      <th>VIP_True</th>\n",
       "    </tr>\n",
       "  </thead>\n",
       "  <tbody>\n",
       "    <tr>\n",
       "      <th>0</th>\n",
       "      <td>0</td>\n",
       "      <td>39.0</td>\n",
       "      <td>0.0</td>\n",
       "      <td>0.0</td>\n",
       "      <td>0.0</td>\n",
       "      <td>0.0</td>\n",
       "      <td>0.0</td>\n",
       "      <td>1</td>\n",
       "      <td>0</td>\n",
       "      <td>0</td>\n",
       "      <td>1</td>\n",
       "      <td>0</td>\n",
       "      <td>0</td>\n",
       "    </tr>\n",
       "    <tr>\n",
       "      <th>1</th>\n",
       "      <td>1</td>\n",
       "      <td>24.0</td>\n",
       "      <td>109.0</td>\n",
       "      <td>9.0</td>\n",
       "      <td>25.0</td>\n",
       "      <td>549.0</td>\n",
       "      <td>44.0</td>\n",
       "      <td>0</td>\n",
       "      <td>0</td>\n",
       "      <td>0</td>\n",
       "      <td>1</td>\n",
       "      <td>0</td>\n",
       "      <td>0</td>\n",
       "    </tr>\n",
       "    <tr>\n",
       "      <th>2</th>\n",
       "      <td>0</td>\n",
       "      <td>58.0</td>\n",
       "      <td>43.0</td>\n",
       "      <td>3576.0</td>\n",
       "      <td>0.0</td>\n",
       "      <td>6715.0</td>\n",
       "      <td>49.0</td>\n",
       "      <td>1</td>\n",
       "      <td>0</td>\n",
       "      <td>0</td>\n",
       "      <td>1</td>\n",
       "      <td>0</td>\n",
       "      <td>1</td>\n",
       "    </tr>\n",
       "    <tr>\n",
       "      <th>3</th>\n",
       "      <td>0</td>\n",
       "      <td>33.0</td>\n",
       "      <td>0.0</td>\n",
       "      <td>1283.0</td>\n",
       "      <td>371.0</td>\n",
       "      <td>3329.0</td>\n",
       "      <td>193.0</td>\n",
       "      <td>1</td>\n",
       "      <td>0</td>\n",
       "      <td>0</td>\n",
       "      <td>1</td>\n",
       "      <td>0</td>\n",
       "      <td>0</td>\n",
       "    </tr>\n",
       "    <tr>\n",
       "      <th>4</th>\n",
       "      <td>1</td>\n",
       "      <td>16.0</td>\n",
       "      <td>303.0</td>\n",
       "      <td>70.0</td>\n",
       "      <td>151.0</td>\n",
       "      <td>565.0</td>\n",
       "      <td>2.0</td>\n",
       "      <td>0</td>\n",
       "      <td>0</td>\n",
       "      <td>0</td>\n",
       "      <td>1</td>\n",
       "      <td>0</td>\n",
       "      <td>0</td>\n",
       "    </tr>\n",
       "    <tr>\n",
       "      <th>...</th>\n",
       "      <td>...</td>\n",
       "      <td>...</td>\n",
       "      <td>...</td>\n",
       "      <td>...</td>\n",
       "      <td>...</td>\n",
       "      <td>...</td>\n",
       "      <td>...</td>\n",
       "      <td>...</td>\n",
       "      <td>...</td>\n",
       "      <td>...</td>\n",
       "      <td>...</td>\n",
       "      <td>...</td>\n",
       "      <td>...</td>\n",
       "    </tr>\n",
       "    <tr>\n",
       "      <th>8688</th>\n",
       "      <td>0</td>\n",
       "      <td>41.0</td>\n",
       "      <td>0.0</td>\n",
       "      <td>6819.0</td>\n",
       "      <td>0.0</td>\n",
       "      <td>1643.0</td>\n",
       "      <td>74.0</td>\n",
       "      <td>1</td>\n",
       "      <td>0</td>\n",
       "      <td>0</td>\n",
       "      <td>0</td>\n",
       "      <td>0</td>\n",
       "      <td>1</td>\n",
       "    </tr>\n",
       "    <tr>\n",
       "      <th>8689</th>\n",
       "      <td>0</td>\n",
       "      <td>18.0</td>\n",
       "      <td>0.0</td>\n",
       "      <td>0.0</td>\n",
       "      <td>0.0</td>\n",
       "      <td>0.0</td>\n",
       "      <td>0.0</td>\n",
       "      <td>0</td>\n",
       "      <td>0</td>\n",
       "      <td>1</td>\n",
       "      <td>0</td>\n",
       "      <td>1</td>\n",
       "      <td>0</td>\n",
       "    </tr>\n",
       "    <tr>\n",
       "      <th>8690</th>\n",
       "      <td>1</td>\n",
       "      <td>26.0</td>\n",
       "      <td>0.0</td>\n",
       "      <td>0.0</td>\n",
       "      <td>1872.0</td>\n",
       "      <td>1.0</td>\n",
       "      <td>0.0</td>\n",
       "      <td>0</td>\n",
       "      <td>0</td>\n",
       "      <td>0</td>\n",
       "      <td>1</td>\n",
       "      <td>0</td>\n",
       "      <td>0</td>\n",
       "    </tr>\n",
       "    <tr>\n",
       "      <th>8691</th>\n",
       "      <td>0</td>\n",
       "      <td>32.0</td>\n",
       "      <td>0.0</td>\n",
       "      <td>1049.0</td>\n",
       "      <td>0.0</td>\n",
       "      <td>353.0</td>\n",
       "      <td>3235.0</td>\n",
       "      <td>1</td>\n",
       "      <td>0</td>\n",
       "      <td>0</td>\n",
       "      <td>0</td>\n",
       "      <td>0</td>\n",
       "      <td>0</td>\n",
       "    </tr>\n",
       "    <tr>\n",
       "      <th>8692</th>\n",
       "      <td>1</td>\n",
       "      <td>44.0</td>\n",
       "      <td>126.0</td>\n",
       "      <td>4688.0</td>\n",
       "      <td>0.0</td>\n",
       "      <td>0.0</td>\n",
       "      <td>12.0</td>\n",
       "      <td>1</td>\n",
       "      <td>0</td>\n",
       "      <td>0</td>\n",
       "      <td>1</td>\n",
       "      <td>0</td>\n",
       "      <td>0</td>\n",
       "    </tr>\n",
       "  </tbody>\n",
       "</table>\n",
       "<p>8693 rows × 13 columns</p>\n",
       "</div>"
      ],
      "text/plain": [
       "      Transported   Age  RoomService  FoodCourt  ShoppingMall     Spa  VRDeck  \\\n",
       "0               0  39.0          0.0        0.0           0.0     0.0     0.0   \n",
       "1               1  24.0        109.0        9.0          25.0   549.0    44.0   \n",
       "2               0  58.0         43.0     3576.0           0.0  6715.0    49.0   \n",
       "3               0  33.0          0.0     1283.0         371.0  3329.0   193.0   \n",
       "4               1  16.0        303.0       70.0         151.0   565.0     2.0   \n",
       "...           ...   ...          ...        ...           ...     ...     ...   \n",
       "8688            0  41.0          0.0     6819.0           0.0  1643.0    74.0   \n",
       "8689            0  18.0          0.0        0.0           0.0     0.0     0.0   \n",
       "8690            1  26.0          0.0        0.0        1872.0     1.0     0.0   \n",
       "8691            0  32.0          0.0     1049.0           0.0   353.0  3235.0   \n",
       "8692            1  44.0        126.0     4688.0           0.0     0.0    12.0   \n",
       "\n",
       "      HomePlanet_Europa  HomePlanet_Mars  Destination_PSO J318.5-22  \\\n",
       "0                     1                0                          0   \n",
       "1                     0                0                          0   \n",
       "2                     1                0                          0   \n",
       "3                     1                0                          0   \n",
       "4                     0                0                          0   \n",
       "...                 ...              ...                        ...   \n",
       "8688                  1                0                          0   \n",
       "8689                  0                0                          1   \n",
       "8690                  0                0                          0   \n",
       "8691                  1                0                          0   \n",
       "8692                  1                0                          0   \n",
       "\n",
       "      Destination_TRAPPIST-1e  CryoSleep_True  VIP_True  \n",
       "0                           1               0         0  \n",
       "1                           1               0         0  \n",
       "2                           1               0         1  \n",
       "3                           1               0         0  \n",
       "4                           1               0         0  \n",
       "...                       ...             ...       ...  \n",
       "8688                        0               0         1  \n",
       "8689                        0               1         0  \n",
       "8690                        1               0         0  \n",
       "8691                        0               0         0  \n",
       "8692                        1               0         0  \n",
       "\n",
       "[8693 rows x 13 columns]"
      ]
     },
     "execution_count": 1288,
     "metadata": {},
     "output_type": "execute_result"
    }
   ],
   "source": [
    "train"
   ]
  },
  {
   "cell_type": "code",
   "execution_count": 1289,
   "metadata": {},
   "outputs": [
    {
     "data": {
      "text/html": [
       "<div>\n",
       "<style scoped>\n",
       "    .dataframe tbody tr th:only-of-type {\n",
       "        vertical-align: middle;\n",
       "    }\n",
       "\n",
       "    .dataframe tbody tr th {\n",
       "        vertical-align: top;\n",
       "    }\n",
       "\n",
       "    .dataframe thead th {\n",
       "        text-align: right;\n",
       "    }\n",
       "</style>\n",
       "<table border=\"1\" class=\"dataframe\">\n",
       "  <thead>\n",
       "    <tr style=\"text-align: right;\">\n",
       "      <th></th>\n",
       "      <th>Age</th>\n",
       "      <th>RoomService</th>\n",
       "      <th>FoodCourt</th>\n",
       "      <th>ShoppingMall</th>\n",
       "      <th>Spa</th>\n",
       "      <th>VRDeck</th>\n",
       "      <th>HomePlanet_Europa</th>\n",
       "      <th>HomePlanet_Mars</th>\n",
       "      <th>Destination_PSO J318.5-22</th>\n",
       "      <th>Destination_TRAPPIST-1e</th>\n",
       "      <th>CryoSleep_True</th>\n",
       "      <th>VIP_True</th>\n",
       "    </tr>\n",
       "  </thead>\n",
       "  <tbody>\n",
       "    <tr>\n",
       "      <th>0</th>\n",
       "      <td>27.000000</td>\n",
       "      <td>0.0</td>\n",
       "      <td>0.0</td>\n",
       "      <td>0.0</td>\n",
       "      <td>0.0</td>\n",
       "      <td>0.0</td>\n",
       "      <td>0</td>\n",
       "      <td>0</td>\n",
       "      <td>0</td>\n",
       "      <td>1</td>\n",
       "      <td>1</td>\n",
       "      <td>0</td>\n",
       "    </tr>\n",
       "    <tr>\n",
       "      <th>1</th>\n",
       "      <td>19.000000</td>\n",
       "      <td>0.0</td>\n",
       "      <td>9.0</td>\n",
       "      <td>0.0</td>\n",
       "      <td>2823.0</td>\n",
       "      <td>0.0</td>\n",
       "      <td>0</td>\n",
       "      <td>0</td>\n",
       "      <td>0</td>\n",
       "      <td>1</td>\n",
       "      <td>0</td>\n",
       "      <td>0</td>\n",
       "    </tr>\n",
       "    <tr>\n",
       "      <th>2</th>\n",
       "      <td>31.000000</td>\n",
       "      <td>0.0</td>\n",
       "      <td>0.0</td>\n",
       "      <td>0.0</td>\n",
       "      <td>0.0</td>\n",
       "      <td>0.0</td>\n",
       "      <td>1</td>\n",
       "      <td>0</td>\n",
       "      <td>0</td>\n",
       "      <td>0</td>\n",
       "      <td>1</td>\n",
       "      <td>0</td>\n",
       "    </tr>\n",
       "    <tr>\n",
       "      <th>3</th>\n",
       "      <td>38.000000</td>\n",
       "      <td>0.0</td>\n",
       "      <td>6652.0</td>\n",
       "      <td>0.0</td>\n",
       "      <td>181.0</td>\n",
       "      <td>585.0</td>\n",
       "      <td>1</td>\n",
       "      <td>0</td>\n",
       "      <td>0</td>\n",
       "      <td>1</td>\n",
       "      <td>0</td>\n",
       "      <td>0</td>\n",
       "    </tr>\n",
       "    <tr>\n",
       "      <th>4</th>\n",
       "      <td>20.000000</td>\n",
       "      <td>10.0</td>\n",
       "      <td>0.0</td>\n",
       "      <td>635.0</td>\n",
       "      <td>0.0</td>\n",
       "      <td>0.0</td>\n",
       "      <td>0</td>\n",
       "      <td>0</td>\n",
       "      <td>0</td>\n",
       "      <td>1</td>\n",
       "      <td>0</td>\n",
       "      <td>0</td>\n",
       "    </tr>\n",
       "    <tr>\n",
       "      <th>...</th>\n",
       "      <td>...</td>\n",
       "      <td>...</td>\n",
       "      <td>...</td>\n",
       "      <td>...</td>\n",
       "      <td>...</td>\n",
       "      <td>...</td>\n",
       "      <td>...</td>\n",
       "      <td>...</td>\n",
       "      <td>...</td>\n",
       "      <td>...</td>\n",
       "      <td>...</td>\n",
       "      <td>...</td>\n",
       "    </tr>\n",
       "    <tr>\n",
       "      <th>4272</th>\n",
       "      <td>34.000000</td>\n",
       "      <td>0.0</td>\n",
       "      <td>0.0</td>\n",
       "      <td>0.0</td>\n",
       "      <td>0.0</td>\n",
       "      <td>0.0</td>\n",
       "      <td>0</td>\n",
       "      <td>0</td>\n",
       "      <td>0</td>\n",
       "      <td>1</td>\n",
       "      <td>1</td>\n",
       "      <td>0</td>\n",
       "    </tr>\n",
       "    <tr>\n",
       "      <th>4273</th>\n",
       "      <td>42.000000</td>\n",
       "      <td>0.0</td>\n",
       "      <td>847.0</td>\n",
       "      <td>17.0</td>\n",
       "      <td>10.0</td>\n",
       "      <td>144.0</td>\n",
       "      <td>0</td>\n",
       "      <td>0</td>\n",
       "      <td>0</td>\n",
       "      <td>1</td>\n",
       "      <td>0</td>\n",
       "      <td>0</td>\n",
       "    </tr>\n",
       "    <tr>\n",
       "      <th>4274</th>\n",
       "      <td>28.658146</td>\n",
       "      <td>0.0</td>\n",
       "      <td>0.0</td>\n",
       "      <td>0.0</td>\n",
       "      <td>0.0</td>\n",
       "      <td>0.0</td>\n",
       "      <td>0</td>\n",
       "      <td>1</td>\n",
       "      <td>0</td>\n",
       "      <td>0</td>\n",
       "      <td>1</td>\n",
       "      <td>0</td>\n",
       "    </tr>\n",
       "    <tr>\n",
       "      <th>4275</th>\n",
       "      <td>28.658146</td>\n",
       "      <td>0.0</td>\n",
       "      <td>2680.0</td>\n",
       "      <td>0.0</td>\n",
       "      <td>0.0</td>\n",
       "      <td>523.0</td>\n",
       "      <td>1</td>\n",
       "      <td>0</td>\n",
       "      <td>1</td>\n",
       "      <td>0</td>\n",
       "      <td>0</td>\n",
       "      <td>0</td>\n",
       "    </tr>\n",
       "    <tr>\n",
       "      <th>4276</th>\n",
       "      <td>43.000000</td>\n",
       "      <td>0.0</td>\n",
       "      <td>0.0</td>\n",
       "      <td>0.0</td>\n",
       "      <td>0.0</td>\n",
       "      <td>0.0</td>\n",
       "      <td>0</td>\n",
       "      <td>0</td>\n",
       "      <td>1</td>\n",
       "      <td>0</td>\n",
       "      <td>1</td>\n",
       "      <td>0</td>\n",
       "    </tr>\n",
       "  </tbody>\n",
       "</table>\n",
       "<p>4277 rows × 12 columns</p>\n",
       "</div>"
      ],
      "text/plain": [
       "            Age  RoomService  FoodCourt  ShoppingMall     Spa  VRDeck  \\\n",
       "0     27.000000          0.0        0.0           0.0     0.0     0.0   \n",
       "1     19.000000          0.0        9.0           0.0  2823.0     0.0   \n",
       "2     31.000000          0.0        0.0           0.0     0.0     0.0   \n",
       "3     38.000000          0.0     6652.0           0.0   181.0   585.0   \n",
       "4     20.000000         10.0        0.0         635.0     0.0     0.0   \n",
       "...         ...          ...        ...           ...     ...     ...   \n",
       "4272  34.000000          0.0        0.0           0.0     0.0     0.0   \n",
       "4273  42.000000          0.0      847.0          17.0    10.0   144.0   \n",
       "4274  28.658146          0.0        0.0           0.0     0.0     0.0   \n",
       "4275  28.658146          0.0     2680.0           0.0     0.0   523.0   \n",
       "4276  43.000000          0.0        0.0           0.0     0.0     0.0   \n",
       "\n",
       "      HomePlanet_Europa  HomePlanet_Mars  Destination_PSO J318.5-22  \\\n",
       "0                     0                0                          0   \n",
       "1                     0                0                          0   \n",
       "2                     1                0                          0   \n",
       "3                     1                0                          0   \n",
       "4                     0                0                          0   \n",
       "...                 ...              ...                        ...   \n",
       "4272                  0                0                          0   \n",
       "4273                  0                0                          0   \n",
       "4274                  0                1                          0   \n",
       "4275                  1                0                          1   \n",
       "4276                  0                0                          1   \n",
       "\n",
       "      Destination_TRAPPIST-1e  CryoSleep_True  VIP_True  \n",
       "0                           1               1         0  \n",
       "1                           1               0         0  \n",
       "2                           0               1         0  \n",
       "3                           1               0         0  \n",
       "4                           1               0         0  \n",
       "...                       ...             ...       ...  \n",
       "4272                        1               1         0  \n",
       "4273                        1               0         0  \n",
       "4274                        0               1         0  \n",
       "4275                        0               0         0  \n",
       "4276                        0               1         0  \n",
       "\n",
       "[4277 rows x 12 columns]"
      ]
     },
     "execution_count": 1289,
     "metadata": {},
     "output_type": "execute_result"
    }
   ],
   "source": [
    "test"
   ]
  },
  {
   "cell_type": "markdown",
   "metadata": {},
   "source": [
    "# Outlier Detection"
   ]
  },
  {
   "cell_type": "code",
   "execution_count": 1290,
   "metadata": {},
   "outputs": [],
   "source": [
    "import matplotlib.pyplot as plt"
   ]
  },
  {
   "cell_type": "code",
   "execution_count": 1291,
   "metadata": {},
   "outputs": [],
   "source": [
    "df = pd.read_csv(r'preprocessed_data\\train_saved_columns.csv')\n",
    "column = 'Age'\n",
    "    # print( train[column].shape, PassengerId.shape)\n",
    "\n",
    "df1 = pd.read_csv(r'preprocessed_data\\train_saved_columns.csv')\n",
    "df2 = pd.read_csv(r'preprocessed_data\\train_encoded.csv')\n",
    "\n",
    "# sns.scatterplot(x = df2['Age'], y = df1['PassengerId'])\n",
    "    "
   ]
  },
  {
   "cell_type": "code",
   "execution_count": 1292,
   "metadata": {},
   "outputs": [],
   "source": [
    "df2['PassengerId'] = df1['PassengerId']"
   ]
  },
  {
   "cell_type": "code",
   "execution_count": 1293,
   "metadata": {},
   "outputs": [
    {
     "data": {
      "text/plain": [
       "{'whiskers': [<matplotlib.lines.Line2D at 0x24779207a60>,\n",
       "  <matplotlib.lines.Line2D at 0x24779207d30>],\n",
       " 'caps': [<matplotlib.lines.Line2D at 0x2477b1ac040>,\n",
       "  <matplotlib.lines.Line2D at 0x2477b1ac310>],\n",
       " 'boxes': [<matplotlib.lines.Line2D at 0x24779207790>],\n",
       " 'medians': [<matplotlib.lines.Line2D at 0x2477b1ac5e0>],\n",
       " 'fliers': [<matplotlib.lines.Line2D at 0x2477b1ac8b0>],\n",
       " 'means': []}"
      ]
     },
     "execution_count": 1293,
     "metadata": {},
     "output_type": "execute_result"
    },
    {
     "data": {
      "image/png": "[encoded data removed]",
      "text/plain": [
       "<Figure size 432x288 with 1 Axes>"
      ]
     },
     "metadata": {
      "needs_background": "light"
     },
     "output_type": "display_data"
    }
   ],
   "source": [
    "plt.boxplot(data = df2, x = 'RoomService')"
   ]
  },
  {
   "cell_type": "code",
   "execution_count": 1294,
   "metadata": {},
   "outputs": [],
   "source": [
    "\n",
    "import numpy as np\n",
    "def detect_outliers(data):\n",
    "    outliers=[]\n",
    "    threshold=3\n",
    "    mean = np.mean(data)\n",
    "    std =np.std(data)\n",
    "    \n",
    "    \n",
    "    for i in data:\n",
    "        z_score= (i - mean)/std \n",
    "        if np.abs(z_score) > threshold:\n",
    "            outliers.append(i)\n",
    "    return outliers"
   ]
  },
  {
   "cell_type": "code",
   "execution_count": 1295,
   "metadata": {},
   "outputs": [
    {
     "data": {
      "text/plain": [
       "30"
      ]
     },
     "execution_count": 1295,
     "metadata": {},
     "output_type": "execute_result"
    }
   ],
   "source": [
    "outliers_z = detect_outliers(df2['Age'])\n",
    "len(outliers_z)"
   ]
  },
  {
   "cell_type": "code",
   "execution_count": 1296,
   "metadata": {},
   "outputs": [],
   "source": [
    "def outlier_detection_using_Iqr(data):\n",
    "    outliers = []\n",
    "    data = sorted(data)\n",
    "    quantile1, quantile3= np.percentile(data,[25,75])\n",
    "    iqr_value=quantile3-quantile1\n",
    "    print(iqr_value)\n",
    "    lower_bound_val = quantile1 -(1.5 * iqr_value) \n",
    "    upper_bound_val = quantile3 +(1.5 * iqr_value)\n",
    "    for i in data :\n",
    "        if i<lower_bound_val or  i> upper_bound_val:\n",
    "            outliers.append(i)\n",
    "    return outliers\n",
    "    "
   ]
  },
  {
   "cell_type": "code",
   "execution_count": 1297,
   "metadata": {},
   "outputs": [
    {
     "name": "stdout",
     "output_type": "stream",
     "text": [
      "17.0\n"
     ]
    }
   ],
   "source": [
    "outliers_iqr = outlier_detection_using_Iqr(df2['Age'])"
   ]
  },
  {
   "cell_type": "code",
   "execution_count": 1298,
   "metadata": {},
   "outputs": [],
   "source": [
    "train['Expense'] = train['RoomService'] + train['VRDeck'] + train['FoodCourt'] + train['ShoppingMall'] + train['Spa']\n",
    "test['Expense'] = test['RoomService'] + test['VRDeck'] + test['FoodCourt'] + test['ShoppingMall'] + train['Spa']"
   ]
  },
  {
   "cell_type": "code",
   "execution_count": 1299,
   "metadata": {},
   "outputs": [
    {
     "data": {
      "text/plain": [
       "<AxesSubplot:xlabel='Expense', ylabel='Count'>"
      ]
     },
     "execution_count": 1299,
     "metadata": {},
     "output_type": "execute_result"
    },
    {
     "data": {
      "image/png": "[encoded data removed]",
      "text/plain": [
       "<Figure size 432x288 with 1 Axes>"
      ]
     },
     "metadata": {
      "needs_background": "light"
     },
     "output_type": "display_data"
    }
   ],
   "source": [
    "sns.histplot(data = train , x = 'Expense')"
   ]
  },
  {
   "cell_type": "code",
   "execution_count": 1300,
   "metadata": {},
   "outputs": [],
   "source": [
    "# train = train.drop(['RoomService', 'VRDeck', 'FoodCourt', 'ShoppingMall', 'Spa'], axis = 1)\n",
    "# test = test.drop(['RoomService', 'VRDeck', 'FoodCourt', 'ShoppingMall', 'Spa'], axis = 1)\n",
    "\n"
   ]
  },
  {
   "cell_type": "code",
   "execution_count": null,
   "metadata": {},
   "outputs": [],
   "source": [
    "\n"
   ]
  },
  {
   "cell_type": "code",
   "execution_count": 1301,
   "metadata": {},
   "outputs": [],
   "source": [
    "def outlier_detection_using_Iqr_skewed(data):\n",
    "        outliers = []\n",
    "        data = sorted(data)\n",
    "        quantile1, quantile3= np.percentile(data,[25,75])\n",
    "        iqr_value=quantile3-quantile1\n",
    "        lower_bound_val = quantile1 -(3 * iqr_value) \n",
    "        upper_bound_val = quantile3 +(3 * iqr_value)\n",
    "        # print(lower_bound_val)\n",
    "        # print(upper_bound_val)\n",
    "        for i in data :\n",
    "            if i<lower_bound_val or  i> upper_bound_val:\n",
    "                outliers.append(i)\n",
    "        return outliers"
   ]
  },
  {
   "cell_type": "code",
   "execution_count": 1302,
   "metadata": {},
   "outputs": [
    {
     "data": {
      "text/plain": [
       "520"
      ]
     },
     "execution_count": 1302,
     "metadata": {},
     "output_type": "execute_result"
    }
   ],
   "source": [
    "outlier_skewed = outlier_detection_using_Iqr_skewed(train['Expense'])\n",
    "len(outlier_skewed)"
   ]
  },
  {
   "cell_type": "code",
   "execution_count": 1303,
   "metadata": {},
   "outputs": [],
   "source": [
    "# train.loc[train['Expense'] > 0, 'Expense'] = 1\n",
    "# test.loc[test['Expense'] > 0, 'Expense'] = 1\n"
   ]
  },
  {
   "cell_type": "code",
   "execution_count": 1304,
   "metadata": {},
   "outputs": [],
   "source": [
    "def remove_outliers(data):\n",
    "    def detect_outliers(data):\n",
    "        outliers=[]\n",
    "        threshold=3\n",
    "        mean = np.mean(data)\n",
    "        std =np.std(data)\n",
    "        \n",
    "        \n",
    "        for i in data:\n",
    "            z_score= (i - mean)/std \n",
    "            if np.abs(z_score) > threshold:\n",
    "                outliers.append(i)\n",
    "        return outliers\n",
    "    def outlier_detection_using_Iqr(data):\n",
    "        outliers = []\n",
    "        data = sorted(data)\n",
    "        quantile1, quantile3= np.percentile(data,[25,75])\n",
    "        iqr_value=quantile3-quantile1\n",
    "        lower_bound_val = quantile1 -(1.5 * iqr_value) \n",
    "        upper_bound_val = quantile3 +(1.5 * iqr_value)\n",
    "        for i in data :\n",
    "            if i<lower_bound_val or  i> upper_bound_val:\n",
    "                outliers.append(i)\n",
    "        return outliers\n",
    "    def outlier_detection_using_Iqr_skewed(data):\n",
    "        outliers = []\n",
    "        data = sorted(data)\n",
    "        quantile1, quantile3= np.percentile(data,[25,75])\n",
    "        iqr_value=quantile3-quantile1\n",
    "        lower_bound_val = quantile1 -(3 * iqr_value) \n",
    "        upper_bound_val = quantile3 +(3 * iqr_value)\n",
    "        for i in data :\n",
    "            if i<lower_bound_val or  i> upper_bound_val:\n",
    "                outliers.append(i)\n",
    "        return outliers\n",
    "    \n",
    "    \n",
    "    outliers_z = detect_outliers(data['Age'])\n",
    "    outliers_iqr = outlier_detection_using_Iqr(data['Age'])\n",
    "    outliers_iqr_skewed = outlier_detection_using_Iqr_skewed(data['Expense'])\n",
    "    data['Expense'] = data['RoomService'] + data['VRDeck'] + data['FoodCourt'] + data['ShoppingMall'] + data['Spa']\n",
    "    \n",
    "    data.loc[data['Age']>=min( outliers_z ), 'Age'] = min( outliers_z )\n",
    "    data.loc[data['Expense']>=min(outliers_iqr_skewed), 'Expense'] = min( outliers_iqr_skewed )\n",
    "    \n",
    "   \n",
    "    \n",
    "    data = data.drop(['RoomService', 'VRDeck', 'FoodCourt', 'ShoppingMall', 'Spa'], axis = 1)\n",
    "    # data.loc[data['Expense'] > 0, 'Expense'] = 1\n",
    "    return data"
   ]
  },
  {
   "cell_type": "code",
   "execution_count": 1305,
   "metadata": {},
   "outputs": [],
   "source": [
    "train = remove_outliers(train)\n",
    "test = remove_outliers(test)"
   ]
  },
  {
   "cell_type": "code",
   "execution_count": 1306,
   "metadata": {},
   "outputs": [],
   "source": [
    "train.to_csv(r'preprocessed_data/train_wo_outliers_all_expense_01.csv')\n",
    "test.to_csv(r'preprocessed_data/test_wo_outliers_all_expense_01.csv')"
   ]
  },
  {
   "cell_type": "code",
   "execution_count": 1307,
   "metadata": {},
   "outputs": [],
   "source": [
    "# train.to_csv(r'preprocessed_data/train_wo_outliers_all.csv')\n",
    "# test.to_csv(r'preprocessed_data/test_wo_outliers_all.csv')"
   ]
  },
  {
   "cell_type": "code",
   "execution_count": 1308,
   "metadata": {},
   "outputs": [],
   "source": [
    "# train.to_csv(r'preprocessed_data/train_wo_outliers.csv')\n",
    "# test.to_csv(r'preprocessed_data/test_wo_outliers.csv')"
   ]
  },
  {
   "cell_type": "code",
   "execution_count": 1309,
   "metadata": {},
   "outputs": [
    {
     "data": {
      "text/plain": [
       "<AxesSubplot:xlabel='Expense', ylabel='Count'>"
      ]
     },
     "execution_count": 1309,
     "metadata": {},
     "output_type": "execute_result"
    },
    {
     "data": {
      "image/png": "[encoded data removed]",
      "text/plain": [
       "<Figure size 432x288 with 1 Axes>"
      ]
     },
     "metadata": {
      "needs_background": "light"
     },
     "output_type": "display_data"
    }
   ],
   "source": [
    "sns.histplot(data = train, x = 'Expense')"
   ]
  },
  {
   "cell_type": "code",
   "execution_count": 1310,
   "metadata": {},
   "outputs": [
    {
     "data": {
      "text/html": [
       "<div>\n",
       "<style scoped>\n",
       "    .dataframe tbody tr th:only-of-type {\n",
       "        vertical-align: middle;\n",
       "    }\n",
       "\n",
       "    .dataframe tbody tr th {\n",
       "        vertical-align: top;\n",
       "    }\n",
       "\n",
       "    .dataframe thead th {\n",
       "        text-align: right;\n",
       "    }\n",
       "</style>\n",
       "<table border=\"1\" class=\"dataframe\">\n",
       "  <thead>\n",
       "    <tr style=\"text-align: right;\">\n",
       "      <th></th>\n",
       "      <th>Transported</th>\n",
       "      <th>Age</th>\n",
       "      <th>HomePlanet_Europa</th>\n",
       "      <th>HomePlanet_Mars</th>\n",
       "      <th>Destination_PSO J318.5-22</th>\n",
       "      <th>Destination_TRAPPIST-1e</th>\n",
       "      <th>CryoSleep_True</th>\n",
       "      <th>VIP_True</th>\n",
       "      <th>Expense</th>\n",
       "    </tr>\n",
       "  </thead>\n",
       "  <tbody>\n",
       "    <tr>\n",
       "      <th>0</th>\n",
       "      <td>0</td>\n",
       "      <td>39.0</td>\n",
       "      <td>1</td>\n",
       "      <td>0</td>\n",
       "      <td>0</td>\n",
       "      <td>1</td>\n",
       "      <td>0</td>\n",
       "      <td>0</td>\n",
       "      <td>0.0</td>\n",
       "    </tr>\n",
       "    <tr>\n",
       "      <th>1</th>\n",
       "      <td>1</td>\n",
       "      <td>24.0</td>\n",
       "      <td>0</td>\n",
       "      <td>0</td>\n",
       "      <td>0</td>\n",
       "      <td>1</td>\n",
       "      <td>0</td>\n",
       "      <td>0</td>\n",
       "      <td>736.0</td>\n",
       "    </tr>\n",
       "    <tr>\n",
       "      <th>2</th>\n",
       "      <td>0</td>\n",
       "      <td>58.0</td>\n",
       "      <td>1</td>\n",
       "      <td>0</td>\n",
       "      <td>0</td>\n",
       "      <td>1</td>\n",
       "      <td>0</td>\n",
       "      <td>1</td>\n",
       "      <td>5863.0</td>\n",
       "    </tr>\n",
       "    <tr>\n",
       "      <th>3</th>\n",
       "      <td>0</td>\n",
       "      <td>33.0</td>\n",
       "      <td>1</td>\n",
       "      <td>0</td>\n",
       "      <td>0</td>\n",
       "      <td>1</td>\n",
       "      <td>0</td>\n",
       "      <td>0</td>\n",
       "      <td>5176.0</td>\n",
       "    </tr>\n",
       "    <tr>\n",
       "      <th>4</th>\n",
       "      <td>1</td>\n",
       "      <td>16.0</td>\n",
       "      <td>0</td>\n",
       "      <td>0</td>\n",
       "      <td>0</td>\n",
       "      <td>1</td>\n",
       "      <td>0</td>\n",
       "      <td>0</td>\n",
       "      <td>1091.0</td>\n",
       "    </tr>\n",
       "    <tr>\n",
       "      <th>...</th>\n",
       "      <td>...</td>\n",
       "      <td>...</td>\n",
       "      <td>...</td>\n",
       "      <td>...</td>\n",
       "      <td>...</td>\n",
       "      <td>...</td>\n",
       "      <td>...</td>\n",
       "      <td>...</td>\n",
       "      <td>...</td>\n",
       "    </tr>\n",
       "    <tr>\n",
       "      <th>8688</th>\n",
       "      <td>0</td>\n",
       "      <td>41.0</td>\n",
       "      <td>1</td>\n",
       "      <td>0</td>\n",
       "      <td>0</td>\n",
       "      <td>0</td>\n",
       "      <td>0</td>\n",
       "      <td>1</td>\n",
       "      <td>5863.0</td>\n",
       "    </tr>\n",
       "    <tr>\n",
       "      <th>8689</th>\n",
       "      <td>0</td>\n",
       "      <td>18.0</td>\n",
       "      <td>0</td>\n",
       "      <td>0</td>\n",
       "      <td>1</td>\n",
       "      <td>0</td>\n",
       "      <td>1</td>\n",
       "      <td>0</td>\n",
       "      <td>0.0</td>\n",
       "    </tr>\n",
       "    <tr>\n",
       "      <th>8690</th>\n",
       "      <td>1</td>\n",
       "      <td>26.0</td>\n",
       "      <td>0</td>\n",
       "      <td>0</td>\n",
       "      <td>0</td>\n",
       "      <td>1</td>\n",
       "      <td>0</td>\n",
       "      <td>0</td>\n",
       "      <td>1873.0</td>\n",
       "    </tr>\n",
       "    <tr>\n",
       "      <th>8691</th>\n",
       "      <td>0</td>\n",
       "      <td>32.0</td>\n",
       "      <td>1</td>\n",
       "      <td>0</td>\n",
       "      <td>0</td>\n",
       "      <td>0</td>\n",
       "      <td>0</td>\n",
       "      <td>0</td>\n",
       "      <td>4637.0</td>\n",
       "    </tr>\n",
       "    <tr>\n",
       "      <th>8692</th>\n",
       "      <td>1</td>\n",
       "      <td>44.0</td>\n",
       "      <td>1</td>\n",
       "      <td>0</td>\n",
       "      <td>0</td>\n",
       "      <td>1</td>\n",
       "      <td>0</td>\n",
       "      <td>0</td>\n",
       "      <td>4826.0</td>\n",
       "    </tr>\n",
       "  </tbody>\n",
       "</table>\n",
       "<p>8693 rows × 9 columns</p>\n",
       "</div>"
      ],
      "text/plain": [
       "      Transported   Age  HomePlanet_Europa  HomePlanet_Mars  \\\n",
       "0               0  39.0                  1                0   \n",
       "1               1  24.0                  0                0   \n",
       "2               0  58.0                  1                0   \n",
       "3               0  33.0                  1                0   \n",
       "4               1  16.0                  0                0   \n",
       "...           ...   ...                ...              ...   \n",
       "8688            0  41.0                  1                0   \n",
       "8689            0  18.0                  0                0   \n",
       "8690            1  26.0                  0                0   \n",
       "8691            0  32.0                  1                0   \n",
       "8692            1  44.0                  1                0   \n",
       "\n",
       "      Destination_PSO J318.5-22  Destination_TRAPPIST-1e  CryoSleep_True  \\\n",
       "0                             0                        1               0   \n",
       "1                             0                        1               0   \n",
       "2                             0                        1               0   \n",
       "3                             0                        1               0   \n",
       "4                             0                        1               0   \n",
       "...                         ...                      ...             ...   \n",
       "8688                          0                        0               0   \n",
       "8689                          1                        0               1   \n",
       "8690                          0                        1               0   \n",
       "8691                          0                        0               0   \n",
       "8692                          0                        1               0   \n",
       "\n",
       "      VIP_True  Expense  \n",
       "0            0      0.0  \n",
       "1            0    736.0  \n",
       "2            1   5863.0  \n",
       "3            0   5176.0  \n",
       "4            0   1091.0  \n",
       "...        ...      ...  \n",
       "8688         1   5863.0  \n",
       "8689         0      0.0  \n",
       "8690         0   1873.0  \n",
       "8691         0   4637.0  \n",
       "8692         0   4826.0  \n",
       "\n",
       "[8693 rows x 9 columns]"
      ]
     },
     "execution_count": 1310,
     "metadata": {},
     "output_type": "execute_result"
    }
   ],
   "source": [
    "train"
   ]
  },
  {
   "cell_type": "code",
   "execution_count": 1311,
   "metadata": {},
   "outputs": [
    {
     "data": {
      "text/plain": [
       "<AxesSubplot:xlabel='Expense', ylabel='Count'>"
      ]
     },
     "execution_count": 1311,
     "metadata": {},
     "output_type": "execute_result"
    },
    {
     "data": {
      "image/png": "[encoded data removed]",
      "text/plain": [
       "<Figure size 432x288 with 1 Axes>"
      ]
     },
     "metadata": {
      "needs_background": "light"
     },
     "output_type": "display_data"
    }
   ],
   "source": [
    "# sns.histplot(data = train, x = 'Age')\n",
    "sns.histplot(data = train, x = 'Expense')\n"
   ]
  },
  {
   "cell_type": "markdown",
   "metadata": {},
   "source": [
    "# Feature  Transformation"
   ]
  },
  {
   "cell_type": "markdown",
   "metadata": {},
   "source": [
    "#### Guassian Transformation\n",
    "\n",
    "Some machine learning algorithms like linear and logistic assume that the features are normally distributed\n",
    "-Accuracy\n",
    "-Performance\n",
    "- logarithmic transformation\n",
    "- reciprocal transformation\n",
    "- square root transformation\n",
    "- exponential transformation (more general, you can use any exponent)\n",
    "- boxcox transformation\n"
   ]
  },
  {
   "cell_type": "markdown",
   "metadata": {},
   "source": [
    "Here we can not do log and reciprocal and also BOXCOX since we have a lot of 0 values"
   ]
  },
  {
   "cell_type": "code",
   "execution_count": 1312,
   "metadata": {},
   "outputs": [],
   "source": [
    "import scipy.stats as stat\n",
    "import pylab "
   ]
  },
  {
   "cell_type": "code",
   "execution_count": 1313,
   "metadata": {},
   "outputs": [],
   "source": [
    "#### If you want to check whether feature is guassian or normal distributed\n",
    "#### Q-Q plot\n",
    "\n",
    "def plot_data(df,feature):\n",
    "    plt.figure(figsize=(10,6))\n",
    "    plt.subplot(1,2,1)\n",
    "    df[feature].hist()\n",
    "    plt.subplot(1,2,2)\n",
    "    stat.probplot(df[feature],dist='norm',plot=pylab)\n",
    "    plt.show()\n",
    "    "
   ]
  },
  {
   "cell_type": "code",
   "execution_count": 1314,
   "metadata": {},
   "outputs": [
    {
     "data": {
      "image/png": "[encoded data removed]",
      "text/plain": [
       "<Figure size 720x432 with 2 Axes>"
      ]
     },
     "metadata": {
      "needs_background": "light"
     },
     "output_type": "display_data"
    }
   ],
   "source": [
    "train['Age_log'] = np.log1p(train['Age'])\n",
    "plot_data(train,'Age_log')"
   ]
  },
  {
   "cell_type": "code",
   "execution_count": 1315,
   "metadata": {},
   "outputs": [
    {
     "data": {
      "image/png": "[encoded data removed]",
      "text/plain": [
       "<Figure size 720x432 with 2 Axes>"
      ]
     },
     "metadata": {
      "needs_background": "light"
     },
     "output_type": "display_data"
    }
   ],
   "source": [
    "plot_data(train,'Age')"
   ]
  },
  {
   "cell_type": "code",
   "execution_count": 1316,
   "metadata": {},
   "outputs": [
    {
     "data": {
      "image/png": "[encoded data removed]",
      "text/plain": [
       "<Figure size 720x432 with 2 Axes>"
      ]
     },
     "metadata": {
      "needs_background": "light"
     },
     "output_type": "display_data"
    }
   ],
   "source": [
    "train['Age_square_root'] = (train['Age'])**(1/2)\n",
    "plot_data(train,'Age_square_root')"
   ]
  },
  {
   "cell_type": "code",
   "execution_count": 1317,
   "metadata": {},
   "outputs": [
    {
     "data": {
      "image/png": "[encoded data removed]",
      "text/plain": [
       "<Figure size 720x432 with 2 Axes>"
      ]
     },
     "metadata": {
      "needs_background": "light"
     },
     "output_type": "display_data"
    }
   ],
   "source": [
    "train['Age_exponential']=train.Age**(1/1.2)\n",
    "plot_data(train,'Age_exponential')"
   ]
  },
  {
   "cell_type": "markdown",
   "metadata": {},
   "source": [
    "#### BoxCOx Transformation\n",
    "The Box-Cox transformation is defined as: \n",
    "\n",
    "T(Y)=(Y exp(λ)−1)/λ\n",
    "\n",
    "where Y is the response variable and λ is the transformation parameter. λ varies from -5 to 5. In the transformation, all values of λ  are considered and the optimal value for a given variable is selected."
   ]
  },
  {
   "cell_type": "code",
   "execution_count": 1318,
   "metadata": {},
   "outputs": [
    {
     "data": {
      "image/png": "[encoded data removed]",
      "text/plain": [
       "<Figure size 720x432 with 2 Axes>"
      ]
     },
     "metadata": {
      "needs_background": "light"
     },
     "output_type": "display_data"
    }
   ],
   "source": [
    "plot_data(train,'Expense')"
   ]
  },
  {
   "cell_type": "code",
   "execution_count": 1319,
   "metadata": {},
   "outputs": [
    {
     "data": {
      "image/png": "[encoded data removed]",
      "text/plain": [
       "<Figure size 720x432 with 2 Axes>"
      ]
     },
     "metadata": {
      "needs_background": "light"
     },
     "output_type": "display_data"
    }
   ],
   "source": [
    "train['Expense_square_root'] = (train['Expense'])**(1/2)\n",
    "plot_data(train,'Expense_square_root')"
   ]
  },
  {
   "cell_type": "code",
   "execution_count": 1320,
   "metadata": {},
   "outputs": [
    {
     "data": {
      "image/png": "[encoded data removed]",
      "text/plain": [
       "<Figure size 720x432 with 2 Axes>"
      ]
     },
     "metadata": {
      "needs_background": "light"
     },
     "output_type": "display_data"
    }
   ],
   "source": [
    "train['Expense_exponential']=train.Expense**(1/1.2)\n",
    "plot_data(train,'Expense_exponential')"
   ]
  },
  {
   "cell_type": "code",
   "execution_count": 1321,
   "metadata": {},
   "outputs": [
    {
     "data": {
      "image/png": "[encoded data removed]",
      "text/plain": [
       "<Figure size 720x432 with 2 Axes>"
      ]
     },
     "metadata": {
      "needs_background": "light"
     },
     "output_type": "display_data"
    }
   ],
   "source": [
    "train['Expense_log']=np.log1p(train.Expense)\n",
    "plot_data(train,'Expense_log')"
   ]
  },
  {
   "cell_type": "code",
   "execution_count": 1322,
   "metadata": {},
   "outputs": [
    {
     "data": {
      "text/html": [
       "<div>\n",
       "<style scoped>\n",
       "    .dataframe tbody tr th:only-of-type {\n",
       "        vertical-align: middle;\n",
       "    }\n",
       "\n",
       "    .dataframe tbody tr th {\n",
       "        vertical-align: top;\n",
       "    }\n",
       "\n",
       "    .dataframe thead th {\n",
       "        text-align: right;\n",
       "    }\n",
       "</style>\n",
       "<table border=\"1\" class=\"dataframe\">\n",
       "  <thead>\n",
       "    <tr style=\"text-align: right;\">\n",
       "      <th></th>\n",
       "      <th>Transported</th>\n",
       "      <th>Age</th>\n",
       "      <th>HomePlanet_Europa</th>\n",
       "      <th>HomePlanet_Mars</th>\n",
       "      <th>Destination_PSO J318.5-22</th>\n",
       "      <th>Destination_TRAPPIST-1e</th>\n",
       "      <th>CryoSleep_True</th>\n",
       "      <th>VIP_True</th>\n",
       "      <th>Expense</th>\n",
       "    </tr>\n",
       "  </thead>\n",
       "  <tbody>\n",
       "    <tr>\n",
       "      <th>0</th>\n",
       "      <td>0</td>\n",
       "      <td>39.0</td>\n",
       "      <td>1</td>\n",
       "      <td>0</td>\n",
       "      <td>0</td>\n",
       "      <td>1</td>\n",
       "      <td>0</td>\n",
       "      <td>0</td>\n",
       "      <td>0.0</td>\n",
       "    </tr>\n",
       "    <tr>\n",
       "      <th>1</th>\n",
       "      <td>1</td>\n",
       "      <td>24.0</td>\n",
       "      <td>0</td>\n",
       "      <td>0</td>\n",
       "      <td>0</td>\n",
       "      <td>1</td>\n",
       "      <td>0</td>\n",
       "      <td>0</td>\n",
       "      <td>736.0</td>\n",
       "    </tr>\n",
       "    <tr>\n",
       "      <th>2</th>\n",
       "      <td>0</td>\n",
       "      <td>58.0</td>\n",
       "      <td>1</td>\n",
       "      <td>0</td>\n",
       "      <td>0</td>\n",
       "      <td>1</td>\n",
       "      <td>0</td>\n",
       "      <td>1</td>\n",
       "      <td>5863.0</td>\n",
       "    </tr>\n",
       "    <tr>\n",
       "      <th>3</th>\n",
       "      <td>0</td>\n",
       "      <td>33.0</td>\n",
       "      <td>1</td>\n",
       "      <td>0</td>\n",
       "      <td>0</td>\n",
       "      <td>1</td>\n",
       "      <td>0</td>\n",
       "      <td>0</td>\n",
       "      <td>5176.0</td>\n",
       "    </tr>\n",
       "    <tr>\n",
       "      <th>4</th>\n",
       "      <td>1</td>\n",
       "      <td>16.0</td>\n",
       "      <td>0</td>\n",
       "      <td>0</td>\n",
       "      <td>0</td>\n",
       "      <td>1</td>\n",
       "      <td>0</td>\n",
       "      <td>0</td>\n",
       "      <td>1091.0</td>\n",
       "    </tr>\n",
       "    <tr>\n",
       "      <th>...</th>\n",
       "      <td>...</td>\n",
       "      <td>...</td>\n",
       "      <td>...</td>\n",
       "      <td>...</td>\n",
       "      <td>...</td>\n",
       "      <td>...</td>\n",
       "      <td>...</td>\n",
       "      <td>...</td>\n",
       "      <td>...</td>\n",
       "    </tr>\n",
       "    <tr>\n",
       "      <th>8688</th>\n",
       "      <td>0</td>\n",
       "      <td>41.0</td>\n",
       "      <td>1</td>\n",
       "      <td>0</td>\n",
       "      <td>0</td>\n",
       "      <td>0</td>\n",
       "      <td>0</td>\n",
       "      <td>1</td>\n",
       "      <td>5863.0</td>\n",
       "    </tr>\n",
       "    <tr>\n",
       "      <th>8689</th>\n",
       "      <td>0</td>\n",
       "      <td>18.0</td>\n",
       "      <td>0</td>\n",
       "      <td>0</td>\n",
       "      <td>1</td>\n",
       "      <td>0</td>\n",
       "      <td>1</td>\n",
       "      <td>0</td>\n",
       "      <td>0.0</td>\n",
       "    </tr>\n",
       "    <tr>\n",
       "      <th>8690</th>\n",
       "      <td>1</td>\n",
       "      <td>26.0</td>\n",
       "      <td>0</td>\n",
       "      <td>0</td>\n",
       "      <td>0</td>\n",
       "      <td>1</td>\n",
       "      <td>0</td>\n",
       "      <td>0</td>\n",
       "      <td>1873.0</td>\n",
       "    </tr>\n",
       "    <tr>\n",
       "      <th>8691</th>\n",
       "      <td>0</td>\n",
       "      <td>32.0</td>\n",
       "      <td>1</td>\n",
       "      <td>0</td>\n",
       "      <td>0</td>\n",
       "      <td>0</td>\n",
       "      <td>0</td>\n",
       "      <td>0</td>\n",
       "      <td>4637.0</td>\n",
       "    </tr>\n",
       "    <tr>\n",
       "      <th>8692</th>\n",
       "      <td>1</td>\n",
       "      <td>44.0</td>\n",
       "      <td>1</td>\n",
       "      <td>0</td>\n",
       "      <td>0</td>\n",
       "      <td>1</td>\n",
       "      <td>0</td>\n",
       "      <td>0</td>\n",
       "      <td>4826.0</td>\n",
       "    </tr>\n",
       "  </tbody>\n",
       "</table>\n",
       "<p>8693 rows × 9 columns</p>\n",
       "</div>"
      ],
      "text/plain": [
       "      Transported   Age  HomePlanet_Europa  HomePlanet_Mars  \\\n",
       "0               0  39.0                  1                0   \n",
       "1               1  24.0                  0                0   \n",
       "2               0  58.0                  1                0   \n",
       "3               0  33.0                  1                0   \n",
       "4               1  16.0                  0                0   \n",
       "...           ...   ...                ...              ...   \n",
       "8688            0  41.0                  1                0   \n",
       "8689            0  18.0                  0                0   \n",
       "8690            1  26.0                  0                0   \n",
       "8691            0  32.0                  1                0   \n",
       "8692            1  44.0                  1                0   \n",
       "\n",
       "      Destination_PSO J318.5-22  Destination_TRAPPIST-1e  CryoSleep_True  \\\n",
       "0                             0                        1               0   \n",
       "1                             0                        1               0   \n",
       "2                             0                        1               0   \n",
       "3                             0                        1               0   \n",
       "4                             0                        1               0   \n",
       "...                         ...                      ...             ...   \n",
       "8688                          0                        0               0   \n",
       "8689                          1                        0               1   \n",
       "8690                          0                        1               0   \n",
       "8691                          0                        0               0   \n",
       "8692                          0                        1               0   \n",
       "\n",
       "      VIP_True  Expense  \n",
       "0            0      0.0  \n",
       "1            0    736.0  \n",
       "2            1   5863.0  \n",
       "3            0   5176.0  \n",
       "4            0   1091.0  \n",
       "...        ...      ...  \n",
       "8688         1   5863.0  \n",
       "8689         0      0.0  \n",
       "8690         0   1873.0  \n",
       "8691         0   4637.0  \n",
       "8692         0   4826.0  \n",
       "\n",
       "[8693 rows x 9 columns]"
      ]
     },
     "execution_count": 1322,
     "metadata": {},
     "output_type": "execute_result"
    }
   ],
   "source": [
    "train = train.iloc[:, :9]\n",
    "train"
   ]
  },
  {
   "cell_type": "markdown",
   "metadata": {},
   "source": [
    "### The decision Made\n",
    "1. Use Standard Scalar on Age \n",
    "2. Use RobustScalar on Expense"
   ]
  },
  {
   "cell_type": "code",
   "execution_count": 1323,
   "metadata": {},
   "outputs": [],
   "source": [
    "from sklearn.preprocessing import StandardScaler, RobustScaler"
   ]
  },
  {
   "cell_type": "code",
   "execution_count": 1324,
   "metadata": {},
   "outputs": [
    {
     "data": {
      "text/html": [
       "<div>\n",
       "<style scoped>\n",
       "    .dataframe tbody tr th:only-of-type {\n",
       "        vertical-align: middle;\n",
       "    }\n",
       "\n",
       "    .dataframe tbody tr th {\n",
       "        vertical-align: top;\n",
       "    }\n",
       "\n",
       "    .dataframe thead th {\n",
       "        text-align: right;\n",
       "    }\n",
       "</style>\n",
       "<table border=\"1\" class=\"dataframe\">\n",
       "  <thead>\n",
       "    <tr style=\"text-align: right;\">\n",
       "      <th></th>\n",
       "      <th>Transported</th>\n",
       "      <th>Age</th>\n",
       "      <th>HomePlanet_Europa</th>\n",
       "      <th>HomePlanet_Mars</th>\n",
       "      <th>Destination_PSO J318.5-22</th>\n",
       "      <th>Destination_TRAPPIST-1e</th>\n",
       "      <th>CryoSleep_True</th>\n",
       "      <th>VIP_True</th>\n",
       "      <th>Expense</th>\n",
       "    </tr>\n",
       "  </thead>\n",
       "  <tbody>\n",
       "    <tr>\n",
       "      <th>0</th>\n",
       "      <td>0</td>\n",
       "      <td>39.0</td>\n",
       "      <td>1</td>\n",
       "      <td>0</td>\n",
       "      <td>0</td>\n",
       "      <td>1</td>\n",
       "      <td>0</td>\n",
       "      <td>0</td>\n",
       "      <td>0.0</td>\n",
       "    </tr>\n",
       "    <tr>\n",
       "      <th>1</th>\n",
       "      <td>1</td>\n",
       "      <td>24.0</td>\n",
       "      <td>0</td>\n",
       "      <td>0</td>\n",
       "      <td>0</td>\n",
       "      <td>1</td>\n",
       "      <td>0</td>\n",
       "      <td>0</td>\n",
       "      <td>736.0</td>\n",
       "    </tr>\n",
       "    <tr>\n",
       "      <th>2</th>\n",
       "      <td>0</td>\n",
       "      <td>58.0</td>\n",
       "      <td>1</td>\n",
       "      <td>0</td>\n",
       "      <td>0</td>\n",
       "      <td>1</td>\n",
       "      <td>0</td>\n",
       "      <td>1</td>\n",
       "      <td>5863.0</td>\n",
       "    </tr>\n",
       "    <tr>\n",
       "      <th>3</th>\n",
       "      <td>0</td>\n",
       "      <td>33.0</td>\n",
       "      <td>1</td>\n",
       "      <td>0</td>\n",
       "      <td>0</td>\n",
       "      <td>1</td>\n",
       "      <td>0</td>\n",
       "      <td>0</td>\n",
       "      <td>5176.0</td>\n",
       "    </tr>\n",
       "    <tr>\n",
       "      <th>4</th>\n",
       "      <td>1</td>\n",
       "      <td>16.0</td>\n",
       "      <td>0</td>\n",
       "      <td>0</td>\n",
       "      <td>0</td>\n",
       "      <td>1</td>\n",
       "      <td>0</td>\n",
       "      <td>0</td>\n",
       "      <td>1091.0</td>\n",
       "    </tr>\n",
       "    <tr>\n",
       "      <th>...</th>\n",
       "      <td>...</td>\n",
       "      <td>...</td>\n",
       "      <td>...</td>\n",
       "      <td>...</td>\n",
       "      <td>...</td>\n",
       "      <td>...</td>\n",
       "      <td>...</td>\n",
       "      <td>...</td>\n",
       "      <td>...</td>\n",
       "    </tr>\n",
       "    <tr>\n",
       "      <th>8688</th>\n",
       "      <td>0</td>\n",
       "      <td>41.0</td>\n",
       "      <td>1</td>\n",
       "      <td>0</td>\n",
       "      <td>0</td>\n",
       "      <td>0</td>\n",
       "      <td>0</td>\n",
       "      <td>1</td>\n",
       "      <td>5863.0</td>\n",
       "    </tr>\n",
       "    <tr>\n",
       "      <th>8689</th>\n",
       "      <td>0</td>\n",
       "      <td>18.0</td>\n",
       "      <td>0</td>\n",
       "      <td>0</td>\n",
       "      <td>1</td>\n",
       "      <td>0</td>\n",
       "      <td>1</td>\n",
       "      <td>0</td>\n",
       "      <td>0.0</td>\n",
       "    </tr>\n",
       "    <tr>\n",
       "      <th>8690</th>\n",
       "      <td>1</td>\n",
       "      <td>26.0</td>\n",
       "      <td>0</td>\n",
       "      <td>0</td>\n",
       "      <td>0</td>\n",
       "      <td>1</td>\n",
       "      <td>0</td>\n",
       "      <td>0</td>\n",
       "      <td>1873.0</td>\n",
       "    </tr>\n",
       "    <tr>\n",
       "      <th>8691</th>\n",
       "      <td>0</td>\n",
       "      <td>32.0</td>\n",
       "      <td>1</td>\n",
       "      <td>0</td>\n",
       "      <td>0</td>\n",
       "      <td>0</td>\n",
       "      <td>0</td>\n",
       "      <td>0</td>\n",
       "      <td>4637.0</td>\n",
       "    </tr>\n",
       "    <tr>\n",
       "      <th>8692</th>\n",
       "      <td>1</td>\n",
       "      <td>44.0</td>\n",
       "      <td>1</td>\n",
       "      <td>0</td>\n",
       "      <td>0</td>\n",
       "      <td>1</td>\n",
       "      <td>0</td>\n",
       "      <td>0</td>\n",
       "      <td>4826.0</td>\n",
       "    </tr>\n",
       "  </tbody>\n",
       "</table>\n",
       "<p>8693 rows × 9 columns</p>\n",
       "</div>"
      ],
      "text/plain": [
       "      Transported   Age  HomePlanet_Europa  HomePlanet_Mars  \\\n",
       "0               0  39.0                  1                0   \n",
       "1               1  24.0                  0                0   \n",
       "2               0  58.0                  1                0   \n",
       "3               0  33.0                  1                0   \n",
       "4               1  16.0                  0                0   \n",
       "...           ...   ...                ...              ...   \n",
       "8688            0  41.0                  1                0   \n",
       "8689            0  18.0                  0                0   \n",
       "8690            1  26.0                  0                0   \n",
       "8691            0  32.0                  1                0   \n",
       "8692            1  44.0                  1                0   \n",
       "\n",
       "      Destination_PSO J318.5-22  Destination_TRAPPIST-1e  CryoSleep_True  \\\n",
       "0                             0                        1               0   \n",
       "1                             0                        1               0   \n",
       "2                             0                        1               0   \n",
       "3                             0                        1               0   \n",
       "4                             0                        1               0   \n",
       "...                         ...                      ...             ...   \n",
       "8688                          0                        0               0   \n",
       "8689                          1                        0               1   \n",
       "8690                          0                        1               0   \n",
       "8691                          0                        0               0   \n",
       "8692                          0                        1               0   \n",
       "\n",
       "      VIP_True  Expense  \n",
       "0            0      0.0  \n",
       "1            0    736.0  \n",
       "2            1   5863.0  \n",
       "3            0   5176.0  \n",
       "4            0   1091.0  \n",
       "...        ...      ...  \n",
       "8688         1   5863.0  \n",
       "8689         0      0.0  \n",
       "8690         0   1873.0  \n",
       "8691         0   4637.0  \n",
       "8692         0   4826.0  \n",
       "\n",
       "[8693 rows x 9 columns]"
      ]
     },
     "execution_count": 1324,
     "metadata": {},
     "output_type": "execute_result"
    }
   ],
   "source": [
    "train"
   ]
  },
  {
   "cell_type": "code",
   "execution_count": 1325,
   "metadata": {},
   "outputs": [],
   "source": [
    "train.loc[train['Expense'] > 0, 'Expense_encoded'] = 1\n",
    "train.loc[train['Expense'] == 0, 'Expense_encoded'] = 0\n",
    "\n",
    "test.loc[test['Expense'] > 0, 'Expense_encoded'] = 1\n",
    "test.loc[test['Expense'] == 0, 'Expense_encoded'] = 0\n"
   ]
  },
  {
   "cell_type": "code",
   "execution_count": 1326,
   "metadata": {},
   "outputs": [],
   "source": [
    "std_scaler = StandardScaler()\n",
    "train['Age_scaled'] = pd.DataFrame(std_scaler.fit_transform(train[['Age']]), columns = ['Age_sclaed'])\n",
    "train['Expense_scaled'] = pd.DataFrame(std_scaler.fit_transform(train[['Expense']]), columns = ['Expense_scaled'])\n",
    "\n",
    "test['Age_scaled'] = pd.DataFrame(std_scaler.fit_transform(test[['Age']]), columns = ['Age_sclaed'])\n",
    "test['Expense_scaled'] = pd.DataFrame(std_scaler.fit_transform(test[['Expense']]), columns = ['Expense_scaled'])\n",
    "\n",
    "\n"
   ]
  },
  {
   "cell_type": "code",
   "execution_count": 1327,
   "metadata": {},
   "outputs": [
    {
     "data": {
      "text/html": [
       "<div>\n",
       "<style scoped>\n",
       "    .dataframe tbody tr th:only-of-type {\n",
       "        vertical-align: middle;\n",
       "    }\n",
       "\n",
       "    .dataframe tbody tr th {\n",
       "        vertical-align: top;\n",
       "    }\n",
       "\n",
       "    .dataframe thead th {\n",
       "        text-align: right;\n",
       "    }\n",
       "</style>\n",
       "<table border=\"1\" class=\"dataframe\">\n",
       "  <thead>\n",
       "    <tr style=\"text-align: right;\">\n",
       "      <th></th>\n",
       "      <th>Transported</th>\n",
       "      <th>Age</th>\n",
       "      <th>HomePlanet_Europa</th>\n",
       "      <th>HomePlanet_Mars</th>\n",
       "      <th>Destination_PSO J318.5-22</th>\n",
       "      <th>Destination_TRAPPIST-1e</th>\n",
       "      <th>CryoSleep_True</th>\n",
       "      <th>VIP_True</th>\n",
       "      <th>Expense</th>\n",
       "      <th>Expense_encoded</th>\n",
       "      <th>Age_scaled</th>\n",
       "      <th>Expense_scaled</th>\n",
       "    </tr>\n",
       "  </thead>\n",
       "  <tbody>\n",
       "    <tr>\n",
       "      <th>0</th>\n",
       "      <td>0</td>\n",
       "      <td>39.0</td>\n",
       "      <td>1</td>\n",
       "      <td>0</td>\n",
       "      <td>0</td>\n",
       "      <td>1</td>\n",
       "      <td>0</td>\n",
       "      <td>0</td>\n",
       "      <td>0.0</td>\n",
       "      <td>0.0</td>\n",
       "      <td>0.711687</td>\n",
       "      <td>-0.732460</td>\n",
       "    </tr>\n",
       "    <tr>\n",
       "      <th>1</th>\n",
       "      <td>1</td>\n",
       "      <td>24.0</td>\n",
       "      <td>0</td>\n",
       "      <td>0</td>\n",
       "      <td>0</td>\n",
       "      <td>1</td>\n",
       "      <td>0</td>\n",
       "      <td>0</td>\n",
       "      <td>736.0</td>\n",
       "      <td>1.0</td>\n",
       "      <td>-0.336766</td>\n",
       "      <td>-0.285081</td>\n",
       "    </tr>\n",
       "    <tr>\n",
       "      <th>2</th>\n",
       "      <td>0</td>\n",
       "      <td>58.0</td>\n",
       "      <td>1</td>\n",
       "      <td>0</td>\n",
       "      <td>0</td>\n",
       "      <td>1</td>\n",
       "      <td>0</td>\n",
       "      <td>1</td>\n",
       "      <td>5863.0</td>\n",
       "      <td>1.0</td>\n",
       "      <td>2.039727</td>\n",
       "      <td>2.831376</td>\n",
       "    </tr>\n",
       "    <tr>\n",
       "      <th>3</th>\n",
       "      <td>0</td>\n",
       "      <td>33.0</td>\n",
       "      <td>1</td>\n",
       "      <td>0</td>\n",
       "      <td>0</td>\n",
       "      <td>1</td>\n",
       "      <td>0</td>\n",
       "      <td>0</td>\n",
       "      <td>5176.0</td>\n",
       "      <td>1.0</td>\n",
       "      <td>0.292306</td>\n",
       "      <td>2.413781</td>\n",
       "    </tr>\n",
       "    <tr>\n",
       "      <th>4</th>\n",
       "      <td>1</td>\n",
       "      <td>16.0</td>\n",
       "      <td>0</td>\n",
       "      <td>0</td>\n",
       "      <td>0</td>\n",
       "      <td>1</td>\n",
       "      <td>0</td>\n",
       "      <td>0</td>\n",
       "      <td>1091.0</td>\n",
       "      <td>1.0</td>\n",
       "      <td>-0.895940</td>\n",
       "      <td>-0.069294</td>\n",
       "    </tr>\n",
       "    <tr>\n",
       "      <th>...</th>\n",
       "      <td>...</td>\n",
       "      <td>...</td>\n",
       "      <td>...</td>\n",
       "      <td>...</td>\n",
       "      <td>...</td>\n",
       "      <td>...</td>\n",
       "      <td>...</td>\n",
       "      <td>...</td>\n",
       "      <td>...</td>\n",
       "      <td>...</td>\n",
       "      <td>...</td>\n",
       "      <td>...</td>\n",
       "    </tr>\n",
       "    <tr>\n",
       "      <th>8688</th>\n",
       "      <td>0</td>\n",
       "      <td>41.0</td>\n",
       "      <td>1</td>\n",
       "      <td>0</td>\n",
       "      <td>0</td>\n",
       "      <td>0</td>\n",
       "      <td>0</td>\n",
       "      <td>1</td>\n",
       "      <td>5863.0</td>\n",
       "      <td>1.0</td>\n",
       "      <td>0.851481</td>\n",
       "      <td>2.831376</td>\n",
       "    </tr>\n",
       "    <tr>\n",
       "      <th>8689</th>\n",
       "      <td>0</td>\n",
       "      <td>18.0</td>\n",
       "      <td>0</td>\n",
       "      <td>0</td>\n",
       "      <td>1</td>\n",
       "      <td>0</td>\n",
       "      <td>1</td>\n",
       "      <td>0</td>\n",
       "      <td>0.0</td>\n",
       "      <td>0.0</td>\n",
       "      <td>-0.756147</td>\n",
       "      <td>-0.732460</td>\n",
       "    </tr>\n",
       "    <tr>\n",
       "      <th>8690</th>\n",
       "      <td>1</td>\n",
       "      <td>26.0</td>\n",
       "      <td>0</td>\n",
       "      <td>0</td>\n",
       "      <td>0</td>\n",
       "      <td>1</td>\n",
       "      <td>0</td>\n",
       "      <td>0</td>\n",
       "      <td>1873.0</td>\n",
       "      <td>1.0</td>\n",
       "      <td>-0.196972</td>\n",
       "      <td>0.406046</td>\n",
       "    </tr>\n",
       "    <tr>\n",
       "      <th>8691</th>\n",
       "      <td>0</td>\n",
       "      <td>32.0</td>\n",
       "      <td>1</td>\n",
       "      <td>0</td>\n",
       "      <td>0</td>\n",
       "      <td>0</td>\n",
       "      <td>0</td>\n",
       "      <td>0</td>\n",
       "      <td>4637.0</td>\n",
       "      <td>1.0</td>\n",
       "      <td>0.222409</td>\n",
       "      <td>2.086149</td>\n",
       "    </tr>\n",
       "    <tr>\n",
       "      <th>8692</th>\n",
       "      <td>1</td>\n",
       "      <td>44.0</td>\n",
       "      <td>1</td>\n",
       "      <td>0</td>\n",
       "      <td>0</td>\n",
       "      <td>1</td>\n",
       "      <td>0</td>\n",
       "      <td>0</td>\n",
       "      <td>4826.0</td>\n",
       "      <td>1.0</td>\n",
       "      <td>1.061171</td>\n",
       "      <td>2.201033</td>\n",
       "    </tr>\n",
       "  </tbody>\n",
       "</table>\n",
       "<p>8693 rows × 12 columns</p>\n",
       "</div>"
      ],
      "text/plain": [
       "      Transported   Age  HomePlanet_Europa  HomePlanet_Mars  \\\n",
       "0               0  39.0                  1                0   \n",
       "1               1  24.0                  0                0   \n",
       "2               0  58.0                  1                0   \n",
       "3               0  33.0                  1                0   \n",
       "4               1  16.0                  0                0   \n",
       "...           ...   ...                ...              ...   \n",
       "8688            0  41.0                  1                0   \n",
       "8689            0  18.0                  0                0   \n",
       "8690            1  26.0                  0                0   \n",
       "8691            0  32.0                  1                0   \n",
       "8692            1  44.0                  1                0   \n",
       "\n",
       "      Destination_PSO J318.5-22  Destination_TRAPPIST-1e  CryoSleep_True  \\\n",
       "0                             0                        1               0   \n",
       "1                             0                        1               0   \n",
       "2                             0                        1               0   \n",
       "3                             0                        1               0   \n",
       "4                             0                        1               0   \n",
       "...                         ...                      ...             ...   \n",
       "8688                          0                        0               0   \n",
       "8689                          1                        0               1   \n",
       "8690                          0                        1               0   \n",
       "8691                          0                        0               0   \n",
       "8692                          0                        1               0   \n",
       "\n",
       "      VIP_True  Expense  Expense_encoded  Age_scaled  Expense_scaled  \n",
       "0            0      0.0              0.0    0.711687       -0.732460  \n",
       "1            0    736.0              1.0   -0.336766       -0.285081  \n",
       "2            1   5863.0              1.0    2.039727        2.831376  \n",
       "3            0   5176.0              1.0    0.292306        2.413781  \n",
       "4            0   1091.0              1.0   -0.895940       -0.069294  \n",
       "...        ...      ...              ...         ...             ...  \n",
       "8688         1   5863.0              1.0    0.851481        2.831376  \n",
       "8689         0      0.0              0.0   -0.756147       -0.732460  \n",
       "8690         0   1873.0              1.0   -0.196972        0.406046  \n",
       "8691         0   4637.0              1.0    0.222409        2.086149  \n",
       "8692         0   4826.0              1.0    1.061171        2.201033  \n",
       "\n",
       "[8693 rows x 12 columns]"
      ]
     },
     "execution_count": 1327,
     "metadata": {},
     "output_type": "execute_result"
    }
   ],
   "source": [
    "train\n"
   ]
  },
  {
   "cell_type": "code",
   "execution_count": 1328,
   "metadata": {},
   "outputs": [
    {
     "data": {
      "text/plain": [
       "<AxesSubplot:>"
      ]
     },
     "execution_count": 1328,
     "metadata": {},
     "output_type": "execute_result"
    },
    {
     "data": {
      "image/png": "[encoded data removed]",
      "text/plain": [
       "<Figure size 432x288 with 1 Axes>"
      ]
     },
     "metadata": {
      "needs_background": "light"
     },
     "output_type": "display_data"
    }
   ],
   "source": [
    "\n",
    "sns.heatmap(train.isnull(), yticklabels=False, cbar=False, cmap='viridis')"
   ]
  },
  {
   "cell_type": "markdown",
   "metadata": {},
   "source": [
    "# Generating New Logical Columns"
   ]
  },
  {
   "cell_type": "code",
   "execution_count": 1329,
   "metadata": {},
   "outputs": [],
   "source": [
    "train_saved =pd.read_csv(r'preprocessed_data\\train_saved_columns.csv')\n",
    "test_saved = pd.read_csv(r'preprocessed_data\\test_saved_columns.csv')"
   ]
  },
  {
   "cell_type": "code",
   "execution_count": 1330,
   "metadata": {},
   "outputs": [],
   "source": [
    "train_saved = train_saved.iloc[:,1:]\n",
    "test_saved = test_saved.iloc[:,1:]"
   ]
  },
  {
   "cell_type": "code",
   "execution_count": 1331,
   "metadata": {},
   "outputs": [
    {
     "data": {
      "text/plain": [
       "<AxesSubplot:>"
      ]
     },
     "execution_count": 1331,
     "metadata": {},
     "output_type": "execute_result"
    },
    {
     "data": {
      "image/png": "[encoded data removed]",
      "text/plain": [
       "<Figure size 432x288 with 1 Axes>"
      ]
     },
     "metadata": {
      "needs_background": "light"
     },
     "output_type": "display_data"
    }
   ],
   "source": [
    "\n",
    "sns.heatmap(train_saved.isnull(), yticklabels=False, cbar=False, cmap='viridis')\n",
    "\n",
    "sns.heatmap(test_saved.isnull(), yticklabels=False, cbar=False, cmap='viridis')"
   ]
  },
  {
   "cell_type": "markdown",
   "metadata": {},
   "source": [
    "### Handling missing Values"
   ]
  },
  {
   "cell_type": "code",
   "execution_count": 1332,
   "metadata": {},
   "outputs": [
    {
     "name": "stderr",
     "output_type": "stream",
     "text": [
      "C:\\Users\\pwayk\\AppData\\Local\\Temp/ipykernel_30704/2146097444.py:5: FutureWarning: Indexing with a float is deprecated, and will raise an IndexError in pandas 2.0. You can manually convert to an integer key instead.\n",
      "  imputedHomePlanet =  pd.DataFrame([lable[i] for i in imputedHomePlanet[0] ])\n",
      "C:\\Users\\pwayk\\AppData\\Local\\Temp/ipykernel_30704/2146097444.py:5: FutureWarning: Indexing with a float is deprecated, and will raise an IndexError in pandas 2.0. You can manually convert to an integer key instead.\n",
      "  imputedHomePlanet =  pd.DataFrame([lable[i] for i in imputedHomePlanet[0] ])\n",
      "C:\\Users\\pwayk\\AppData\\Local\\Temp/ipykernel_30704/2146097444.py:5: FutureWarning: Indexing with a float is deprecated, and will raise an IndexError in pandas 2.0. You can manually convert to an integer key instead.\n",
      "  imputedHomePlanet =  pd.DataFrame([lable[i] for i in imputedHomePlanet[0] ])\n",
      "C:\\Users\\pwayk\\AppData\\Local\\Temp/ipykernel_30704/2146097444.py:5: FutureWarning: Indexing with a float is deprecated, and will raise an IndexError in pandas 2.0. You can manually convert to an integer key instead.\n",
      "  imputedHomePlanet =  pd.DataFrame([lable[i] for i in imputedHomePlanet[0] ])\n"
     ]
    }
   ],
   "source": [
    "train_saved = impute_by_KNN(train_saved,'Cabin')\n",
    "test_saved = impute_by_KNN(test_saved,'Cabin')\n",
    "\n",
    "train_saved = impute_by_KNN(train_saved,'Name')\n",
    "test_saved = impute_by_KNN(test_saved,'Name')\n",
    "\n"
   ]
  },
  {
   "cell_type": "code",
   "execution_count": 1333,
   "metadata": {},
   "outputs": [
    {
     "data": {
      "text/plain": [
       "<AxesSubplot:>"
      ]
     },
     "execution_count": 1333,
     "metadata": {},
     "output_type": "execute_result"
    },
    {
     "data": {
      "image/png": "[encoded data removed]",
      "text/plain": [
       "<Figure size 432x288 with 1 Axes>"
      ]
     },
     "metadata": {
      "needs_background": "light"
     },
     "output_type": "display_data"
    }
   ],
   "source": [
    "\n",
    "sns.heatmap(train_saved.isnull(), yticklabels=False, cbar=False, cmap='viridis')\n",
    "\n",
    "# sns.heatmap(test_saved.isnull(), yticklabels=False, cbar=False, cmap='viridis')"
   ]
  },
  {
   "cell_type": "code",
   "execution_count": 1334,
   "metadata": {},
   "outputs": [
    {
     "data": {
      "text/plain": [
       "0       0001_01\n",
       "1       0002_01\n",
       "2       0003_01\n",
       "3       0003_02\n",
       "4       0004_01\n",
       "         ...   \n",
       "8688    9276_01\n",
       "8689    9278_01\n",
       "8690    9279_01\n",
       "8691    9280_01\n",
       "8692    9280_02\n",
       "Name: PassengerId, Length: 8693, dtype: object"
      ]
     },
     "execution_count": 1334,
     "metadata": {},
     "output_type": "execute_result"
    }
   ],
   "source": [
    "train_saved['PassengerId']"
   ]
  },
  {
   "cell_type": "markdown",
   "metadata": {},
   "source": [
    "### Generating New columns by splitting"
   ]
  },
  {
   "cell_type": "code",
   "execution_count": 1335,
   "metadata": {},
   "outputs": [],
   "source": [
    "train_saved['Group_id'] = [int((i.split('_'))[0]) for i in  train_saved['PassengerId'] ]\n",
    "test_saved['Group_id'] = [int((i.split('_'))[0]) for i in  test_saved['PassengerId'] ]\n",
    "\n",
    "train_saved['Member_id'] = [int((i.split('_'))[1]) for i in  train_saved['PassengerId'] ]\n",
    "test_saved['Member_id'] = [int((i.split('_'))[1]) for i in  test_saved['PassengerId'] ]"
   ]
  },
  {
   "cell_type": "code",
   "execution_count": 1336,
   "metadata": {},
   "outputs": [],
   "source": [
    "train_saved['Deck'] = [(i.split('/'))[0] for i in  train_saved['Cabin']]\n",
    "test_saved['Deck'] = [(i.split('/'))[0] for i  in  test_saved['Cabin']]\n",
    "\n",
    "train_saved['Cabin_Num'] = [int((i.split('/'))[1]) for i in  train_saved['Cabin']]\n",
    "test_saved['Cabin_Num'] = [int((i.split('/'))[1]) for i  in  test_saved['Cabin']]\n",
    "\n",
    "train_saved['Cabin_side'] = [(i.split('/'))[2] for i in  train_saved['Cabin']]\n",
    "test_saved['Cabin_side'] = [(i.split('/'))[2] for i  in  test_saved['Cabin']]\n",
    "\n",
    "\n",
    "                               \n",
    "                            \n",
    "                              \n"
   ]
  },
  {
   "cell_type": "markdown",
   "metadata": {},
   "source": [
    "#### Length Of Name"
   ]
  },
  {
   "cell_type": "code",
   "execution_count": 1337,
   "metadata": {},
   "outputs": [],
   "source": [
    "train_saved['Name_Length'] = [len(i) for i  in  train_saved['Name']]\n",
    "test_saved['Name_Length'] = [len(i) for i  in  test_saved['Name']]"
   ]
  },
  {
   "cell_type": "markdown",
   "metadata": {},
   "source": [
    "#### Number of Group Members"
   ]
  },
  {
   "cell_type": "code",
   "execution_count": 1338,
   "metadata": {},
   "outputs": [],
   "source": [
    "Group_id_counts = dict(train_saved['Group_id'].value_counts())\n",
    "Group_id_counts2 = dict(test_saved['Group_id'].value_counts())\n",
    "\n",
    "\n",
    "train_saved['Group_members'] = [Group_id_counts[i] for i in train_saved['Group_id']]\n",
    "\n",
    "test_saved['Group_members'] = [Group_id_counts2[i] for i in test_saved['Group_id']]\n",
    "\n"
   ]
  },
  {
   "cell_type": "code",
   "execution_count": 1339,
   "metadata": {},
   "outputs": [
    {
     "data": {
      "text/html": [
       "<div>\n",
       "<style scoped>\n",
       "    .dataframe tbody tr th:only-of-type {\n",
       "        vertical-align: middle;\n",
       "    }\n",
       "\n",
       "    .dataframe tbody tr th {\n",
       "        vertical-align: top;\n",
       "    }\n",
       "\n",
       "    .dataframe thead th {\n",
       "        text-align: right;\n",
       "    }\n",
       "</style>\n",
       "<table border=\"1\" class=\"dataframe\">\n",
       "  <thead>\n",
       "    <tr style=\"text-align: right;\">\n",
       "      <th></th>\n",
       "      <th>PassengerId</th>\n",
       "      <th>Cabin</th>\n",
       "      <th>Name</th>\n",
       "      <th>Group_id</th>\n",
       "      <th>Member_id</th>\n",
       "      <th>Deck</th>\n",
       "      <th>Cabin_Num</th>\n",
       "      <th>Cabin_side</th>\n",
       "      <th>Name_Length</th>\n",
       "      <th>Group_members</th>\n",
       "    </tr>\n",
       "  </thead>\n",
       "  <tbody>\n",
       "    <tr>\n",
       "      <th>0</th>\n",
       "      <td>0013_01</td>\n",
       "      <td>G/3/S</td>\n",
       "      <td>Nelly Carsoning</td>\n",
       "      <td>13</td>\n",
       "      <td>1</td>\n",
       "      <td>G</td>\n",
       "      <td>3</td>\n",
       "      <td>S</td>\n",
       "      <td>15</td>\n",
       "      <td>1</td>\n",
       "    </tr>\n",
       "    <tr>\n",
       "      <th>1</th>\n",
       "      <td>0018_01</td>\n",
       "      <td>F/4/S</td>\n",
       "      <td>Lerome Peckers</td>\n",
       "      <td>18</td>\n",
       "      <td>1</td>\n",
       "      <td>F</td>\n",
       "      <td>4</td>\n",
       "      <td>S</td>\n",
       "      <td>14</td>\n",
       "      <td>1</td>\n",
       "    </tr>\n",
       "    <tr>\n",
       "      <th>2</th>\n",
       "      <td>0019_01</td>\n",
       "      <td>C/0/S</td>\n",
       "      <td>Sabih Unhearfus</td>\n",
       "      <td>19</td>\n",
       "      <td>1</td>\n",
       "      <td>C</td>\n",
       "      <td>0</td>\n",
       "      <td>S</td>\n",
       "      <td>15</td>\n",
       "      <td>1</td>\n",
       "    </tr>\n",
       "    <tr>\n",
       "      <th>3</th>\n",
       "      <td>0021_01</td>\n",
       "      <td>C/1/S</td>\n",
       "      <td>Meratz Caltilter</td>\n",
       "      <td>21</td>\n",
       "      <td>1</td>\n",
       "      <td>C</td>\n",
       "      <td>1</td>\n",
       "      <td>S</td>\n",
       "      <td>16</td>\n",
       "      <td>1</td>\n",
       "    </tr>\n",
       "    <tr>\n",
       "      <th>4</th>\n",
       "      <td>0023_01</td>\n",
       "      <td>F/5/S</td>\n",
       "      <td>Brence Harperez</td>\n",
       "      <td>23</td>\n",
       "      <td>1</td>\n",
       "      <td>F</td>\n",
       "      <td>5</td>\n",
       "      <td>S</td>\n",
       "      <td>15</td>\n",
       "      <td>1</td>\n",
       "    </tr>\n",
       "    <tr>\n",
       "      <th>...</th>\n",
       "      <td>...</td>\n",
       "      <td>...</td>\n",
       "      <td>...</td>\n",
       "      <td>...</td>\n",
       "      <td>...</td>\n",
       "      <td>...</td>\n",
       "      <td>...</td>\n",
       "      <td>...</td>\n",
       "      <td>...</td>\n",
       "      <td>...</td>\n",
       "    </tr>\n",
       "    <tr>\n",
       "      <th>4272</th>\n",
       "      <td>9266_02</td>\n",
       "      <td>G/1496/S</td>\n",
       "      <td>Jeron Peter</td>\n",
       "      <td>9266</td>\n",
       "      <td>2</td>\n",
       "      <td>G</td>\n",
       "      <td>1496</td>\n",
       "      <td>S</td>\n",
       "      <td>11</td>\n",
       "      <td>2</td>\n",
       "    </tr>\n",
       "    <tr>\n",
       "      <th>4273</th>\n",
       "      <td>9269_01</td>\n",
       "      <td>G/1498/S</td>\n",
       "      <td>Matty Scheron</td>\n",
       "      <td>9269</td>\n",
       "      <td>1</td>\n",
       "      <td>G</td>\n",
       "      <td>1498</td>\n",
       "      <td>S</td>\n",
       "      <td>13</td>\n",
       "      <td>1</td>\n",
       "    </tr>\n",
       "    <tr>\n",
       "      <th>4274</th>\n",
       "      <td>9271_01</td>\n",
       "      <td>D/296/P</td>\n",
       "      <td>Jayrin Pore</td>\n",
       "      <td>9271</td>\n",
       "      <td>1</td>\n",
       "      <td>D</td>\n",
       "      <td>296</td>\n",
       "      <td>P</td>\n",
       "      <td>11</td>\n",
       "      <td>1</td>\n",
       "    </tr>\n",
       "    <tr>\n",
       "      <th>4275</th>\n",
       "      <td>9273_01</td>\n",
       "      <td>D/297/P</td>\n",
       "      <td>Kitakan Conale</td>\n",
       "      <td>9273</td>\n",
       "      <td>1</td>\n",
       "      <td>D</td>\n",
       "      <td>297</td>\n",
       "      <td>P</td>\n",
       "      <td>14</td>\n",
       "      <td>1</td>\n",
       "    </tr>\n",
       "    <tr>\n",
       "      <th>4276</th>\n",
       "      <td>9277_01</td>\n",
       "      <td>G/1498/S</td>\n",
       "      <td>Lilace Leonzaley</td>\n",
       "      <td>9277</td>\n",
       "      <td>1</td>\n",
       "      <td>G</td>\n",
       "      <td>1498</td>\n",
       "      <td>S</td>\n",
       "      <td>16</td>\n",
       "      <td>1</td>\n",
       "    </tr>\n",
       "  </tbody>\n",
       "</table>\n",
       "<p>4277 rows × 10 columns</p>\n",
       "</div>"
      ],
      "text/plain": [
       "     PassengerId     Cabin              Name  Group_id  Member_id Deck  \\\n",
       "0        0013_01     G/3/S   Nelly Carsoning        13          1    G   \n",
       "1        0018_01     F/4/S    Lerome Peckers        18          1    F   \n",
       "2        0019_01     C/0/S   Sabih Unhearfus        19          1    C   \n",
       "3        0021_01     C/1/S  Meratz Caltilter        21          1    C   \n",
       "4        0023_01     F/5/S   Brence Harperez        23          1    F   \n",
       "...          ...       ...               ...       ...        ...  ...   \n",
       "4272     9266_02  G/1496/S       Jeron Peter      9266          2    G   \n",
       "4273     9269_01  G/1498/S     Matty Scheron      9269          1    G   \n",
       "4274     9271_01   D/296/P       Jayrin Pore      9271          1    D   \n",
       "4275     9273_01   D/297/P    Kitakan Conale      9273          1    D   \n",
       "4276     9277_01  G/1498/S  Lilace Leonzaley      9277          1    G   \n",
       "\n",
       "      Cabin_Num Cabin_side  Name_Length  Group_members  \n",
       "0             3          S           15              1  \n",
       "1             4          S           14              1  \n",
       "2             0          S           15              1  \n",
       "3             1          S           16              1  \n",
       "4             5          S           15              1  \n",
       "...         ...        ...          ...            ...  \n",
       "4272       1496          S           11              2  \n",
       "4273       1498          S           13              1  \n",
       "4274        296          P           11              1  \n",
       "4275        297          P           14              1  \n",
       "4276       1498          S           16              1  \n",
       "\n",
       "[4277 rows x 10 columns]"
      ]
     },
     "execution_count": 1339,
     "metadata": {},
     "output_type": "execute_result"
    }
   ],
   "source": [
    "test_saved"
   ]
  },
  {
   "cell_type": "code",
   "execution_count": 1340,
   "metadata": {},
   "outputs": [
    {
     "data": {
      "text/html": [
       "<div>\n",
       "<style scoped>\n",
       "    .dataframe tbody tr th:only-of-type {\n",
       "        vertical-align: middle;\n",
       "    }\n",
       "\n",
       "    .dataframe tbody tr th {\n",
       "        vertical-align: top;\n",
       "    }\n",
       "\n",
       "    .dataframe thead th {\n",
       "        text-align: right;\n",
       "    }\n",
       "</style>\n",
       "<table border=\"1\" class=\"dataframe\">\n",
       "  <thead>\n",
       "    <tr style=\"text-align: right;\">\n",
       "      <th></th>\n",
       "      <th>PassengerId</th>\n",
       "      <th>Cabin</th>\n",
       "      <th>Name</th>\n",
       "      <th>Group_id</th>\n",
       "      <th>Member_id</th>\n",
       "      <th>Deck</th>\n",
       "      <th>Cabin_Num</th>\n",
       "      <th>Cabin_side</th>\n",
       "      <th>Name_Length</th>\n",
       "      <th>Group_members</th>\n",
       "    </tr>\n",
       "  </thead>\n",
       "  <tbody>\n",
       "    <tr>\n",
       "      <th>0</th>\n",
       "      <td>0001_01</td>\n",
       "      <td>B/0/P</td>\n",
       "      <td>Maham Ofracculy</td>\n",
       "      <td>1</td>\n",
       "      <td>1</td>\n",
       "      <td>B</td>\n",
       "      <td>0</td>\n",
       "      <td>P</td>\n",
       "      <td>15</td>\n",
       "      <td>1</td>\n",
       "    </tr>\n",
       "    <tr>\n",
       "      <th>1</th>\n",
       "      <td>0002_01</td>\n",
       "      <td>F/0/S</td>\n",
       "      <td>Juanna Vines</td>\n",
       "      <td>2</td>\n",
       "      <td>1</td>\n",
       "      <td>F</td>\n",
       "      <td>0</td>\n",
       "      <td>S</td>\n",
       "      <td>12</td>\n",
       "      <td>1</td>\n",
       "    </tr>\n",
       "    <tr>\n",
       "      <th>2</th>\n",
       "      <td>0003_01</td>\n",
       "      <td>A/0/S</td>\n",
       "      <td>Altark Susent</td>\n",
       "      <td>3</td>\n",
       "      <td>1</td>\n",
       "      <td>A</td>\n",
       "      <td>0</td>\n",
       "      <td>S</td>\n",
       "      <td>13</td>\n",
       "      <td>2</td>\n",
       "    </tr>\n",
       "    <tr>\n",
       "      <th>3</th>\n",
       "      <td>0003_02</td>\n",
       "      <td>A/0/S</td>\n",
       "      <td>Solam Susent</td>\n",
       "      <td>3</td>\n",
       "      <td>2</td>\n",
       "      <td>A</td>\n",
       "      <td>0</td>\n",
       "      <td>S</td>\n",
       "      <td>12</td>\n",
       "      <td>2</td>\n",
       "    </tr>\n",
       "    <tr>\n",
       "      <th>4</th>\n",
       "      <td>0004_01</td>\n",
       "      <td>F/1/S</td>\n",
       "      <td>Willy Santantines</td>\n",
       "      <td>4</td>\n",
       "      <td>1</td>\n",
       "      <td>F</td>\n",
       "      <td>1</td>\n",
       "      <td>S</td>\n",
       "      <td>17</td>\n",
       "      <td>1</td>\n",
       "    </tr>\n",
       "    <tr>\n",
       "      <th>...</th>\n",
       "      <td>...</td>\n",
       "      <td>...</td>\n",
       "      <td>...</td>\n",
       "      <td>...</td>\n",
       "      <td>...</td>\n",
       "      <td>...</td>\n",
       "      <td>...</td>\n",
       "      <td>...</td>\n",
       "      <td>...</td>\n",
       "      <td>...</td>\n",
       "    </tr>\n",
       "    <tr>\n",
       "      <th>8688</th>\n",
       "      <td>9276_01</td>\n",
       "      <td>A/98/P</td>\n",
       "      <td>Gravior Noxnuther</td>\n",
       "      <td>9276</td>\n",
       "      <td>1</td>\n",
       "      <td>A</td>\n",
       "      <td>98</td>\n",
       "      <td>P</td>\n",
       "      <td>17</td>\n",
       "      <td>1</td>\n",
       "    </tr>\n",
       "    <tr>\n",
       "      <th>8689</th>\n",
       "      <td>9278_01</td>\n",
       "      <td>G/1499/S</td>\n",
       "      <td>Kurta Mondalley</td>\n",
       "      <td>9278</td>\n",
       "      <td>1</td>\n",
       "      <td>G</td>\n",
       "      <td>1499</td>\n",
       "      <td>S</td>\n",
       "      <td>15</td>\n",
       "      <td>1</td>\n",
       "    </tr>\n",
       "    <tr>\n",
       "      <th>8690</th>\n",
       "      <td>9279_01</td>\n",
       "      <td>G/1500/S</td>\n",
       "      <td>Fayey Connon</td>\n",
       "      <td>9279</td>\n",
       "      <td>1</td>\n",
       "      <td>G</td>\n",
       "      <td>1500</td>\n",
       "      <td>S</td>\n",
       "      <td>12</td>\n",
       "      <td>1</td>\n",
       "    </tr>\n",
       "    <tr>\n",
       "      <th>8691</th>\n",
       "      <td>9280_01</td>\n",
       "      <td>E/608/S</td>\n",
       "      <td>Celeon Hontichre</td>\n",
       "      <td>9280</td>\n",
       "      <td>1</td>\n",
       "      <td>E</td>\n",
       "      <td>608</td>\n",
       "      <td>S</td>\n",
       "      <td>16</td>\n",
       "      <td>2</td>\n",
       "    </tr>\n",
       "    <tr>\n",
       "      <th>8692</th>\n",
       "      <td>9280_02</td>\n",
       "      <td>E/608/S</td>\n",
       "      <td>Propsh Hontichre</td>\n",
       "      <td>9280</td>\n",
       "      <td>2</td>\n",
       "      <td>E</td>\n",
       "      <td>608</td>\n",
       "      <td>S</td>\n",
       "      <td>16</td>\n",
       "      <td>2</td>\n",
       "    </tr>\n",
       "  </tbody>\n",
       "</table>\n",
       "<p>8693 rows × 10 columns</p>\n",
       "</div>"
      ],
      "text/plain": [
       "     PassengerId     Cabin               Name  Group_id  Member_id Deck  \\\n",
       "0        0001_01     B/0/P    Maham Ofracculy         1          1    B   \n",
       "1        0002_01     F/0/S       Juanna Vines         2          1    F   \n",
       "2        0003_01     A/0/S      Altark Susent         3          1    A   \n",
       "3        0003_02     A/0/S       Solam Susent         3          2    A   \n",
       "4        0004_01     F/1/S  Willy Santantines         4          1    F   \n",
       "...          ...       ...                ...       ...        ...  ...   \n",
       "8688     9276_01    A/98/P  Gravior Noxnuther      9276          1    A   \n",
       "8689     9278_01  G/1499/S    Kurta Mondalley      9278          1    G   \n",
       "8690     9279_01  G/1500/S       Fayey Connon      9279          1    G   \n",
       "8691     9280_01   E/608/S   Celeon Hontichre      9280          1    E   \n",
       "8692     9280_02   E/608/S   Propsh Hontichre      9280          2    E   \n",
       "\n",
       "      Cabin_Num Cabin_side  Name_Length  Group_members  \n",
       "0             0          P           15              1  \n",
       "1             0          S           12              1  \n",
       "2             0          S           13              2  \n",
       "3             0          S           12              2  \n",
       "4             1          S           17              1  \n",
       "...         ...        ...          ...            ...  \n",
       "8688         98          P           17              1  \n",
       "8689       1499          S           15              1  \n",
       "8690       1500          S           12              1  \n",
       "8691        608          S           16              2  \n",
       "8692        608          S           16              2  \n",
       "\n",
       "[8693 rows x 10 columns]"
      ]
     },
     "execution_count": 1340,
     "metadata": {},
     "output_type": "execute_result"
    }
   ],
   "source": [
    "train_saved"
   ]
  },
  {
   "cell_type": "code",
   "execution_count": 1341,
   "metadata": {},
   "outputs": [
    {
     "data": {
      "application/vnd.jupyter.widget-view+json": {
       "model_id": "8e23b719874f4f7781aab591f3a43b31",
       "version_major": 2,
       "version_minor": 0
      },
      "text/plain": [
       "Summarize dataset:   0%|          | 0/5 [00:00<?, ?it/s]"
      ]
     },
     "metadata": {},
     "output_type": "display_data"
    },
    {
     "data": {
      "application/vnd.jupyter.widget-view+json": {
       "model_id": "c033b473f0ec49a382981fc7dfa06d25",
       "version_major": 2,
       "version_minor": 0
      },
      "text/plain": [
       "Generate report structure:   0%|          | 0/1 [00:00<?, ?it/s]"
      ]
     },
     "metadata": {},
     "output_type": "display_data"
    },
    {
     "data": {
      "application/vnd.jupyter.widget-view+json": {
       "model_id": "0fc03b6b2fa147e7be88efb342c342e7",
       "version_major": 2,
       "version_minor": 0
      },
      "text/plain": [
       "Render HTML:   0%|          | 0/1 [00:00<?, ?it/s]"
      ]
     },
     "metadata": {},
     "output_type": "display_data"
    },
    {
     "data": {
      "application/vnd.jupyter.widget-view+json": {
       "model_id": "eebb9c47fc294d8a814d2c0a4e359fdf",
       "version_major": 2,
       "version_minor": 0
      },
      "text/plain": [
       "Export report to file:   0%|          | 0/1 [00:00<?, ?it/s]"
      ]
     },
     "metadata": {},
     "output_type": "display_data"
    }
   ],
   "source": [
    "import pandas as pd\n",
    "from pandas_profiling import profile_report\n",
    "\n",
    "#Loading the dataset\n",
    "#Generate a report\n",
    "profile = profile_report.ProfileReport(train_saved) #minimal == true can be used to reduce the output data stream\n",
    "profile.to_file(output_file = \"Reports/train_saved_cols.html\")\n"
   ]
  },
  {
   "cell_type": "markdown",
   "metadata": {},
   "source": [
    "### Encoding Generated Columns"
   ]
  },
  {
   "cell_type": "code",
   "execution_count": 1342,
   "metadata": {},
   "outputs": [],
   "source": [
    "train_saved['Deck_fact'], lables = pd.factorize(train_saved['Deck'], sort = True)\n",
    "test_saved['Deck_fact'], lables = pd.factorize(test_saved['Deck'], sort = True)\n",
    "# train_saved['Deck','Deck_fact']\n",
    "\n",
    "train_saved['Cabin_side_fact'], lables = pd.factorize(train_saved['Cabin_side'], sort = True)\n",
    "test_saved['Cabin_side_fact'], lables = pd.factorize(test_saved['Cabin_side'], sort = True)\n",
    "\n"
   ]
  },
  {
   "cell_type": "code",
   "execution_count": 1343,
   "metadata": {},
   "outputs": [
    {
     "data": {
      "text/html": [
       "<div>\n",
       "<style scoped>\n",
       "    .dataframe tbody tr th:only-of-type {\n",
       "        vertical-align: middle;\n",
       "    }\n",
       "\n",
       "    .dataframe tbody tr th {\n",
       "        vertical-align: top;\n",
       "    }\n",
       "\n",
       "    .dataframe thead th {\n",
       "        text-align: right;\n",
       "    }\n",
       "</style>\n",
       "<table border=\"1\" class=\"dataframe\">\n",
       "  <thead>\n",
       "    <tr style=\"text-align: right;\">\n",
       "      <th></th>\n",
       "      <th>PassengerId</th>\n",
       "      <th>Cabin</th>\n",
       "      <th>Name</th>\n",
       "      <th>Group_id</th>\n",
       "      <th>Member_id</th>\n",
       "      <th>Deck</th>\n",
       "      <th>Cabin_Num</th>\n",
       "      <th>Cabin_side</th>\n",
       "      <th>Name_Length</th>\n",
       "      <th>Group_members</th>\n",
       "      <th>Deck_fact</th>\n",
       "      <th>Cabin_side_fact</th>\n",
       "    </tr>\n",
       "  </thead>\n",
       "  <tbody>\n",
       "    <tr>\n",
       "      <th>0</th>\n",
       "      <td>0013_01</td>\n",
       "      <td>G/3/S</td>\n",
       "      <td>Nelly Carsoning</td>\n",
       "      <td>13</td>\n",
       "      <td>1</td>\n",
       "      <td>G</td>\n",
       "      <td>3</td>\n",
       "      <td>S</td>\n",
       "      <td>15</td>\n",
       "      <td>1</td>\n",
       "      <td>6</td>\n",
       "      <td>1</td>\n",
       "    </tr>\n",
       "    <tr>\n",
       "      <th>1</th>\n",
       "      <td>0018_01</td>\n",
       "      <td>F/4/S</td>\n",
       "      <td>Lerome Peckers</td>\n",
       "      <td>18</td>\n",
       "      <td>1</td>\n",
       "      <td>F</td>\n",
       "      <td>4</td>\n",
       "      <td>S</td>\n",
       "      <td>14</td>\n",
       "      <td>1</td>\n",
       "      <td>5</td>\n",
       "      <td>1</td>\n",
       "    </tr>\n",
       "    <tr>\n",
       "      <th>2</th>\n",
       "      <td>0019_01</td>\n",
       "      <td>C/0/S</td>\n",
       "      <td>Sabih Unhearfus</td>\n",
       "      <td>19</td>\n",
       "      <td>1</td>\n",
       "      <td>C</td>\n",
       "      <td>0</td>\n",
       "      <td>S</td>\n",
       "      <td>15</td>\n",
       "      <td>1</td>\n",
       "      <td>2</td>\n",
       "      <td>1</td>\n",
       "    </tr>\n",
       "    <tr>\n",
       "      <th>3</th>\n",
       "      <td>0021_01</td>\n",
       "      <td>C/1/S</td>\n",
       "      <td>Meratz Caltilter</td>\n",
       "      <td>21</td>\n",
       "      <td>1</td>\n",
       "      <td>C</td>\n",
       "      <td>1</td>\n",
       "      <td>S</td>\n",
       "      <td>16</td>\n",
       "      <td>1</td>\n",
       "      <td>2</td>\n",
       "      <td>1</td>\n",
       "    </tr>\n",
       "    <tr>\n",
       "      <th>4</th>\n",
       "      <td>0023_01</td>\n",
       "      <td>F/5/S</td>\n",
       "      <td>Brence Harperez</td>\n",
       "      <td>23</td>\n",
       "      <td>1</td>\n",
       "      <td>F</td>\n",
       "      <td>5</td>\n",
       "      <td>S</td>\n",
       "      <td>15</td>\n",
       "      <td>1</td>\n",
       "      <td>5</td>\n",
       "      <td>1</td>\n",
       "    </tr>\n",
       "    <tr>\n",
       "      <th>...</th>\n",
       "      <td>...</td>\n",
       "      <td>...</td>\n",
       "      <td>...</td>\n",
       "      <td>...</td>\n",
       "      <td>...</td>\n",
       "      <td>...</td>\n",
       "      <td>...</td>\n",
       "      <td>...</td>\n",
       "      <td>...</td>\n",
       "      <td>...</td>\n",
       "      <td>...</td>\n",
       "      <td>...</td>\n",
       "    </tr>\n",
       "    <tr>\n",
       "      <th>4272</th>\n",
       "      <td>9266_02</td>\n",
       "      <td>G/1496/S</td>\n",
       "      <td>Jeron Peter</td>\n",
       "      <td>9266</td>\n",
       "      <td>2</td>\n",
       "      <td>G</td>\n",
       "      <td>1496</td>\n",
       "      <td>S</td>\n",
       "      <td>11</td>\n",
       "      <td>2</td>\n",
       "      <td>6</td>\n",
       "      <td>1</td>\n",
       "    </tr>\n",
       "    <tr>\n",
       "      <th>4273</th>\n",
       "      <td>9269_01</td>\n",
       "      <td>G/1498/S</td>\n",
       "      <td>Matty Scheron</td>\n",
       "      <td>9269</td>\n",
       "      <td>1</td>\n",
       "      <td>G</td>\n",
       "      <td>1498</td>\n",
       "      <td>S</td>\n",
       "      <td>13</td>\n",
       "      <td>1</td>\n",
       "      <td>6</td>\n",
       "      <td>1</td>\n",
       "    </tr>\n",
       "    <tr>\n",
       "      <th>4274</th>\n",
       "      <td>9271_01</td>\n",
       "      <td>D/296/P</td>\n",
       "      <td>Jayrin Pore</td>\n",
       "      <td>9271</td>\n",
       "      <td>1</td>\n",
       "      <td>D</td>\n",
       "      <td>296</td>\n",
       "      <td>P</td>\n",
       "      <td>11</td>\n",
       "      <td>1</td>\n",
       "      <td>3</td>\n",
       "      <td>0</td>\n",
       "    </tr>\n",
       "    <tr>\n",
       "      <th>4275</th>\n",
       "      <td>9273_01</td>\n",
       "      <td>D/297/P</td>\n",
       "      <td>Kitakan Conale</td>\n",
       "      <td>9273</td>\n",
       "      <td>1</td>\n",
       "      <td>D</td>\n",
       "      <td>297</td>\n",
       "      <td>P</td>\n",
       "      <td>14</td>\n",
       "      <td>1</td>\n",
       "      <td>3</td>\n",
       "      <td>0</td>\n",
       "    </tr>\n",
       "    <tr>\n",
       "      <th>4276</th>\n",
       "      <td>9277_01</td>\n",
       "      <td>G/1498/S</td>\n",
       "      <td>Lilace Leonzaley</td>\n",
       "      <td>9277</td>\n",
       "      <td>1</td>\n",
       "      <td>G</td>\n",
       "      <td>1498</td>\n",
       "      <td>S</td>\n",
       "      <td>16</td>\n",
       "      <td>1</td>\n",
       "      <td>6</td>\n",
       "      <td>1</td>\n",
       "    </tr>\n",
       "  </tbody>\n",
       "</table>\n",
       "<p>4277 rows × 12 columns</p>\n",
       "</div>"
      ],
      "text/plain": [
       "     PassengerId     Cabin              Name  Group_id  Member_id Deck  \\\n",
       "0        0013_01     G/3/S   Nelly Carsoning        13          1    G   \n",
       "1        0018_01     F/4/S    Lerome Peckers        18          1    F   \n",
       "2        0019_01     C/0/S   Sabih Unhearfus        19          1    C   \n",
       "3        0021_01     C/1/S  Meratz Caltilter        21          1    C   \n",
       "4        0023_01     F/5/S   Brence Harperez        23          1    F   \n",
       "...          ...       ...               ...       ...        ...  ...   \n",
       "4272     9266_02  G/1496/S       Jeron Peter      9266          2    G   \n",
       "4273     9269_01  G/1498/S     Matty Scheron      9269          1    G   \n",
       "4274     9271_01   D/296/P       Jayrin Pore      9271          1    D   \n",
       "4275     9273_01   D/297/P    Kitakan Conale      9273          1    D   \n",
       "4276     9277_01  G/1498/S  Lilace Leonzaley      9277          1    G   \n",
       "\n",
       "      Cabin_Num Cabin_side  Name_Length  Group_members  Deck_fact  \\\n",
       "0             3          S           15              1          6   \n",
       "1             4          S           14              1          5   \n",
       "2             0          S           15              1          2   \n",
       "3             1          S           16              1          2   \n",
       "4             5          S           15              1          5   \n",
       "...         ...        ...          ...            ...        ...   \n",
       "4272       1496          S           11              2          6   \n",
       "4273       1498          S           13              1          6   \n",
       "4274        296          P           11              1          3   \n",
       "4275        297          P           14              1          3   \n",
       "4276       1498          S           16              1          6   \n",
       "\n",
       "      Cabin_side_fact  \n",
       "0                   1  \n",
       "1                   1  \n",
       "2                   1  \n",
       "3                   1  \n",
       "4                   1  \n",
       "...               ...  \n",
       "4272                1  \n",
       "4273                1  \n",
       "4274                0  \n",
       "4275                0  \n",
       "4276                1  \n",
       "\n",
       "[4277 rows x 12 columns]"
      ]
     },
     "execution_count": 1343,
     "metadata": {},
     "output_type": "execute_result"
    }
   ],
   "source": [
    "test_saved"
   ]
  },
  {
   "cell_type": "code",
   "execution_count": null,
   "metadata": {},
   "outputs": [],
   "source": []
  },
  {
   "cell_type": "code",
   "execution_count": null,
   "metadata": {},
   "outputs": [],
   "source": []
  },
  {
   "cell_type": "code",
   "execution_count": 1344,
   "metadata": {},
   "outputs": [
    {
     "data": {
      "text/html": [
       "<div>\n",
       "<style scoped>\n",
       "    .dataframe tbody tr th:only-of-type {\n",
       "        vertical-align: middle;\n",
       "    }\n",
       "\n",
       "    .dataframe tbody tr th {\n",
       "        vertical-align: top;\n",
       "    }\n",
       "\n",
       "    .dataframe thead th {\n",
       "        text-align: right;\n",
       "    }\n",
       "</style>\n",
       "<table border=\"1\" class=\"dataframe\">\n",
       "  <thead>\n",
       "    <tr style=\"text-align: right;\">\n",
       "      <th></th>\n",
       "      <th>PassengerId</th>\n",
       "      <th>Cabin</th>\n",
       "      <th>Name</th>\n",
       "      <th>Group_id</th>\n",
       "      <th>Member_id</th>\n",
       "      <th>Deck</th>\n",
       "      <th>Cabin_Num</th>\n",
       "      <th>Cabin_side</th>\n",
       "      <th>Name_Length</th>\n",
       "      <th>Group_members</th>\n",
       "      <th>Deck_fact</th>\n",
       "      <th>Cabin_side_fact</th>\n",
       "    </tr>\n",
       "  </thead>\n",
       "  <tbody>\n",
       "    <tr>\n",
       "      <th>0</th>\n",
       "      <td>0001_01</td>\n",
       "      <td>B/0/P</td>\n",
       "      <td>Maham Ofracculy</td>\n",
       "      <td>1</td>\n",
       "      <td>1</td>\n",
       "      <td>B</td>\n",
       "      <td>0</td>\n",
       "      <td>P</td>\n",
       "      <td>15</td>\n",
       "      <td>1</td>\n",
       "      <td>1</td>\n",
       "      <td>0</td>\n",
       "    </tr>\n",
       "    <tr>\n",
       "      <th>1</th>\n",
       "      <td>0002_01</td>\n",
       "      <td>F/0/S</td>\n",
       "      <td>Juanna Vines</td>\n",
       "      <td>2</td>\n",
       "      <td>1</td>\n",
       "      <td>F</td>\n",
       "      <td>0</td>\n",
       "      <td>S</td>\n",
       "      <td>12</td>\n",
       "      <td>1</td>\n",
       "      <td>5</td>\n",
       "      <td>1</td>\n",
       "    </tr>\n",
       "    <tr>\n",
       "      <th>2</th>\n",
       "      <td>0003_01</td>\n",
       "      <td>A/0/S</td>\n",
       "      <td>Altark Susent</td>\n",
       "      <td>3</td>\n",
       "      <td>1</td>\n",
       "      <td>A</td>\n",
       "      <td>0</td>\n",
       "      <td>S</td>\n",
       "      <td>13</td>\n",
       "      <td>2</td>\n",
       "      <td>0</td>\n",
       "      <td>1</td>\n",
       "    </tr>\n",
       "    <tr>\n",
       "      <th>3</th>\n",
       "      <td>0003_02</td>\n",
       "      <td>A/0/S</td>\n",
       "      <td>Solam Susent</td>\n",
       "      <td>3</td>\n",
       "      <td>2</td>\n",
       "      <td>A</td>\n",
       "      <td>0</td>\n",
       "      <td>S</td>\n",
       "      <td>12</td>\n",
       "      <td>2</td>\n",
       "      <td>0</td>\n",
       "      <td>1</td>\n",
       "    </tr>\n",
       "    <tr>\n",
       "      <th>4</th>\n",
       "      <td>0004_01</td>\n",
       "      <td>F/1/S</td>\n",
       "      <td>Willy Santantines</td>\n",
       "      <td>4</td>\n",
       "      <td>1</td>\n",
       "      <td>F</td>\n",
       "      <td>1</td>\n",
       "      <td>S</td>\n",
       "      <td>17</td>\n",
       "      <td>1</td>\n",
       "      <td>5</td>\n",
       "      <td>1</td>\n",
       "    </tr>\n",
       "    <tr>\n",
       "      <th>...</th>\n",
       "      <td>...</td>\n",
       "      <td>...</td>\n",
       "      <td>...</td>\n",
       "      <td>...</td>\n",
       "      <td>...</td>\n",
       "      <td>...</td>\n",
       "      <td>...</td>\n",
       "      <td>...</td>\n",
       "      <td>...</td>\n",
       "      <td>...</td>\n",
       "      <td>...</td>\n",
       "      <td>...</td>\n",
       "    </tr>\n",
       "    <tr>\n",
       "      <th>8688</th>\n",
       "      <td>9276_01</td>\n",
       "      <td>A/98/P</td>\n",
       "      <td>Gravior Noxnuther</td>\n",
       "      <td>9276</td>\n",
       "      <td>1</td>\n",
       "      <td>A</td>\n",
       "      <td>98</td>\n",
       "      <td>P</td>\n",
       "      <td>17</td>\n",
       "      <td>1</td>\n",
       "      <td>0</td>\n",
       "      <td>0</td>\n",
       "    </tr>\n",
       "    <tr>\n",
       "      <th>8689</th>\n",
       "      <td>9278_01</td>\n",
       "      <td>G/1499/S</td>\n",
       "      <td>Kurta Mondalley</td>\n",
       "      <td>9278</td>\n",
       "      <td>1</td>\n",
       "      <td>G</td>\n",
       "      <td>1499</td>\n",
       "      <td>S</td>\n",
       "      <td>15</td>\n",
       "      <td>1</td>\n",
       "      <td>6</td>\n",
       "      <td>1</td>\n",
       "    </tr>\n",
       "    <tr>\n",
       "      <th>8690</th>\n",
       "      <td>9279_01</td>\n",
       "      <td>G/1500/S</td>\n",
       "      <td>Fayey Connon</td>\n",
       "      <td>9279</td>\n",
       "      <td>1</td>\n",
       "      <td>G</td>\n",
       "      <td>1500</td>\n",
       "      <td>S</td>\n",
       "      <td>12</td>\n",
       "      <td>1</td>\n",
       "      <td>6</td>\n",
       "      <td>1</td>\n",
       "    </tr>\n",
       "    <tr>\n",
       "      <th>8691</th>\n",
       "      <td>9280_01</td>\n",
       "      <td>E/608/S</td>\n",
       "      <td>Celeon Hontichre</td>\n",
       "      <td>9280</td>\n",
       "      <td>1</td>\n",
       "      <td>E</td>\n",
       "      <td>608</td>\n",
       "      <td>S</td>\n",
       "      <td>16</td>\n",
       "      <td>2</td>\n",
       "      <td>4</td>\n",
       "      <td>1</td>\n",
       "    </tr>\n",
       "    <tr>\n",
       "      <th>8692</th>\n",
       "      <td>9280_02</td>\n",
       "      <td>E/608/S</td>\n",
       "      <td>Propsh Hontichre</td>\n",
       "      <td>9280</td>\n",
       "      <td>2</td>\n",
       "      <td>E</td>\n",
       "      <td>608</td>\n",
       "      <td>S</td>\n",
       "      <td>16</td>\n",
       "      <td>2</td>\n",
       "      <td>4</td>\n",
       "      <td>1</td>\n",
       "    </tr>\n",
       "  </tbody>\n",
       "</table>\n",
       "<p>8693 rows × 12 columns</p>\n",
       "</div>"
      ],
      "text/plain": [
       "     PassengerId     Cabin               Name  Group_id  Member_id Deck  \\\n",
       "0        0001_01     B/0/P    Maham Ofracculy         1          1    B   \n",
       "1        0002_01     F/0/S       Juanna Vines         2          1    F   \n",
       "2        0003_01     A/0/S      Altark Susent         3          1    A   \n",
       "3        0003_02     A/0/S       Solam Susent         3          2    A   \n",
       "4        0004_01     F/1/S  Willy Santantines         4          1    F   \n",
       "...          ...       ...                ...       ...        ...  ...   \n",
       "8688     9276_01    A/98/P  Gravior Noxnuther      9276          1    A   \n",
       "8689     9278_01  G/1499/S    Kurta Mondalley      9278          1    G   \n",
       "8690     9279_01  G/1500/S       Fayey Connon      9279          1    G   \n",
       "8691     9280_01   E/608/S   Celeon Hontichre      9280          1    E   \n",
       "8692     9280_02   E/608/S   Propsh Hontichre      9280          2    E   \n",
       "\n",
       "      Cabin_Num Cabin_side  Name_Length  Group_members  Deck_fact  \\\n",
       "0             0          P           15              1          1   \n",
       "1             0          S           12              1          5   \n",
       "2             0          S           13              2          0   \n",
       "3             0          S           12              2          0   \n",
       "4             1          S           17              1          5   \n",
       "...         ...        ...          ...            ...        ...   \n",
       "8688         98          P           17              1          0   \n",
       "8689       1499          S           15              1          6   \n",
       "8690       1500          S           12              1          6   \n",
       "8691        608          S           16              2          4   \n",
       "8692        608          S           16              2          4   \n",
       "\n",
       "      Cabin_side_fact  \n",
       "0                   0  \n",
       "1                   1  \n",
       "2                   1  \n",
       "3                   1  \n",
       "4                   1  \n",
       "...               ...  \n",
       "8688                0  \n",
       "8689                1  \n",
       "8690                1  \n",
       "8691                1  \n",
       "8692                1  \n",
       "\n",
       "[8693 rows x 12 columns]"
      ]
     },
     "execution_count": 1344,
     "metadata": {},
     "output_type": "execute_result"
    }
   ],
   "source": [
    "train_saved"
   ]
  },
  {
   "cell_type": "markdown",
   "metadata": {},
   "source": [
    "### Feature Transformations"
   ]
  },
  {
   "cell_type": "code",
   "execution_count": null,
   "metadata": {},
   "outputs": [],
   "source": []
  }
 ],
 "metadata": {
  "kernelspec": {
   "display_name": "Python 3.9.7 64-bit",
   "language": "python",
   "name": "python3"
  },
  "language_info": {
   "codemirror_mode": {
    "name": "ipython",
    "version": 3
   },
   "file_extension": ".py",
   "mimetype": "text/x-python",
   "name": "python",
   "nbconvert_exporter": "python",
   "pygments_lexer": "ipython3",
   "version": "3.9.7"
  },
  "orig_nbformat": 4,
  "vscode": {
   "interpreter": {
    "hash": "941096ab4a304f3509822dba92ee1d36e30c4bf17f0e34fdfd12300d4a2ccfca"
   }
  }
 },
 "nbformat": 4,
 "nbformat_minor": 2
}
